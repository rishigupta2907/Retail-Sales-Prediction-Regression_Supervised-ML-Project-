{
  "nbformat": 4,
  "nbformat_minor": 0,
  "metadata": {
    "colab": {
      "provenance": [],
      "collapsed_sections": [
        "-Kee-DAl2viO",
        "gIfDvo9L0UH2"
      ],
      "include_colab_link": true
    },
    "kernelspec": {
      "name": "python3",
      "display_name": "Python 3"
    },
    "language_info": {
      "name": "python"
    },
    "gpuClass": "standard"
  },
  "cells": [
    {
      "cell_type": "markdown",
      "metadata": {
        "id": "view-in-github",
        "colab_type": "text"
      },
      "source": [
        "<a href=\"https://colab.research.google.com/github/rishigupta2907/Retail-Sales-Prediction-Regression_Supervised-ML-Project-/blob/main/Rishi_%7C_Retail_Sales_Predication_ML_project_.ipynb\" target=\"_parent\"><img src=\"https://colab.research.google.com/assets/colab-badge.svg\" alt=\"Open In Colab\"/></a>"
      ]
    },
    {
      "cell_type": "markdown",
      "source": [
        "# **Project Name**    - \n",
        "\n"
      ],
      "metadata": {
        "id": "vncDsAP0Gaoa"
      }
    },
    {
      "cell_type": "markdown",
      "source": [
        "##### **Project Type**    - EDA/Regression/Classification/Unsupervised\n",
        "##### **Contribution**    - Individual/Team\n",
        "##### **Team Member 1 -**Rishi Gupta\n",
        "##### **Team Member 2 -**Sumana Mondal\n",
        "##### **Team Member 3 -**Jitendra Sonkar\n",
        "##### **Team Member 4 -**Ankit Mishra\n",
        "##### **Team Member 5 -** Mayank Sinha"
      ],
      "metadata": {
        "id": "beRrZCGUAJYm"
      }
    },
    {
      "cell_type": "markdown",
      "source": [
        "# **Project Summary -**"
      ],
      "metadata": {
        "id": "FJNUwmbgGyua"
      }
    },
    {
      "cell_type": "markdown",
      "source": [
        "This dataset is a live dataset of Roseman Stores. On analsysing this problem we observe that Roseman problem is a regression problem and our primarily goal is to predict the sales figures of Roseman problem. In this Notebook we work on following topics\n",
        "\n",
        "Analysing the Dataset by using Exploratory Data Analysis. Using Exponential Moving Averages analyse Trends and Seasonality in Roseman dataset. Analyse Regression analysis using following prediction analysis, A. Linear Regression Analysis B. Elastic Regression ( Lasso and Ridge Regression). C. Random Forest Regression. d.adaboost and Xgboost).\n",
        "\n",
        "By applying above algorthim we find accuracy of 98% by Xgboost."
      ],
      "metadata": {
        "id": "F6v_1wHtG2nS"
      }
    },
    {
      "cell_type": "markdown",
      "source": [
        "# **GitHub Link -**"
      ],
      "metadata": {
        "id": "w6K7xa23Elo4"
      }
    },
    {
      "cell_type": "markdown",
      "source": [
        "Provide your GitHub Link here."
      ],
      "metadata": {
        "id": "h1o69JH3Eqqn"
      }
    },
    {
      "cell_type": "markdown",
      "source": [
        "# **Problem Statement**\n"
      ],
      "metadata": {
        "id": "yQaldy8SH6Dl"
      }
    },
    {
      "cell_type": "markdown",
      "source": [
        "**Write Problem Statement Here.**\n",
        "\n",
        "Rossmann operates over 3,000 drug stores in 7 European countries. Currently, Rossmann store managers are tasked with predicting their daily sales for up to six weeks in advance. Store sales are influenced by many factors, including promotions, competition, school and state holidays, seasonality, and locality. With thousands of individual managers predicting sales based on their unique circumstances, the accuracy of results can be quite varied.\n",
        "You are provided with historical sales data for 1,115 Rossmann stores. The task is to forecast the \"Sales\" column for the test set. Note that some stores in the dataset were temporarily closed for refurbishment.\n",
        "Data Description\n",
        "Rossmann Stores Data.csv - historical data including Sales\n",
        "store.csv - supplemental information about the stores\n",
        "Data fields\n",
        "Most of the fields are self-explanatory.\n",
        "Id - an Id that represents a (Store, Da,,te) duple within the set\n",
        "Store - a unique Id for each store\n",
        "Sales - the turnover for any given day (Dependent Variable)\n",
        "Customers - the number of customers on a given day"
      ],
      "metadata": {
        "id": "DpeJGUA3kjGy"
      }
    },
    {
      "cell_type": "markdown",
      "source": [
        "# **Data Description**\n",
        "\n",
        "**Rossmann Stores Data.csv - historical data including Sales**\n",
        "\n",
        "**store.csv - supplemental information about the store**\n",
        "\n",
        "Data fields\n",
        "Most of the fields are self-explanatory. The following are descriptions for those that aren't.\n",
        "\n",
        "**Id** - an Id that represents a (Store, Date) duple within the test set\n",
        "\n",
        "**Store** - a unique Id for each store\n",
        "\n",
        "**Sales** - the turnover for any given day (this is what you are predicting)\n",
        "\n",
        "**Customers** - the number of customers on a given day\n",
        "\n",
        "**Open** - an indicator for whether the store was open: 0 = closed, 1 = open\n",
        "StateHoliday - indicates a state holiday. Normally all stores, with few exceptions, are closed on state holidays. Note that all schools are closed on public holidays and weekends. a = public holiday, b = Easter holiday, c = Christmas, 0 = None\n",
        "\n",
        "**SchoolHoliday** - indicates if the (Store, Date) was affected by the closure of public schools\n",
        "\n",
        "**StoreType** - differentiates between 4 different store models: a, b, c, d\n",
        "\n",
        "**Assortment** - describes an assortment level: a = basic, b = extra, c = extended\n",
        "\n",
        "**CompetitionDistance** - distance in meters to the nearest competitor store\n",
        "\n",
        "**CompetitionOpenSince[Month/Year] **- gives the approximate year and month of the time the nearest competitor was opened\n",
        "\n",
        "**Promo** - indicates whether a store is running a promo on that day\n",
        "\n",
        "**Promo2** - Promo2 is a continuing and consecutive promotion for some stores: 0 = store is not participating, 1 = store is participating\n",
        "\n",
        "**Promo2Since[Year/Week]** - describes the year and calendar week when the store started participating in Promo2\n",
        "\n",
        "**PromoInterval** - describes the consecutive intervals Promo2 is started, naming the months the promotion is started anew. E.g. \"Feb,May,Aug,Nov\" means each round starts in February, May, August, November of any given year for that store\n"
      ],
      "metadata": {
        "id": "7lHjgaHbaS-G"
      }
    },
    {
      "cell_type": "markdown",
      "source": [
        "# ***Let's Begin !***"
      ],
      "metadata": {
        "id": "O_i_v8NEhb9l"
      }
    },
    {
      "cell_type": "markdown",
      "source": [],
      "metadata": {
        "id": "iuREdJEPvyAu"
      }
    },
    {
      "cell_type": "markdown",
      "source": [
        "## ***1. Know Your Data***"
      ],
      "metadata": {
        "id": "HhfV-JJviCcP"
      }
    },
    {
      "cell_type": "markdown",
      "source": [
        "### Import Libraries"
      ],
      "metadata": {
        "id": "Y3lxredqlCYt"
      }
    },
    {
      "cell_type": "code",
      "source": [
        "import numpy as np\n",
        "import pandas as pd\n",
        "import matplotlib.pyplot as plt\n",
        "%matplotlib inline\n",
        "from datetime import datetime\n",
        "import seaborn as sns\n",
        "import plotly.express as px\n",
        "import pandas as pd\n",
        "import ast \n",
        "import math\n",
        "import random\n",
        "from scipy.stats import skew\n",
        "from statsmodels.stats.outliers_influence import variance_inflation_factor\n",
        "from sklearn.preprocessing import OneHotEncoder\n",
        "from sklearn.model_selection import train_test_split\n",
        "from sklearn.preprocessing import StandardScaler\n",
        "from sklearn.pipeline import Pipeline\n",
        "from sklearn.model_selection import GridSearchCV\n",
        "from sklearn.model_selection import RandomizedSearchCV\n",
        "from sklearn.linear_model import LinearRegression, Ridge, Lasso, ElasticNet\n",
        "from sklearn.tree import DecisionTreeRegressor\n",
        "from sklearn.ensemble import RandomForestRegressor\n",
        "import xgboost as xgb\n",
        "from sklearn.metrics import r2_score\n",
        "from sklearn.metrics import mean_squared_error\n",
        "import pickle"
      ],
      "metadata": {
        "id": "M8Vqi-pPk-HR"
      },
      "execution_count": 1,
      "outputs": []
    },
    {
      "cell_type": "markdown",
      "source": [
        "### Dataset Loading"
      ],
      "metadata": {
        "id": "3RnN4peoiCZX"
      }
    },
    {
      "cell_type": "code",
      "source": [
        "from google.colab import drive\n",
        "drive.mount('/content/drive')"
      ],
      "metadata": {
        "id": "4CkvbW_SlZ_R",
        "colab": {
          "base_uri": "https://localhost:8080/"
        },
        "outputId": "ff2fba2e-1765-45a9-b8d9-68131d51e203"
      },
      "execution_count": 2,
      "outputs": [
        {
          "output_type": "stream",
          "name": "stdout",
          "text": [
            "Mounted at /content/drive\n"
          ]
        }
      ]
    },
    {
      "cell_type": "markdown",
      "source": [
        "Dataset : - Rossmann Dataset - https://drive.google.com/file/d/1RLUf6NEpRg6sefWqt-nyqLDyMEHryxrl/view?usp=share_link\n",
        "\n",
        "Store Dataset :-https://drive.google.com/file/d/1Tu5r9A1Izhf0JabF473mmyj3jGW-RqnB/view?usp=sharing\n"
      ],
      "metadata": {
        "id": "DD60oyUoT5SU"
      }
    },
    {
      "cell_type": "code",
      "source": [
        "#Rosmann Data\n",
        "database = \"/content/drive/MyDrive/Colab Notebooks/Datasheet for Alma assigment, Project & practice/Rossmann Stores Data (1).csv\"\n",
        "sales_df =pd.read_csv(database)\n",
        "# Store data\n",
        "database = \"/content/drive/MyDrive/Colab Notebooks/Datasheet for Alma assigment, Project & practice/store (1).csv\"\n",
        "store_df =pd.read_csv(database)"
      ],
      "metadata": {
        "id": "Wpf5lJ2AwIyW",
        "colab": {
          "base_uri": "https://localhost:8080/"
        },
        "outputId": "49f55f05-68af-41b6-e6d0-ec354c8ea81f"
      },
      "execution_count": 3,
      "outputs": [
        {
          "output_type": "stream",
          "name": "stderr",
          "text": [
            "<ipython-input-3-2ce1c2be788f>:3: DtypeWarning: Columns (7) have mixed types. Specify dtype option on import or set low_memory=False.\n",
            "  sales_df =pd.read_csv(database)\n"
          ]
        }
      ]
    },
    {
      "cell_type": "markdown",
      "source": [
        "### Dataset First View"
      ],
      "metadata": {
        "id": "x71ZqKXriCWQ"
      }
    },
    {
      "cell_type": "code",
      "source": [
        "# Dataset First Look\n",
        "sales_df.head()"
      ],
      "metadata": {
        "id": "LWNFOSvLl09H",
        "colab": {
          "base_uri": "https://localhost:8080/",
          "height": 206
        },
        "outputId": "a9ea7ac2-b0fc-41ad-96f8-cee7285f018f"
      },
      "execution_count": 4,
      "outputs": [
        {
          "output_type": "execute_result",
          "data": {
            "text/plain": [
              "   Store  DayOfWeek        Date  Sales  Customers  Open  Promo StateHoliday  \\\n",
              "0      1          5  2015-07-31   5263        555     1      1            0   \n",
              "1      2          5  2015-07-31   6064        625     1      1            0   \n",
              "2      3          5  2015-07-31   8314        821     1      1            0   \n",
              "3      4          5  2015-07-31  13995       1498     1      1            0   \n",
              "4      5          5  2015-07-31   4822        559     1      1            0   \n",
              "\n",
              "   SchoolHoliday  \n",
              "0              1  \n",
              "1              1  \n",
              "2              1  \n",
              "3              1  \n",
              "4              1  "
            ],
            "text/html": [
              "\n",
              "  <div id=\"df-30ce25ff-4059-4416-8795-97b019010271\">\n",
              "    <div class=\"colab-df-container\">\n",
              "      <div>\n",
              "<style scoped>\n",
              "    .dataframe tbody tr th:only-of-type {\n",
              "        vertical-align: middle;\n",
              "    }\n",
              "\n",
              "    .dataframe tbody tr th {\n",
              "        vertical-align: top;\n",
              "    }\n",
              "\n",
              "    .dataframe thead th {\n",
              "        text-align: right;\n",
              "    }\n",
              "</style>\n",
              "<table border=\"1\" class=\"dataframe\">\n",
              "  <thead>\n",
              "    <tr style=\"text-align: right;\">\n",
              "      <th></th>\n",
              "      <th>Store</th>\n",
              "      <th>DayOfWeek</th>\n",
              "      <th>Date</th>\n",
              "      <th>Sales</th>\n",
              "      <th>Customers</th>\n",
              "      <th>Open</th>\n",
              "      <th>Promo</th>\n",
              "      <th>StateHoliday</th>\n",
              "      <th>SchoolHoliday</th>\n",
              "    </tr>\n",
              "  </thead>\n",
              "  <tbody>\n",
              "    <tr>\n",
              "      <th>0</th>\n",
              "      <td>1</td>\n",
              "      <td>5</td>\n",
              "      <td>2015-07-31</td>\n",
              "      <td>5263</td>\n",
              "      <td>555</td>\n",
              "      <td>1</td>\n",
              "      <td>1</td>\n",
              "      <td>0</td>\n",
              "      <td>1</td>\n",
              "    </tr>\n",
              "    <tr>\n",
              "      <th>1</th>\n",
              "      <td>2</td>\n",
              "      <td>5</td>\n",
              "      <td>2015-07-31</td>\n",
              "      <td>6064</td>\n",
              "      <td>625</td>\n",
              "      <td>1</td>\n",
              "      <td>1</td>\n",
              "      <td>0</td>\n",
              "      <td>1</td>\n",
              "    </tr>\n",
              "    <tr>\n",
              "      <th>2</th>\n",
              "      <td>3</td>\n",
              "      <td>5</td>\n",
              "      <td>2015-07-31</td>\n",
              "      <td>8314</td>\n",
              "      <td>821</td>\n",
              "      <td>1</td>\n",
              "      <td>1</td>\n",
              "      <td>0</td>\n",
              "      <td>1</td>\n",
              "    </tr>\n",
              "    <tr>\n",
              "      <th>3</th>\n",
              "      <td>4</td>\n",
              "      <td>5</td>\n",
              "      <td>2015-07-31</td>\n",
              "      <td>13995</td>\n",
              "      <td>1498</td>\n",
              "      <td>1</td>\n",
              "      <td>1</td>\n",
              "      <td>0</td>\n",
              "      <td>1</td>\n",
              "    </tr>\n",
              "    <tr>\n",
              "      <th>4</th>\n",
              "      <td>5</td>\n",
              "      <td>5</td>\n",
              "      <td>2015-07-31</td>\n",
              "      <td>4822</td>\n",
              "      <td>559</td>\n",
              "      <td>1</td>\n",
              "      <td>1</td>\n",
              "      <td>0</td>\n",
              "      <td>1</td>\n",
              "    </tr>\n",
              "  </tbody>\n",
              "</table>\n",
              "</div>\n",
              "      <button class=\"colab-df-convert\" onclick=\"convertToInteractive('df-30ce25ff-4059-4416-8795-97b019010271')\"\n",
              "              title=\"Convert this dataframe to an interactive table.\"\n",
              "              style=\"display:none;\">\n",
              "        \n",
              "  <svg xmlns=\"http://www.w3.org/2000/svg\" height=\"24px\"viewBox=\"0 0 24 24\"\n",
              "       width=\"24px\">\n",
              "    <path d=\"M0 0h24v24H0V0z\" fill=\"none\"/>\n",
              "    <path d=\"M18.56 5.44l.94 2.06.94-2.06 2.06-.94-2.06-.94-.94-2.06-.94 2.06-2.06.94zm-11 1L8.5 8.5l.94-2.06 2.06-.94-2.06-.94L8.5 2.5l-.94 2.06-2.06.94zm10 10l.94 2.06.94-2.06 2.06-.94-2.06-.94-.94-2.06-.94 2.06-2.06.94z\"/><path d=\"M17.41 7.96l-1.37-1.37c-.4-.4-.92-.59-1.43-.59-.52 0-1.04.2-1.43.59L10.3 9.45l-7.72 7.72c-.78.78-.78 2.05 0 2.83L4 21.41c.39.39.9.59 1.41.59.51 0 1.02-.2 1.41-.59l7.78-7.78 2.81-2.81c.8-.78.8-2.07 0-2.86zM5.41 20L4 18.59l7.72-7.72 1.47 1.35L5.41 20z\"/>\n",
              "  </svg>\n",
              "      </button>\n",
              "      \n",
              "  <style>\n",
              "    .colab-df-container {\n",
              "      display:flex;\n",
              "      flex-wrap:wrap;\n",
              "      gap: 12px;\n",
              "    }\n",
              "\n",
              "    .colab-df-convert {\n",
              "      background-color: #E8F0FE;\n",
              "      border: none;\n",
              "      border-radius: 50%;\n",
              "      cursor: pointer;\n",
              "      display: none;\n",
              "      fill: #1967D2;\n",
              "      height: 32px;\n",
              "      padding: 0 0 0 0;\n",
              "      width: 32px;\n",
              "    }\n",
              "\n",
              "    .colab-df-convert:hover {\n",
              "      background-color: #E2EBFA;\n",
              "      box-shadow: 0px 1px 2px rgba(60, 64, 67, 0.3), 0px 1px 3px 1px rgba(60, 64, 67, 0.15);\n",
              "      fill: #174EA6;\n",
              "    }\n",
              "\n",
              "    [theme=dark] .colab-df-convert {\n",
              "      background-color: #3B4455;\n",
              "      fill: #D2E3FC;\n",
              "    }\n",
              "\n",
              "    [theme=dark] .colab-df-convert:hover {\n",
              "      background-color: #434B5C;\n",
              "      box-shadow: 0px 1px 3px 1px rgba(0, 0, 0, 0.15);\n",
              "      filter: drop-shadow(0px 1px 2px rgba(0, 0, 0, 0.3));\n",
              "      fill: #FFFFFF;\n",
              "    }\n",
              "  </style>\n",
              "\n",
              "      <script>\n",
              "        const buttonEl =\n",
              "          document.querySelector('#df-30ce25ff-4059-4416-8795-97b019010271 button.colab-df-convert');\n",
              "        buttonEl.style.display =\n",
              "          google.colab.kernel.accessAllowed ? 'block' : 'none';\n",
              "\n",
              "        async function convertToInteractive(key) {\n",
              "          const element = document.querySelector('#df-30ce25ff-4059-4416-8795-97b019010271');\n",
              "          const dataTable =\n",
              "            await google.colab.kernel.invokeFunction('convertToInteractive',\n",
              "                                                     [key], {});\n",
              "          if (!dataTable) return;\n",
              "\n",
              "          const docLinkHtml = 'Like what you see? Visit the ' +\n",
              "            '<a target=\"_blank\" href=https://colab.research.google.com/notebooks/data_table.ipynb>data table notebook</a>'\n",
              "            + ' to learn more about interactive tables.';\n",
              "          element.innerHTML = '';\n",
              "          dataTable['output_type'] = 'display_data';\n",
              "          await google.colab.output.renderOutput(dataTable, element);\n",
              "          const docLink = document.createElement('div');\n",
              "          docLink.innerHTML = docLinkHtml;\n",
              "          element.appendChild(docLink);\n",
              "        }\n",
              "      </script>\n",
              "    </div>\n",
              "  </div>\n",
              "  "
            ]
          },
          "metadata": {},
          "execution_count": 4
        }
      ]
    },
    {
      "cell_type": "code",
      "source": [
        "sales_df.info()"
      ],
      "metadata": {
        "id": "6_2mfFA-1kx3",
        "colab": {
          "base_uri": "https://localhost:8080/"
        },
        "outputId": "4714e1b1-2fb6-4f62-d9a5-903e1bee44ee"
      },
      "execution_count": 5,
      "outputs": [
        {
          "output_type": "stream",
          "name": "stdout",
          "text": [
            "<class 'pandas.core.frame.DataFrame'>\n",
            "RangeIndex: 1017209 entries, 0 to 1017208\n",
            "Data columns (total 9 columns):\n",
            " #   Column         Non-Null Count    Dtype \n",
            "---  ------         --------------    ----- \n",
            " 0   Store          1017209 non-null  int64 \n",
            " 1   DayOfWeek      1017209 non-null  int64 \n",
            " 2   Date           1017209 non-null  object\n",
            " 3   Sales          1017209 non-null  int64 \n",
            " 4   Customers      1017209 non-null  int64 \n",
            " 5   Open           1017209 non-null  int64 \n",
            " 6   Promo          1017209 non-null  int64 \n",
            " 7   StateHoliday   1017209 non-null  object\n",
            " 8   SchoolHoliday  1017209 non-null  int64 \n",
            "dtypes: int64(7), object(2)\n",
            "memory usage: 69.8+ MB\n"
          ]
        }
      ]
    },
    {
      "cell_type": "code",
      "source": [
        "sales_df.tail()"
      ],
      "metadata": {
        "id": "jnlbyuS81IJb",
        "colab": {
          "base_uri": "https://localhost:8080/",
          "height": 206
        },
        "outputId": "9589d447-6475-407f-d0c4-d872ee8529c4"
      },
      "execution_count": 6,
      "outputs": [
        {
          "output_type": "execute_result",
          "data": {
            "text/plain": [
              "         Store  DayOfWeek        Date  Sales  Customers  Open  Promo  \\\n",
              "1017204   1111          2  2013-01-01      0          0     0      0   \n",
              "1017205   1112          2  2013-01-01      0          0     0      0   \n",
              "1017206   1113          2  2013-01-01      0          0     0      0   \n",
              "1017207   1114          2  2013-01-01      0          0     0      0   \n",
              "1017208   1115          2  2013-01-01      0          0     0      0   \n",
              "\n",
              "        StateHoliday  SchoolHoliday  \n",
              "1017204            a              1  \n",
              "1017205            a              1  \n",
              "1017206            a              1  \n",
              "1017207            a              1  \n",
              "1017208            a              1  "
            ],
            "text/html": [
              "\n",
              "  <div id=\"df-5505bbe1-086d-465c-bb3f-cd81ad20aa92\">\n",
              "    <div class=\"colab-df-container\">\n",
              "      <div>\n",
              "<style scoped>\n",
              "    .dataframe tbody tr th:only-of-type {\n",
              "        vertical-align: middle;\n",
              "    }\n",
              "\n",
              "    .dataframe tbody tr th {\n",
              "        vertical-align: top;\n",
              "    }\n",
              "\n",
              "    .dataframe thead th {\n",
              "        text-align: right;\n",
              "    }\n",
              "</style>\n",
              "<table border=\"1\" class=\"dataframe\">\n",
              "  <thead>\n",
              "    <tr style=\"text-align: right;\">\n",
              "      <th></th>\n",
              "      <th>Store</th>\n",
              "      <th>DayOfWeek</th>\n",
              "      <th>Date</th>\n",
              "      <th>Sales</th>\n",
              "      <th>Customers</th>\n",
              "      <th>Open</th>\n",
              "      <th>Promo</th>\n",
              "      <th>StateHoliday</th>\n",
              "      <th>SchoolHoliday</th>\n",
              "    </tr>\n",
              "  </thead>\n",
              "  <tbody>\n",
              "    <tr>\n",
              "      <th>1017204</th>\n",
              "      <td>1111</td>\n",
              "      <td>2</td>\n",
              "      <td>2013-01-01</td>\n",
              "      <td>0</td>\n",
              "      <td>0</td>\n",
              "      <td>0</td>\n",
              "      <td>0</td>\n",
              "      <td>a</td>\n",
              "      <td>1</td>\n",
              "    </tr>\n",
              "    <tr>\n",
              "      <th>1017205</th>\n",
              "      <td>1112</td>\n",
              "      <td>2</td>\n",
              "      <td>2013-01-01</td>\n",
              "      <td>0</td>\n",
              "      <td>0</td>\n",
              "      <td>0</td>\n",
              "      <td>0</td>\n",
              "      <td>a</td>\n",
              "      <td>1</td>\n",
              "    </tr>\n",
              "    <tr>\n",
              "      <th>1017206</th>\n",
              "      <td>1113</td>\n",
              "      <td>2</td>\n",
              "      <td>2013-01-01</td>\n",
              "      <td>0</td>\n",
              "      <td>0</td>\n",
              "      <td>0</td>\n",
              "      <td>0</td>\n",
              "      <td>a</td>\n",
              "      <td>1</td>\n",
              "    </tr>\n",
              "    <tr>\n",
              "      <th>1017207</th>\n",
              "      <td>1114</td>\n",
              "      <td>2</td>\n",
              "      <td>2013-01-01</td>\n",
              "      <td>0</td>\n",
              "      <td>0</td>\n",
              "      <td>0</td>\n",
              "      <td>0</td>\n",
              "      <td>a</td>\n",
              "      <td>1</td>\n",
              "    </tr>\n",
              "    <tr>\n",
              "      <th>1017208</th>\n",
              "      <td>1115</td>\n",
              "      <td>2</td>\n",
              "      <td>2013-01-01</td>\n",
              "      <td>0</td>\n",
              "      <td>0</td>\n",
              "      <td>0</td>\n",
              "      <td>0</td>\n",
              "      <td>a</td>\n",
              "      <td>1</td>\n",
              "    </tr>\n",
              "  </tbody>\n",
              "</table>\n",
              "</div>\n",
              "      <button class=\"colab-df-convert\" onclick=\"convertToInteractive('df-5505bbe1-086d-465c-bb3f-cd81ad20aa92')\"\n",
              "              title=\"Convert this dataframe to an interactive table.\"\n",
              "              style=\"display:none;\">\n",
              "        \n",
              "  <svg xmlns=\"http://www.w3.org/2000/svg\" height=\"24px\"viewBox=\"0 0 24 24\"\n",
              "       width=\"24px\">\n",
              "    <path d=\"M0 0h24v24H0V0z\" fill=\"none\"/>\n",
              "    <path d=\"M18.56 5.44l.94 2.06.94-2.06 2.06-.94-2.06-.94-.94-2.06-.94 2.06-2.06.94zm-11 1L8.5 8.5l.94-2.06 2.06-.94-2.06-.94L8.5 2.5l-.94 2.06-2.06.94zm10 10l.94 2.06.94-2.06 2.06-.94-2.06-.94-.94-2.06-.94 2.06-2.06.94z\"/><path d=\"M17.41 7.96l-1.37-1.37c-.4-.4-.92-.59-1.43-.59-.52 0-1.04.2-1.43.59L10.3 9.45l-7.72 7.72c-.78.78-.78 2.05 0 2.83L4 21.41c.39.39.9.59 1.41.59.51 0 1.02-.2 1.41-.59l7.78-7.78 2.81-2.81c.8-.78.8-2.07 0-2.86zM5.41 20L4 18.59l7.72-7.72 1.47 1.35L5.41 20z\"/>\n",
              "  </svg>\n",
              "      </button>\n",
              "      \n",
              "  <style>\n",
              "    .colab-df-container {\n",
              "      display:flex;\n",
              "      flex-wrap:wrap;\n",
              "      gap: 12px;\n",
              "    }\n",
              "\n",
              "    .colab-df-convert {\n",
              "      background-color: #E8F0FE;\n",
              "      border: none;\n",
              "      border-radius: 50%;\n",
              "      cursor: pointer;\n",
              "      display: none;\n",
              "      fill: #1967D2;\n",
              "      height: 32px;\n",
              "      padding: 0 0 0 0;\n",
              "      width: 32px;\n",
              "    }\n",
              "\n",
              "    .colab-df-convert:hover {\n",
              "      background-color: #E2EBFA;\n",
              "      box-shadow: 0px 1px 2px rgba(60, 64, 67, 0.3), 0px 1px 3px 1px rgba(60, 64, 67, 0.15);\n",
              "      fill: #174EA6;\n",
              "    }\n",
              "\n",
              "    [theme=dark] .colab-df-convert {\n",
              "      background-color: #3B4455;\n",
              "      fill: #D2E3FC;\n",
              "    }\n",
              "\n",
              "    [theme=dark] .colab-df-convert:hover {\n",
              "      background-color: #434B5C;\n",
              "      box-shadow: 0px 1px 3px 1px rgba(0, 0, 0, 0.15);\n",
              "      filter: drop-shadow(0px 1px 2px rgba(0, 0, 0, 0.3));\n",
              "      fill: #FFFFFF;\n",
              "    }\n",
              "  </style>\n",
              "\n",
              "      <script>\n",
              "        const buttonEl =\n",
              "          document.querySelector('#df-5505bbe1-086d-465c-bb3f-cd81ad20aa92 button.colab-df-convert');\n",
              "        buttonEl.style.display =\n",
              "          google.colab.kernel.accessAllowed ? 'block' : 'none';\n",
              "\n",
              "        async function convertToInteractive(key) {\n",
              "          const element = document.querySelector('#df-5505bbe1-086d-465c-bb3f-cd81ad20aa92');\n",
              "          const dataTable =\n",
              "            await google.colab.kernel.invokeFunction('convertToInteractive',\n",
              "                                                     [key], {});\n",
              "          if (!dataTable) return;\n",
              "\n",
              "          const docLinkHtml = 'Like what you see? Visit the ' +\n",
              "            '<a target=\"_blank\" href=https://colab.research.google.com/notebooks/data_table.ipynb>data table notebook</a>'\n",
              "            + ' to learn more about interactive tables.';\n",
              "          element.innerHTML = '';\n",
              "          dataTable['output_type'] = 'display_data';\n",
              "          await google.colab.output.renderOutput(dataTable, element);\n",
              "          const docLink = document.createElement('div');\n",
              "          docLink.innerHTML = docLinkHtml;\n",
              "          element.appendChild(docLink);\n",
              "        }\n",
              "      </script>\n",
              "    </div>\n",
              "  </div>\n",
              "  "
            ]
          },
          "metadata": {},
          "execution_count": 6
        }
      ]
    },
    {
      "cell_type": "code",
      "source": [
        "sales_df.describe()"
      ],
      "metadata": {
        "id": "jROFPFyh1UVG",
        "colab": {
          "base_uri": "https://localhost:8080/",
          "height": 300
        },
        "outputId": "a92e9e2a-b407-4490-f9dd-8fba40f28040"
      },
      "execution_count": 7,
      "outputs": [
        {
          "output_type": "execute_result",
          "data": {
            "text/plain": [
              "              Store     DayOfWeek         Sales     Customers          Open  \\\n",
              "count  1.017209e+06  1.017209e+06  1.017209e+06  1.017209e+06  1.017209e+06   \n",
              "mean   5.584297e+02  3.998341e+00  5.773819e+03  6.331459e+02  8.301067e-01   \n",
              "std    3.219087e+02  1.997391e+00  3.849926e+03  4.644117e+02  3.755392e-01   \n",
              "min    1.000000e+00  1.000000e+00  0.000000e+00  0.000000e+00  0.000000e+00   \n",
              "25%    2.800000e+02  2.000000e+00  3.727000e+03  4.050000e+02  1.000000e+00   \n",
              "50%    5.580000e+02  4.000000e+00  5.744000e+03  6.090000e+02  1.000000e+00   \n",
              "75%    8.380000e+02  6.000000e+00  7.856000e+03  8.370000e+02  1.000000e+00   \n",
              "max    1.115000e+03  7.000000e+00  4.155100e+04  7.388000e+03  1.000000e+00   \n",
              "\n",
              "              Promo  SchoolHoliday  \n",
              "count  1.017209e+06   1.017209e+06  \n",
              "mean   3.815145e-01   1.786467e-01  \n",
              "std    4.857586e-01   3.830564e-01  \n",
              "min    0.000000e+00   0.000000e+00  \n",
              "25%    0.000000e+00   0.000000e+00  \n",
              "50%    0.000000e+00   0.000000e+00  \n",
              "75%    1.000000e+00   0.000000e+00  \n",
              "max    1.000000e+00   1.000000e+00  "
            ],
            "text/html": [
              "\n",
              "  <div id=\"df-78db9001-1ab3-479d-9686-1bc33a8d890f\">\n",
              "    <div class=\"colab-df-container\">\n",
              "      <div>\n",
              "<style scoped>\n",
              "    .dataframe tbody tr th:only-of-type {\n",
              "        vertical-align: middle;\n",
              "    }\n",
              "\n",
              "    .dataframe tbody tr th {\n",
              "        vertical-align: top;\n",
              "    }\n",
              "\n",
              "    .dataframe thead th {\n",
              "        text-align: right;\n",
              "    }\n",
              "</style>\n",
              "<table border=\"1\" class=\"dataframe\">\n",
              "  <thead>\n",
              "    <tr style=\"text-align: right;\">\n",
              "      <th></th>\n",
              "      <th>Store</th>\n",
              "      <th>DayOfWeek</th>\n",
              "      <th>Sales</th>\n",
              "      <th>Customers</th>\n",
              "      <th>Open</th>\n",
              "      <th>Promo</th>\n",
              "      <th>SchoolHoliday</th>\n",
              "    </tr>\n",
              "  </thead>\n",
              "  <tbody>\n",
              "    <tr>\n",
              "      <th>count</th>\n",
              "      <td>1.017209e+06</td>\n",
              "      <td>1.017209e+06</td>\n",
              "      <td>1.017209e+06</td>\n",
              "      <td>1.017209e+06</td>\n",
              "      <td>1.017209e+06</td>\n",
              "      <td>1.017209e+06</td>\n",
              "      <td>1.017209e+06</td>\n",
              "    </tr>\n",
              "    <tr>\n",
              "      <th>mean</th>\n",
              "      <td>5.584297e+02</td>\n",
              "      <td>3.998341e+00</td>\n",
              "      <td>5.773819e+03</td>\n",
              "      <td>6.331459e+02</td>\n",
              "      <td>8.301067e-01</td>\n",
              "      <td>3.815145e-01</td>\n",
              "      <td>1.786467e-01</td>\n",
              "    </tr>\n",
              "    <tr>\n",
              "      <th>std</th>\n",
              "      <td>3.219087e+02</td>\n",
              "      <td>1.997391e+00</td>\n",
              "      <td>3.849926e+03</td>\n",
              "      <td>4.644117e+02</td>\n",
              "      <td>3.755392e-01</td>\n",
              "      <td>4.857586e-01</td>\n",
              "      <td>3.830564e-01</td>\n",
              "    </tr>\n",
              "    <tr>\n",
              "      <th>min</th>\n",
              "      <td>1.000000e+00</td>\n",
              "      <td>1.000000e+00</td>\n",
              "      <td>0.000000e+00</td>\n",
              "      <td>0.000000e+00</td>\n",
              "      <td>0.000000e+00</td>\n",
              "      <td>0.000000e+00</td>\n",
              "      <td>0.000000e+00</td>\n",
              "    </tr>\n",
              "    <tr>\n",
              "      <th>25%</th>\n",
              "      <td>2.800000e+02</td>\n",
              "      <td>2.000000e+00</td>\n",
              "      <td>3.727000e+03</td>\n",
              "      <td>4.050000e+02</td>\n",
              "      <td>1.000000e+00</td>\n",
              "      <td>0.000000e+00</td>\n",
              "      <td>0.000000e+00</td>\n",
              "    </tr>\n",
              "    <tr>\n",
              "      <th>50%</th>\n",
              "      <td>5.580000e+02</td>\n",
              "      <td>4.000000e+00</td>\n",
              "      <td>5.744000e+03</td>\n",
              "      <td>6.090000e+02</td>\n",
              "      <td>1.000000e+00</td>\n",
              "      <td>0.000000e+00</td>\n",
              "      <td>0.000000e+00</td>\n",
              "    </tr>\n",
              "    <tr>\n",
              "      <th>75%</th>\n",
              "      <td>8.380000e+02</td>\n",
              "      <td>6.000000e+00</td>\n",
              "      <td>7.856000e+03</td>\n",
              "      <td>8.370000e+02</td>\n",
              "      <td>1.000000e+00</td>\n",
              "      <td>1.000000e+00</td>\n",
              "      <td>0.000000e+00</td>\n",
              "    </tr>\n",
              "    <tr>\n",
              "      <th>max</th>\n",
              "      <td>1.115000e+03</td>\n",
              "      <td>7.000000e+00</td>\n",
              "      <td>4.155100e+04</td>\n",
              "      <td>7.388000e+03</td>\n",
              "      <td>1.000000e+00</td>\n",
              "      <td>1.000000e+00</td>\n",
              "      <td>1.000000e+00</td>\n",
              "    </tr>\n",
              "  </tbody>\n",
              "</table>\n",
              "</div>\n",
              "      <button class=\"colab-df-convert\" onclick=\"convertToInteractive('df-78db9001-1ab3-479d-9686-1bc33a8d890f')\"\n",
              "              title=\"Convert this dataframe to an interactive table.\"\n",
              "              style=\"display:none;\">\n",
              "        \n",
              "  <svg xmlns=\"http://www.w3.org/2000/svg\" height=\"24px\"viewBox=\"0 0 24 24\"\n",
              "       width=\"24px\">\n",
              "    <path d=\"M0 0h24v24H0V0z\" fill=\"none\"/>\n",
              "    <path d=\"M18.56 5.44l.94 2.06.94-2.06 2.06-.94-2.06-.94-.94-2.06-.94 2.06-2.06.94zm-11 1L8.5 8.5l.94-2.06 2.06-.94-2.06-.94L8.5 2.5l-.94 2.06-2.06.94zm10 10l.94 2.06.94-2.06 2.06-.94-2.06-.94-.94-2.06-.94 2.06-2.06.94z\"/><path d=\"M17.41 7.96l-1.37-1.37c-.4-.4-.92-.59-1.43-.59-.52 0-1.04.2-1.43.59L10.3 9.45l-7.72 7.72c-.78.78-.78 2.05 0 2.83L4 21.41c.39.39.9.59 1.41.59.51 0 1.02-.2 1.41-.59l7.78-7.78 2.81-2.81c.8-.78.8-2.07 0-2.86zM5.41 20L4 18.59l7.72-7.72 1.47 1.35L5.41 20z\"/>\n",
              "  </svg>\n",
              "      </button>\n",
              "      \n",
              "  <style>\n",
              "    .colab-df-container {\n",
              "      display:flex;\n",
              "      flex-wrap:wrap;\n",
              "      gap: 12px;\n",
              "    }\n",
              "\n",
              "    .colab-df-convert {\n",
              "      background-color: #E8F0FE;\n",
              "      border: none;\n",
              "      border-radius: 50%;\n",
              "      cursor: pointer;\n",
              "      display: none;\n",
              "      fill: #1967D2;\n",
              "      height: 32px;\n",
              "      padding: 0 0 0 0;\n",
              "      width: 32px;\n",
              "    }\n",
              "\n",
              "    .colab-df-convert:hover {\n",
              "      background-color: #E2EBFA;\n",
              "      box-shadow: 0px 1px 2px rgba(60, 64, 67, 0.3), 0px 1px 3px 1px rgba(60, 64, 67, 0.15);\n",
              "      fill: #174EA6;\n",
              "    }\n",
              "\n",
              "    [theme=dark] .colab-df-convert {\n",
              "      background-color: #3B4455;\n",
              "      fill: #D2E3FC;\n",
              "    }\n",
              "\n",
              "    [theme=dark] .colab-df-convert:hover {\n",
              "      background-color: #434B5C;\n",
              "      box-shadow: 0px 1px 3px 1px rgba(0, 0, 0, 0.15);\n",
              "      filter: drop-shadow(0px 1px 2px rgba(0, 0, 0, 0.3));\n",
              "      fill: #FFFFFF;\n",
              "    }\n",
              "  </style>\n",
              "\n",
              "      <script>\n",
              "        const buttonEl =\n",
              "          document.querySelector('#df-78db9001-1ab3-479d-9686-1bc33a8d890f button.colab-df-convert');\n",
              "        buttonEl.style.display =\n",
              "          google.colab.kernel.accessAllowed ? 'block' : 'none';\n",
              "\n",
              "        async function convertToInteractive(key) {\n",
              "          const element = document.querySelector('#df-78db9001-1ab3-479d-9686-1bc33a8d890f');\n",
              "          const dataTable =\n",
              "            await google.colab.kernel.invokeFunction('convertToInteractive',\n",
              "                                                     [key], {});\n",
              "          if (!dataTable) return;\n",
              "\n",
              "          const docLinkHtml = 'Like what you see? Visit the ' +\n",
              "            '<a target=\"_blank\" href=https://colab.research.google.com/notebooks/data_table.ipynb>data table notebook</a>'\n",
              "            + ' to learn more about interactive tables.';\n",
              "          element.innerHTML = '';\n",
              "          dataTable['output_type'] = 'display_data';\n",
              "          await google.colab.output.renderOutput(dataTable, element);\n",
              "          const docLink = document.createElement('div');\n",
              "          docLink.innerHTML = docLinkHtml;\n",
              "          element.appendChild(docLink);\n",
              "        }\n",
              "      </script>\n",
              "    </div>\n",
              "  </div>\n",
              "  "
            ]
          },
          "metadata": {},
          "execution_count": 7
        }
      ]
    },
    {
      "cell_type": "code",
      "source": [
        "# change state holiday value a,b,c is equal to 1\n",
        "sales_df['StateHoliday'].value_counts()"
      ],
      "metadata": {
        "id": "-pMrryiO1Uwa",
        "colab": {
          "base_uri": "https://localhost:8080/"
        },
        "outputId": "a6410877-89b6-4b80-a3a9-6b9ef1b783a1"
      },
      "execution_count": 8,
      "outputs": [
        {
          "output_type": "execute_result",
          "data": {
            "text/plain": [
              "0    855087\n",
              "0    131072\n",
              "a     20260\n",
              "b      6690\n",
              "c      4100\n",
              "Name: StateHoliday, dtype: int64"
            ]
          },
          "metadata": {},
          "execution_count": 8
        }
      ]
    },
    {
      "cell_type": "code",
      "source": [
        "# change datatype object into date format \n",
        "sales_df['Date'].unique()"
      ],
      "metadata": {
        "id": "ZEEid5kE1Vh3",
        "colab": {
          "base_uri": "https://localhost:8080/"
        },
        "outputId": "c2f3b22b-c946-4afe-d7c7-7eb775a10b56"
      },
      "execution_count": 9,
      "outputs": [
        {
          "output_type": "execute_result",
          "data": {
            "text/plain": [
              "array(['2015-07-31', '2015-07-30', '2015-07-29', '2015-07-28',\n",
              "       '2015-07-27', '2015-07-26', '2015-07-25', '2015-07-24',\n",
              "       '2015-07-23', '2015-07-22', '2015-07-21', '2015-07-20',\n",
              "       '2015-07-19', '2015-07-18', '2015-07-17', '2015-07-16',\n",
              "       '2015-07-15', '2015-07-14', '2015-07-13', '2015-07-12',\n",
              "       '2015-07-11', '2015-07-10', '2015-07-09', '2015-07-08',\n",
              "       '2015-07-07', '2015-07-06', '2015-07-05', '2015-07-04',\n",
              "       '2015-07-03', '2015-07-02', '2015-07-01', '2015-06-30',\n",
              "       '2015-06-29', '2015-06-28', '2015-06-27', '2015-06-26',\n",
              "       '2015-06-25', '2015-06-24', '2015-06-23', '2015-06-22',\n",
              "       '2015-06-21', '2015-06-20', '2015-06-19', '2015-06-18',\n",
              "       '2015-06-17', '2015-06-16', '2015-06-15', '2015-06-14',\n",
              "       '2015-06-13', '2015-06-12', '2015-06-11', '2015-06-10',\n",
              "       '2015-06-09', '2015-06-08', '2015-06-07', '2015-06-06',\n",
              "       '2015-06-05', '2015-06-04', '2015-06-03', '2015-06-02',\n",
              "       '2015-06-01', '2015-05-31', '2015-05-30', '2015-05-29',\n",
              "       '2015-05-28', '2015-05-27', '2015-05-26', '2015-05-25',\n",
              "       '2015-05-24', '2015-05-23', '2015-05-22', '2015-05-21',\n",
              "       '2015-05-20', '2015-05-19', '2015-05-18', '2015-05-17',\n",
              "       '2015-05-16', '2015-05-15', '2015-05-14', '2015-05-13',\n",
              "       '2015-05-12', '2015-05-11', '2015-05-10', '2015-05-09',\n",
              "       '2015-05-08', '2015-05-07', '2015-05-06', '2015-05-05',\n",
              "       '2015-05-04', '2015-05-03', '2015-05-02', '2015-05-01',\n",
              "       '2015-04-30', '2015-04-29', '2015-04-28', '2015-04-27',\n",
              "       '2015-04-26', '2015-04-25', '2015-04-24', '2015-04-23',\n",
              "       '2015-04-22', '2015-04-21', '2015-04-20', '2015-04-19',\n",
              "       '2015-04-18', '2015-04-17', '2015-04-16', '2015-04-15',\n",
              "       '2015-04-14', '2015-04-13', '2015-04-12', '2015-04-11',\n",
              "       '2015-04-10', '2015-04-09', '2015-04-08', '2015-04-07',\n",
              "       '2015-04-06', '2015-04-05', '2015-04-04', '2015-04-03',\n",
              "       '2015-04-02', '2015-04-01', '2015-03-31', '2015-03-30',\n",
              "       '2015-03-29', '2015-03-28', '2015-03-27', '2015-03-26',\n",
              "       '2015-03-25', '2015-03-24', '2015-03-23', '2015-03-22',\n",
              "       '2015-03-21', '2015-03-20', '2015-03-19', '2015-03-18',\n",
              "       '2015-03-17', '2015-03-16', '2015-03-15', '2015-03-14',\n",
              "       '2015-03-13', '2015-03-12', '2015-03-11', '2015-03-10',\n",
              "       '2015-03-09', '2015-03-08', '2015-03-07', '2015-03-06',\n",
              "       '2015-03-05', '2015-03-04', '2015-03-03', '2015-03-02',\n",
              "       '2015-03-01', '2015-02-28', '2015-02-27', '2015-02-26',\n",
              "       '2015-02-25', '2015-02-24', '2015-02-23', '2015-02-22',\n",
              "       '2015-02-21', '2015-02-20', '2015-02-19', '2015-02-18',\n",
              "       '2015-02-17', '2015-02-16', '2015-02-15', '2015-02-14',\n",
              "       '2015-02-13', '2015-02-12', '2015-02-11', '2015-02-10',\n",
              "       '2015-02-09', '2015-02-08', '2015-02-07', '2015-02-06',\n",
              "       '2015-02-05', '2015-02-04', '2015-02-03', '2015-02-02',\n",
              "       '2015-02-01', '2015-01-31', '2015-01-30', '2015-01-29',\n",
              "       '2015-01-28', '2015-01-27', '2015-01-26', '2015-01-25',\n",
              "       '2015-01-24', '2015-01-23', '2015-01-22', '2015-01-21',\n",
              "       '2015-01-20', '2015-01-19', '2015-01-18', '2015-01-17',\n",
              "       '2015-01-16', '2015-01-15', '2015-01-14', '2015-01-13',\n",
              "       '2015-01-12', '2015-01-11', '2015-01-10', '2015-01-09',\n",
              "       '2015-01-08', '2015-01-07', '2015-01-06', '2015-01-05',\n",
              "       '2015-01-04', '2015-01-03', '2015-01-02', '2015-01-01',\n",
              "       '2014-12-31', '2014-12-30', '2014-12-29', '2014-12-28',\n",
              "       '2014-12-27', '2014-12-26', '2014-12-25', '2014-12-24',\n",
              "       '2014-12-23', '2014-12-22', '2014-12-21', '2014-12-20',\n",
              "       '2014-12-19', '2014-12-18', '2014-12-17', '2014-12-16',\n",
              "       '2014-12-15', '2014-12-14', '2014-12-13', '2014-12-12',\n",
              "       '2014-12-11', '2014-12-10', '2014-12-09', '2014-12-08',\n",
              "       '2014-12-07', '2014-12-06', '2014-12-05', '2014-12-04',\n",
              "       '2014-12-03', '2014-12-02', '2014-12-01', '2014-11-30',\n",
              "       '2014-11-29', '2014-11-28', '2014-11-27', '2014-11-26',\n",
              "       '2014-11-25', '2014-11-24', '2014-11-23', '2014-11-22',\n",
              "       '2014-11-21', '2014-11-20', '2014-11-19', '2014-11-18',\n",
              "       '2014-11-17', '2014-11-16', '2014-11-15', '2014-11-14',\n",
              "       '2014-11-13', '2014-11-12', '2014-11-11', '2014-11-10',\n",
              "       '2014-11-09', '2014-11-08', '2014-11-07', '2014-11-06',\n",
              "       '2014-11-05', '2014-11-04', '2014-11-03', '2014-11-02',\n",
              "       '2014-11-01', '2014-10-31', '2014-10-30', '2014-10-29',\n",
              "       '2014-10-28', '2014-10-27', '2014-10-26', '2014-10-25',\n",
              "       '2014-10-24', '2014-10-23', '2014-10-22', '2014-10-21',\n",
              "       '2014-10-20', '2014-10-19', '2014-10-18', '2014-10-17',\n",
              "       '2014-10-16', '2014-10-15', '2014-10-14', '2014-10-13',\n",
              "       '2014-10-12', '2014-10-11', '2014-10-10', '2014-10-09',\n",
              "       '2014-10-08', '2014-10-07', '2014-10-06', '2014-10-05',\n",
              "       '2014-10-04', '2014-10-03', '2014-10-02', '2014-10-01',\n",
              "       '2014-09-30', '2014-09-29', '2014-09-28', '2014-09-27',\n",
              "       '2014-09-26', '2014-09-25', '2014-09-24', '2014-09-23',\n",
              "       '2014-09-22', '2014-09-21', '2014-09-20', '2014-09-19',\n",
              "       '2014-09-18', '2014-09-17', '2014-09-16', '2014-09-15',\n",
              "       '2014-09-14', '2014-09-13', '2014-09-12', '2014-09-11',\n",
              "       '2014-09-10', '2014-09-09', '2014-09-08', '2014-09-07',\n",
              "       '2014-09-06', '2014-09-05', '2014-09-04', '2014-09-03',\n",
              "       '2014-09-02', '2014-09-01', '2014-08-31', '2014-08-30',\n",
              "       '2014-08-29', '2014-08-28', '2014-08-27', '2014-08-26',\n",
              "       '2014-08-25', '2014-08-24', '2014-08-23', '2014-08-22',\n",
              "       '2014-08-21', '2014-08-20', '2014-08-19', '2014-08-18',\n",
              "       '2014-08-17', '2014-08-16', '2014-08-15', '2014-08-14',\n",
              "       '2014-08-13', '2014-08-12', '2014-08-11', '2014-08-10',\n",
              "       '2014-08-09', '2014-08-08', '2014-08-07', '2014-08-06',\n",
              "       '2014-08-05', '2014-08-04', '2014-08-03', '2014-08-02',\n",
              "       '2014-08-01', '2014-07-31', '2014-07-30', '2014-07-29',\n",
              "       '2014-07-28', '2014-07-27', '2014-07-26', '2014-07-25',\n",
              "       '2014-07-24', '2014-07-23', '2014-07-22', '2014-07-21',\n",
              "       '2014-07-20', '2014-07-19', '2014-07-18', '2014-07-17',\n",
              "       '2014-07-16', '2014-07-15', '2014-07-14', '2014-07-13',\n",
              "       '2014-07-12', '2014-07-11', '2014-07-10', '2014-07-09',\n",
              "       '2014-07-08', '2014-07-07', '2014-07-06', '2014-07-05',\n",
              "       '2014-07-04', '2014-07-03', '2014-07-02', '2014-07-01',\n",
              "       '2014-06-30', '2014-06-29', '2014-06-28', '2014-06-27',\n",
              "       '2014-06-26', '2014-06-25', '2014-06-24', '2014-06-23',\n",
              "       '2014-06-22', '2014-06-21', '2014-06-20', '2014-06-19',\n",
              "       '2014-06-18', '2014-06-17', '2014-06-16', '2014-06-15',\n",
              "       '2014-06-14', '2014-06-13', '2014-06-12', '2014-06-11',\n",
              "       '2014-06-10', '2014-06-09', '2014-06-08', '2014-06-07',\n",
              "       '2014-06-06', '2014-06-05', '2014-06-04', '2014-06-03',\n",
              "       '2014-06-02', '2014-06-01', '2014-05-31', '2014-05-30',\n",
              "       '2014-05-29', '2014-05-28', '2014-05-27', '2014-05-26',\n",
              "       '2014-05-25', '2014-05-24', '2014-05-23', '2014-05-22',\n",
              "       '2014-05-21', '2014-05-20', '2014-05-19', '2014-05-18',\n",
              "       '2014-05-17', '2014-05-16', '2014-05-15', '2014-05-14',\n",
              "       '2014-05-13', '2014-05-12', '2014-05-11', '2014-05-10',\n",
              "       '2014-05-09', '2014-05-08', '2014-05-07', '2014-05-06',\n",
              "       '2014-05-05', '2014-05-04', '2014-05-03', '2014-05-02',\n",
              "       '2014-05-01', '2014-04-30', '2014-04-29', '2014-04-28',\n",
              "       '2014-04-27', '2014-04-26', '2014-04-25', '2014-04-24',\n",
              "       '2014-04-23', '2014-04-22', '2014-04-21', '2014-04-20',\n",
              "       '2014-04-19', '2014-04-18', '2014-04-17', '2014-04-16',\n",
              "       '2014-04-15', '2014-04-14', '2014-04-13', '2014-04-12',\n",
              "       '2014-04-11', '2014-04-10', '2014-04-09', '2014-04-08',\n",
              "       '2014-04-07', '2014-04-06', '2014-04-05', '2014-04-04',\n",
              "       '2014-04-03', '2014-04-02', '2014-04-01', '2014-03-31',\n",
              "       '2014-03-30', '2014-03-29', '2014-03-28', '2014-03-27',\n",
              "       '2014-03-26', '2014-03-25', '2014-03-24', '2014-03-23',\n",
              "       '2014-03-22', '2014-03-21', '2014-03-20', '2014-03-19',\n",
              "       '2014-03-18', '2014-03-17', '2014-03-16', '2014-03-15',\n",
              "       '2014-03-14', '2014-03-13', '2014-03-12', '2014-03-11',\n",
              "       '2014-03-10', '2014-03-09', '2014-03-08', '2014-03-07',\n",
              "       '2014-03-06', '2014-03-05', '2014-03-04', '2014-03-03',\n",
              "       '2014-03-02', '2014-03-01', '2014-02-28', '2014-02-27',\n",
              "       '2014-02-26', '2014-02-25', '2014-02-24', '2014-02-23',\n",
              "       '2014-02-22', '2014-02-21', '2014-02-20', '2014-02-19',\n",
              "       '2014-02-18', '2014-02-17', '2014-02-16', '2014-02-15',\n",
              "       '2014-02-14', '2014-02-13', '2014-02-12', '2014-02-11',\n",
              "       '2014-02-10', '2014-02-09', '2014-02-08', '2014-02-07',\n",
              "       '2014-02-06', '2014-02-05', '2014-02-04', '2014-02-03',\n",
              "       '2014-02-02', '2014-02-01', '2014-01-31', '2014-01-30',\n",
              "       '2014-01-29', '2014-01-28', '2014-01-27', '2014-01-26',\n",
              "       '2014-01-25', '2014-01-24', '2014-01-23', '2014-01-22',\n",
              "       '2014-01-21', '2014-01-20', '2014-01-19', '2014-01-18',\n",
              "       '2014-01-17', '2014-01-16', '2014-01-15', '2014-01-14',\n",
              "       '2014-01-13', '2014-01-12', '2014-01-11', '2014-01-10',\n",
              "       '2014-01-09', '2014-01-08', '2014-01-07', '2014-01-06',\n",
              "       '2014-01-05', '2014-01-04', '2014-01-03', '2014-01-02',\n",
              "       '2014-01-01', '2013-12-31', '2013-12-30', '2013-12-29',\n",
              "       '2013-12-28', '2013-12-27', '2013-12-26', '2013-12-25',\n",
              "       '2013-12-24', '2013-12-23', '2013-12-22', '2013-12-21',\n",
              "       '2013-12-20', '2013-12-19', '2013-12-18', '2013-12-17',\n",
              "       '2013-12-16', '2013-12-15', '2013-12-14', '2013-12-13',\n",
              "       '2013-12-12', '2013-12-11', '2013-12-10', '2013-12-09',\n",
              "       '2013-12-08', '2013-12-07', '2013-12-06', '2013-12-05',\n",
              "       '2013-12-04', '2013-12-03', '2013-12-02', '2013-12-01',\n",
              "       '2013-11-30', '2013-11-29', '2013-11-28', '2013-11-27',\n",
              "       '2013-11-26', '2013-11-25', '2013-11-24', '2013-11-23',\n",
              "       '2013-11-22', '2013-11-21', '2013-11-20', '2013-11-19',\n",
              "       '2013-11-18', '2013-11-17', '2013-11-16', '2013-11-15',\n",
              "       '2013-11-14', '2013-11-13', '2013-11-12', '2013-11-11',\n",
              "       '2013-11-10', '2013-11-09', '2013-11-08', '2013-11-07',\n",
              "       '2013-11-06', '2013-11-05', '2013-11-04', '2013-11-03',\n",
              "       '2013-11-02', '2013-11-01', '2013-10-31', '2013-10-30',\n",
              "       '2013-10-29', '2013-10-28', '2013-10-27', '2013-10-26',\n",
              "       '2013-10-25', '2013-10-24', '2013-10-23', '2013-10-22',\n",
              "       '2013-10-21', '2013-10-20', '2013-10-19', '2013-10-18',\n",
              "       '2013-10-17', '2013-10-16', '2013-10-15', '2013-10-14',\n",
              "       '2013-10-13', '2013-10-12', '2013-10-11', '2013-10-10',\n",
              "       '2013-10-09', '2013-10-08', '2013-10-07', '2013-10-06',\n",
              "       '2013-10-05', '2013-10-04', '2013-10-03', '2013-10-02',\n",
              "       '2013-10-01', '2013-09-30', '2013-09-29', '2013-09-28',\n",
              "       '2013-09-27', '2013-09-26', '2013-09-25', '2013-09-24',\n",
              "       '2013-09-23', '2013-09-22', '2013-09-21', '2013-09-20',\n",
              "       '2013-09-19', '2013-09-18', '2013-09-17', '2013-09-16',\n",
              "       '2013-09-15', '2013-09-14', '2013-09-13', '2013-09-12',\n",
              "       '2013-09-11', '2013-09-10', '2013-09-09', '2013-09-08',\n",
              "       '2013-09-07', '2013-09-06', '2013-09-05', '2013-09-04',\n",
              "       '2013-09-03', '2013-09-02', '2013-09-01', '2013-08-31',\n",
              "       '2013-08-30', '2013-08-29', '2013-08-28', '2013-08-27',\n",
              "       '2013-08-26', '2013-08-25', '2013-08-24', '2013-08-23',\n",
              "       '2013-08-22', '2013-08-21', '2013-08-20', '2013-08-19',\n",
              "       '2013-08-18', '2013-08-17', '2013-08-16', '2013-08-15',\n",
              "       '2013-08-14', '2013-08-13', '2013-08-12', '2013-08-11',\n",
              "       '2013-08-10', '2013-08-09', '2013-08-08', '2013-08-07',\n",
              "       '2013-08-06', '2013-08-05', '2013-08-04', '2013-08-03',\n",
              "       '2013-08-02', '2013-08-01', '2013-07-31', '2013-07-30',\n",
              "       '2013-07-29', '2013-07-28', '2013-07-27', '2013-07-26',\n",
              "       '2013-07-25', '2013-07-24', '2013-07-23', '2013-07-22',\n",
              "       '2013-07-21', '2013-07-20', '2013-07-19', '2013-07-18',\n",
              "       '2013-07-17', '2013-07-16', '2013-07-15', '2013-07-14',\n",
              "       '2013-07-13', '2013-07-12', '2013-07-11', '2013-07-10',\n",
              "       '2013-07-09', '2013-07-08', '2013-07-07', '2013-07-06',\n",
              "       '2013-07-05', '2013-07-04', '2013-07-03', '2013-07-02',\n",
              "       '2013-07-01', '2013-06-30', '2013-06-29', '2013-06-28',\n",
              "       '2013-06-27', '2013-06-26', '2013-06-25', '2013-06-24',\n",
              "       '2013-06-23', '2013-06-22', '2013-06-21', '2013-06-20',\n",
              "       '2013-06-19', '2013-06-18', '2013-06-17', '2013-06-16',\n",
              "       '2013-06-15', '2013-06-14', '2013-06-13', '2013-06-12',\n",
              "       '2013-06-11', '2013-06-10', '2013-06-09', '2013-06-08',\n",
              "       '2013-06-07', '2013-06-06', '2013-06-05', '2013-06-04',\n",
              "       '2013-06-03', '2013-06-02', '2013-06-01', '2013-05-31',\n",
              "       '2013-05-30', '2013-05-29', '2013-05-28', '2013-05-27',\n",
              "       '2013-05-26', '2013-05-25', '2013-05-24', '2013-05-23',\n",
              "       '2013-05-22', '2013-05-21', '2013-05-20', '2013-05-19',\n",
              "       '2013-05-18', '2013-05-17', '2013-05-16', '2013-05-15',\n",
              "       '2013-05-14', '2013-05-13', '2013-05-12', '2013-05-11',\n",
              "       '2013-05-10', '2013-05-09', '2013-05-08', '2013-05-07',\n",
              "       '2013-05-06', '2013-05-05', '2013-05-04', '2013-05-03',\n",
              "       '2013-05-02', '2013-05-01', '2013-04-30', '2013-04-29',\n",
              "       '2013-04-28', '2013-04-27', '2013-04-26', '2013-04-25',\n",
              "       '2013-04-24', '2013-04-23', '2013-04-22', '2013-04-21',\n",
              "       '2013-04-20', '2013-04-19', '2013-04-18', '2013-04-17',\n",
              "       '2013-04-16', '2013-04-15', '2013-04-14', '2013-04-13',\n",
              "       '2013-04-12', '2013-04-11', '2013-04-10', '2013-04-09',\n",
              "       '2013-04-08', '2013-04-07', '2013-04-06', '2013-04-05',\n",
              "       '2013-04-04', '2013-04-03', '2013-04-02', '2013-04-01',\n",
              "       '2013-03-31', '2013-03-30', '2013-03-29', '2013-03-28',\n",
              "       '2013-03-27', '2013-03-26', '2013-03-25', '2013-03-24',\n",
              "       '2013-03-23', '2013-03-22', '2013-03-21', '2013-03-20',\n",
              "       '2013-03-19', '2013-03-18', '2013-03-17', '2013-03-16',\n",
              "       '2013-03-15', '2013-03-14', '2013-03-13', '2013-03-12',\n",
              "       '2013-03-11', '2013-03-10', '2013-03-09', '2013-03-08',\n",
              "       '2013-03-07', '2013-03-06', '2013-03-05', '2013-03-04',\n",
              "       '2013-03-03', '2013-03-02', '2013-03-01', '2013-02-28',\n",
              "       '2013-02-27', '2013-02-26', '2013-02-25', '2013-02-24',\n",
              "       '2013-02-23', '2013-02-22', '2013-02-21', '2013-02-20',\n",
              "       '2013-02-19', '2013-02-18', '2013-02-17', '2013-02-16',\n",
              "       '2013-02-15', '2013-02-14', '2013-02-13', '2013-02-12',\n",
              "       '2013-02-11', '2013-02-10', '2013-02-09', '2013-02-08',\n",
              "       '2013-02-07', '2013-02-06', '2013-02-05', '2013-02-04',\n",
              "       '2013-02-03', '2013-02-02', '2013-02-01', '2013-01-31',\n",
              "       '2013-01-30', '2013-01-29', '2013-01-28', '2013-01-27',\n",
              "       '2013-01-26', '2013-01-25', '2013-01-24', '2013-01-23',\n",
              "       '2013-01-22', '2013-01-21', '2013-01-20', '2013-01-19',\n",
              "       '2013-01-18', '2013-01-17', '2013-01-16', '2013-01-15',\n",
              "       '2013-01-14', '2013-01-13', '2013-01-12', '2013-01-11',\n",
              "       '2013-01-10', '2013-01-09', '2013-01-08', '2013-01-07',\n",
              "       '2013-01-06', '2013-01-05', '2013-01-04', '2013-01-03',\n",
              "       '2013-01-02', '2013-01-01'], dtype=object)"
            ]
          },
          "metadata": {},
          "execution_count": 9
        }
      ]
    },
    {
      "cell_type": "code",
      "source": [
        "sales_df.isnull().sum()"
      ],
      "metadata": {
        "id": "z732Nc289R8c",
        "colab": {
          "base_uri": "https://localhost:8080/"
        },
        "outputId": "e6863080-553e-4e99-ed78-da6dc6749199"
      },
      "execution_count": 10,
      "outputs": [
        {
          "output_type": "execute_result",
          "data": {
            "text/plain": [
              "Store            0\n",
              "DayOfWeek        0\n",
              "Date             0\n",
              "Sales            0\n",
              "Customers        0\n",
              "Open             0\n",
              "Promo            0\n",
              "StateHoliday     0\n",
              "SchoolHoliday    0\n",
              "dtype: int64"
            ]
          },
          "metadata": {},
          "execution_count": 10
        }
      ]
    },
    {
      "cell_type": "code",
      "source": [
        "store_df.info()"
      ],
      "metadata": {
        "id": "ThAzZ5GT1VwA",
        "colab": {
          "base_uri": "https://localhost:8080/"
        },
        "outputId": "46317bea-193f-4d2f-f035-fa1c70397733"
      },
      "execution_count": 11,
      "outputs": [
        {
          "output_type": "stream",
          "name": "stdout",
          "text": [
            "<class 'pandas.core.frame.DataFrame'>\n",
            "RangeIndex: 1115 entries, 0 to 1114\n",
            "Data columns (total 10 columns):\n",
            " #   Column                     Non-Null Count  Dtype  \n",
            "---  ------                     --------------  -----  \n",
            " 0   Store                      1115 non-null   int64  \n",
            " 1   StoreType                  1115 non-null   object \n",
            " 2   Assortment                 1115 non-null   object \n",
            " 3   CompetitionDistance        1112 non-null   float64\n",
            " 4   CompetitionOpenSinceMonth  761 non-null    float64\n",
            " 5   CompetitionOpenSinceYear   761 non-null    float64\n",
            " 6   Promo2                     1115 non-null   int64  \n",
            " 7   Promo2SinceWeek            571 non-null    float64\n",
            " 8   Promo2SinceYear            571 non-null    float64\n",
            " 9   PromoInterval              571 non-null    object \n",
            "dtypes: float64(5), int64(2), object(3)\n",
            "memory usage: 87.2+ KB\n"
          ]
        }
      ]
    },
    {
      "cell_type": "markdown",
      "source": [
        "# **3-Data Wrangling**"
      ],
      "metadata": {
        "id": "MEYzNioGEUJQ"
      }
    },
    {
      "cell_type": "markdown",
      "source": [
        "#### Missing Values/Null Values"
      ],
      "metadata": {
        "id": "P9DPcEweEUid"
      }
    },
    {
      "cell_type": "markdown",
      "source": [],
      "metadata": {
        "id": "TqmVacc4dgeb"
      }
    },
    {
      "cell_type": "code",
      "source": [
        "# CompetitionDistance - distance in meters to the nearest competitor store\n",
        "\n",
        "sales_df['SchoolHoliday'] .unique()"
      ],
      "metadata": {
        "id": "TtGMW-zb4l0I",
        "colab": {
          "base_uri": "https://localhost:8080/"
        },
        "outputId": "e17f9075-5e05-4401-d61f-77766a7774da"
      },
      "execution_count": 12,
      "outputs": [
        {
          "output_type": "execute_result",
          "data": {
            "text/plain": [
              "array([1, 0])"
            ]
          },
          "metadata": {},
          "execution_count": 12
        }
      ]
    },
    {
      "cell_type": "code",
      "source": [
        "store_df.isnull().sum()"
      ],
      "metadata": {
        "id": "ecByvEs89ljQ",
        "colab": {
          "base_uri": "https://localhost:8080/"
        },
        "outputId": "3d447a42-80f5-4e2f-a3a0-09becd4a7e5b"
      },
      "execution_count": 13,
      "outputs": [
        {
          "output_type": "execute_result",
          "data": {
            "text/plain": [
              "Store                          0\n",
              "StoreType                      0\n",
              "Assortment                     0\n",
              "CompetitionDistance            3\n",
              "CompetitionOpenSinceMonth    354\n",
              "CompetitionOpenSinceYear     354\n",
              "Promo2                         0\n",
              "Promo2SinceWeek              544\n",
              "Promo2SinceYear              544\n",
              "PromoInterval                544\n",
              "dtype: int64"
            ]
          },
          "metadata": {},
          "execution_count": 13
        }
      ]
    },
    {
      "cell_type": "code",
      "source": [
        "li = [\"DayOfWeek\" , \"StateHoliday\" , \"SchoolHoliday\"]\n",
        "\n",
        "for i in li:\n",
        "  print(i)\n",
        "  print(sales_df[i].unique())\n",
        "  print(\"-----------------------\")\n",
        "     "
      ],
      "metadata": {
        "id": "Ir3Drwvc4mDK",
        "colab": {
          "base_uri": "https://localhost:8080/"
        },
        "outputId": "f136535a-1adf-47b2-b5a1-ca5a8c41e081"
      },
      "execution_count": 14,
      "outputs": [
        {
          "output_type": "stream",
          "name": "stdout",
          "text": [
            "DayOfWeek\n",
            "[5 4 3 2 1 7 6]\n",
            "-----------------------\n",
            "StateHoliday\n",
            "['0' 'a' 'b' 'c' 0]\n",
            "-----------------------\n",
            "SchoolHoliday\n",
            "[1 0]\n",
            "-----------------------\n"
          ]
        }
      ]
    },
    {
      "cell_type": "code",
      "source": [
        "store_df.nunique()"
      ],
      "metadata": {
        "id": "nt7AyPkQ4mUm",
        "colab": {
          "base_uri": "https://localhost:8080/"
        },
        "outputId": "4ee3d849-e835-42ff-cb26-ef9607db2c9e"
      },
      "execution_count": 15,
      "outputs": [
        {
          "output_type": "execute_result",
          "data": {
            "text/plain": [
              "Store                        1115\n",
              "StoreType                       4\n",
              "Assortment                      3\n",
              "CompetitionDistance           654\n",
              "CompetitionOpenSinceMonth      12\n",
              "CompetitionOpenSinceYear       23\n",
              "Promo2                          2\n",
              "Promo2SinceWeek                24\n",
              "Promo2SinceYear                 7\n",
              "PromoInterval                   3\n",
              "dtype: int64"
            ]
          },
          "metadata": {},
          "execution_count": 15
        }
      ]
    },
    {
      "cell_type": "code",
      "source": [
        "# STORE DATASET FILL INTO NULL VALUES I.E 0\n",
        "store_df['CompetitionDistance'] = store_df['CompetitionDistance'].fillna(0)\n",
        "store_df['CompetitionOpenSinceMonth'] = store_df['CompetitionOpenSinceMonth'].fillna(0)\n",
        "store_df['CompetitionOpenSinceYear'] = store_df['CompetitionOpenSinceYear'].fillna(0)\n",
        "store_df['Promo2SinceWeek'] = store_df['Promo2SinceWeek'].fillna(0)\n",
        "store_df['Promo2SinceYear'] = store_df['Promo2SinceYear'].fillna(0)\n",
        "store_df['PromoInterval'] = store_df['PromoInterval'].fillna(0)\n",
        "\n"
      ],
      "metadata": {
        "id": "Pc9T3byKE8L6"
      },
      "execution_count": 16,
      "outputs": []
    },
    {
      "cell_type": "code",
      "source": [
        "store_df.isna().sum()"
      ],
      "metadata": {
        "id": "c53xQXDqOj5V",
        "colab": {
          "base_uri": "https://localhost:8080/"
        },
        "outputId": "1afc6df1-9d95-40ef-c024-97212e4822d8"
      },
      "execution_count": 17,
      "outputs": [
        {
          "output_type": "execute_result",
          "data": {
            "text/plain": [
              "Store                        0\n",
              "StoreType                    0\n",
              "Assortment                   0\n",
              "CompetitionDistance          0\n",
              "CompetitionOpenSinceMonth    0\n",
              "CompetitionOpenSinceYear     0\n",
              "Promo2                       0\n",
              "Promo2SinceWeek              0\n",
              "Promo2SinceYear              0\n",
              "PromoInterval                0\n",
              "dtype: int64"
            ]
          },
          "metadata": {},
          "execution_count": 17
        }
      ]
    },
    {
      "cell_type": "code",
      "source": [
        "store_df"
      ],
      "metadata": {
        "id": "HVnSd3-rE8m7",
        "colab": {
          "base_uri": "https://localhost:8080/",
          "height": 424
        },
        "outputId": "e23651a1-c404-4da1-885e-ba0ab9841c0d"
      },
      "execution_count": 18,
      "outputs": [
        {
          "output_type": "execute_result",
          "data": {
            "text/plain": [
              "      Store StoreType Assortment  CompetitionDistance  \\\n",
              "0         1         c          a               1270.0   \n",
              "1         2         a          a                570.0   \n",
              "2         3         a          a              14130.0   \n",
              "3         4         c          c                620.0   \n",
              "4         5         a          a              29910.0   \n",
              "...     ...       ...        ...                  ...   \n",
              "1110   1111         a          a               1900.0   \n",
              "1111   1112         c          c               1880.0   \n",
              "1112   1113         a          c               9260.0   \n",
              "1113   1114         a          c                870.0   \n",
              "1114   1115         d          c               5350.0   \n",
              "\n",
              "      CompetitionOpenSinceMonth  CompetitionOpenSinceYear  Promo2  \\\n",
              "0                           9.0                    2008.0       0   \n",
              "1                          11.0                    2007.0       1   \n",
              "2                          12.0                    2006.0       1   \n",
              "3                           9.0                    2009.0       0   \n",
              "4                           4.0                    2015.0       0   \n",
              "...                         ...                       ...     ...   \n",
              "1110                        6.0                    2014.0       1   \n",
              "1111                        4.0                    2006.0       0   \n",
              "1112                        0.0                       0.0       0   \n",
              "1113                        0.0                       0.0       0   \n",
              "1114                        0.0                       0.0       1   \n",
              "\n",
              "      Promo2SinceWeek  Promo2SinceYear     PromoInterval  \n",
              "0                 0.0              0.0                 0  \n",
              "1                13.0           2010.0   Jan,Apr,Jul,Oct  \n",
              "2                14.0           2011.0   Jan,Apr,Jul,Oct  \n",
              "3                 0.0              0.0                 0  \n",
              "4                 0.0              0.0                 0  \n",
              "...               ...              ...               ...  \n",
              "1110             31.0           2013.0   Jan,Apr,Jul,Oct  \n",
              "1111              0.0              0.0                 0  \n",
              "1112              0.0              0.0                 0  \n",
              "1113              0.0              0.0                 0  \n",
              "1114             22.0           2012.0  Mar,Jun,Sept,Dec  \n",
              "\n",
              "[1115 rows x 10 columns]"
            ],
            "text/html": [
              "\n",
              "  <div id=\"df-ad7e037b-167f-4f39-815a-a6e25783c98e\">\n",
              "    <div class=\"colab-df-container\">\n",
              "      <div>\n",
              "<style scoped>\n",
              "    .dataframe tbody tr th:only-of-type {\n",
              "        vertical-align: middle;\n",
              "    }\n",
              "\n",
              "    .dataframe tbody tr th {\n",
              "        vertical-align: top;\n",
              "    }\n",
              "\n",
              "    .dataframe thead th {\n",
              "        text-align: right;\n",
              "    }\n",
              "</style>\n",
              "<table border=\"1\" class=\"dataframe\">\n",
              "  <thead>\n",
              "    <tr style=\"text-align: right;\">\n",
              "      <th></th>\n",
              "      <th>Store</th>\n",
              "      <th>StoreType</th>\n",
              "      <th>Assortment</th>\n",
              "      <th>CompetitionDistance</th>\n",
              "      <th>CompetitionOpenSinceMonth</th>\n",
              "      <th>CompetitionOpenSinceYear</th>\n",
              "      <th>Promo2</th>\n",
              "      <th>Promo2SinceWeek</th>\n",
              "      <th>Promo2SinceYear</th>\n",
              "      <th>PromoInterval</th>\n",
              "    </tr>\n",
              "  </thead>\n",
              "  <tbody>\n",
              "    <tr>\n",
              "      <th>0</th>\n",
              "      <td>1</td>\n",
              "      <td>c</td>\n",
              "      <td>a</td>\n",
              "      <td>1270.0</td>\n",
              "      <td>9.0</td>\n",
              "      <td>2008.0</td>\n",
              "      <td>0</td>\n",
              "      <td>0.0</td>\n",
              "      <td>0.0</td>\n",
              "      <td>0</td>\n",
              "    </tr>\n",
              "    <tr>\n",
              "      <th>1</th>\n",
              "      <td>2</td>\n",
              "      <td>a</td>\n",
              "      <td>a</td>\n",
              "      <td>570.0</td>\n",
              "      <td>11.0</td>\n",
              "      <td>2007.0</td>\n",
              "      <td>1</td>\n",
              "      <td>13.0</td>\n",
              "      <td>2010.0</td>\n",
              "      <td>Jan,Apr,Jul,Oct</td>\n",
              "    </tr>\n",
              "    <tr>\n",
              "      <th>2</th>\n",
              "      <td>3</td>\n",
              "      <td>a</td>\n",
              "      <td>a</td>\n",
              "      <td>14130.0</td>\n",
              "      <td>12.0</td>\n",
              "      <td>2006.0</td>\n",
              "      <td>1</td>\n",
              "      <td>14.0</td>\n",
              "      <td>2011.0</td>\n",
              "      <td>Jan,Apr,Jul,Oct</td>\n",
              "    </tr>\n",
              "    <tr>\n",
              "      <th>3</th>\n",
              "      <td>4</td>\n",
              "      <td>c</td>\n",
              "      <td>c</td>\n",
              "      <td>620.0</td>\n",
              "      <td>9.0</td>\n",
              "      <td>2009.0</td>\n",
              "      <td>0</td>\n",
              "      <td>0.0</td>\n",
              "      <td>0.0</td>\n",
              "      <td>0</td>\n",
              "    </tr>\n",
              "    <tr>\n",
              "      <th>4</th>\n",
              "      <td>5</td>\n",
              "      <td>a</td>\n",
              "      <td>a</td>\n",
              "      <td>29910.0</td>\n",
              "      <td>4.0</td>\n",
              "      <td>2015.0</td>\n",
              "      <td>0</td>\n",
              "      <td>0.0</td>\n",
              "      <td>0.0</td>\n",
              "      <td>0</td>\n",
              "    </tr>\n",
              "    <tr>\n",
              "      <th>...</th>\n",
              "      <td>...</td>\n",
              "      <td>...</td>\n",
              "      <td>...</td>\n",
              "      <td>...</td>\n",
              "      <td>...</td>\n",
              "      <td>...</td>\n",
              "      <td>...</td>\n",
              "      <td>...</td>\n",
              "      <td>...</td>\n",
              "      <td>...</td>\n",
              "    </tr>\n",
              "    <tr>\n",
              "      <th>1110</th>\n",
              "      <td>1111</td>\n",
              "      <td>a</td>\n",
              "      <td>a</td>\n",
              "      <td>1900.0</td>\n",
              "      <td>6.0</td>\n",
              "      <td>2014.0</td>\n",
              "      <td>1</td>\n",
              "      <td>31.0</td>\n",
              "      <td>2013.0</td>\n",
              "      <td>Jan,Apr,Jul,Oct</td>\n",
              "    </tr>\n",
              "    <tr>\n",
              "      <th>1111</th>\n",
              "      <td>1112</td>\n",
              "      <td>c</td>\n",
              "      <td>c</td>\n",
              "      <td>1880.0</td>\n",
              "      <td>4.0</td>\n",
              "      <td>2006.0</td>\n",
              "      <td>0</td>\n",
              "      <td>0.0</td>\n",
              "      <td>0.0</td>\n",
              "      <td>0</td>\n",
              "    </tr>\n",
              "    <tr>\n",
              "      <th>1112</th>\n",
              "      <td>1113</td>\n",
              "      <td>a</td>\n",
              "      <td>c</td>\n",
              "      <td>9260.0</td>\n",
              "      <td>0.0</td>\n",
              "      <td>0.0</td>\n",
              "      <td>0</td>\n",
              "      <td>0.0</td>\n",
              "      <td>0.0</td>\n",
              "      <td>0</td>\n",
              "    </tr>\n",
              "    <tr>\n",
              "      <th>1113</th>\n",
              "      <td>1114</td>\n",
              "      <td>a</td>\n",
              "      <td>c</td>\n",
              "      <td>870.0</td>\n",
              "      <td>0.0</td>\n",
              "      <td>0.0</td>\n",
              "      <td>0</td>\n",
              "      <td>0.0</td>\n",
              "      <td>0.0</td>\n",
              "      <td>0</td>\n",
              "    </tr>\n",
              "    <tr>\n",
              "      <th>1114</th>\n",
              "      <td>1115</td>\n",
              "      <td>d</td>\n",
              "      <td>c</td>\n",
              "      <td>5350.0</td>\n",
              "      <td>0.0</td>\n",
              "      <td>0.0</td>\n",
              "      <td>1</td>\n",
              "      <td>22.0</td>\n",
              "      <td>2012.0</td>\n",
              "      <td>Mar,Jun,Sept,Dec</td>\n",
              "    </tr>\n",
              "  </tbody>\n",
              "</table>\n",
              "<p>1115 rows × 10 columns</p>\n",
              "</div>\n",
              "      <button class=\"colab-df-convert\" onclick=\"convertToInteractive('df-ad7e037b-167f-4f39-815a-a6e25783c98e')\"\n",
              "              title=\"Convert this dataframe to an interactive table.\"\n",
              "              style=\"display:none;\">\n",
              "        \n",
              "  <svg xmlns=\"http://www.w3.org/2000/svg\" height=\"24px\"viewBox=\"0 0 24 24\"\n",
              "       width=\"24px\">\n",
              "    <path d=\"M0 0h24v24H0V0z\" fill=\"none\"/>\n",
              "    <path d=\"M18.56 5.44l.94 2.06.94-2.06 2.06-.94-2.06-.94-.94-2.06-.94 2.06-2.06.94zm-11 1L8.5 8.5l.94-2.06 2.06-.94-2.06-.94L8.5 2.5l-.94 2.06-2.06.94zm10 10l.94 2.06.94-2.06 2.06-.94-2.06-.94-.94-2.06-.94 2.06-2.06.94z\"/><path d=\"M17.41 7.96l-1.37-1.37c-.4-.4-.92-.59-1.43-.59-.52 0-1.04.2-1.43.59L10.3 9.45l-7.72 7.72c-.78.78-.78 2.05 0 2.83L4 21.41c.39.39.9.59 1.41.59.51 0 1.02-.2 1.41-.59l7.78-7.78 2.81-2.81c.8-.78.8-2.07 0-2.86zM5.41 20L4 18.59l7.72-7.72 1.47 1.35L5.41 20z\"/>\n",
              "  </svg>\n",
              "      </button>\n",
              "      \n",
              "  <style>\n",
              "    .colab-df-container {\n",
              "      display:flex;\n",
              "      flex-wrap:wrap;\n",
              "      gap: 12px;\n",
              "    }\n",
              "\n",
              "    .colab-df-convert {\n",
              "      background-color: #E8F0FE;\n",
              "      border: none;\n",
              "      border-radius: 50%;\n",
              "      cursor: pointer;\n",
              "      display: none;\n",
              "      fill: #1967D2;\n",
              "      height: 32px;\n",
              "      padding: 0 0 0 0;\n",
              "      width: 32px;\n",
              "    }\n",
              "\n",
              "    .colab-df-convert:hover {\n",
              "      background-color: #E2EBFA;\n",
              "      box-shadow: 0px 1px 2px rgba(60, 64, 67, 0.3), 0px 1px 3px 1px rgba(60, 64, 67, 0.15);\n",
              "      fill: #174EA6;\n",
              "    }\n",
              "\n",
              "    [theme=dark] .colab-df-convert {\n",
              "      background-color: #3B4455;\n",
              "      fill: #D2E3FC;\n",
              "    }\n",
              "\n",
              "    [theme=dark] .colab-df-convert:hover {\n",
              "      background-color: #434B5C;\n",
              "      box-shadow: 0px 1px 3px 1px rgba(0, 0, 0, 0.15);\n",
              "      filter: drop-shadow(0px 1px 2px rgba(0, 0, 0, 0.3));\n",
              "      fill: #FFFFFF;\n",
              "    }\n",
              "  </style>\n",
              "\n",
              "      <script>\n",
              "        const buttonEl =\n",
              "          document.querySelector('#df-ad7e037b-167f-4f39-815a-a6e25783c98e button.colab-df-convert');\n",
              "        buttonEl.style.display =\n",
              "          google.colab.kernel.accessAllowed ? 'block' : 'none';\n",
              "\n",
              "        async function convertToInteractive(key) {\n",
              "          const element = document.querySelector('#df-ad7e037b-167f-4f39-815a-a6e25783c98e');\n",
              "          const dataTable =\n",
              "            await google.colab.kernel.invokeFunction('convertToInteractive',\n",
              "                                                     [key], {});\n",
              "          if (!dataTable) return;\n",
              "\n",
              "          const docLinkHtml = 'Like what you see? Visit the ' +\n",
              "            '<a target=\"_blank\" href=https://colab.research.google.com/notebooks/data_table.ipynb>data table notebook</a>'\n",
              "            + ' to learn more about interactive tables.';\n",
              "          element.innerHTML = '';\n",
              "          dataTable['output_type'] = 'display_data';\n",
              "          await google.colab.output.renderOutput(dataTable, element);\n",
              "          const docLink = document.createElement('div');\n",
              "          docLink.innerHTML = docLinkHtml;\n",
              "          element.appendChild(docLink);\n",
              "        }\n",
              "      </script>\n",
              "    </div>\n",
              "  </div>\n",
              "  "
            ]
          },
          "metadata": {},
          "execution_count": 18
        }
      ]
    },
    {
      "cell_type": "code",
      "source": [
        "final1 = pd.merge(sales_df, store_df, on='Store', how='left')"
      ],
      "metadata": {
        "id": "VuCENkPgOFO9"
      },
      "execution_count": 19,
      "outputs": []
    },
    {
      "cell_type": "code",
      "source": [
        "final1"
      ],
      "metadata": {
        "id": "dKZ_7H9cPWxL",
        "colab": {
          "base_uri": "https://localhost:8080/",
          "height": 661
        },
        "outputId": "6f3787c2-ea58-4eb9-8b30-4f93065b9ecc"
      },
      "execution_count": 20,
      "outputs": [
        {
          "output_type": "execute_result",
          "data": {
            "text/plain": [
              "         Store  DayOfWeek        Date  Sales  Customers  Open  Promo  \\\n",
              "0            1          5  2015-07-31   5263        555     1      1   \n",
              "1            2          5  2015-07-31   6064        625     1      1   \n",
              "2            3          5  2015-07-31   8314        821     1      1   \n",
              "3            4          5  2015-07-31  13995       1498     1      1   \n",
              "4            5          5  2015-07-31   4822        559     1      1   \n",
              "...        ...        ...         ...    ...        ...   ...    ...   \n",
              "1017204   1111          2  2013-01-01      0          0     0      0   \n",
              "1017205   1112          2  2013-01-01      0          0     0      0   \n",
              "1017206   1113          2  2013-01-01      0          0     0      0   \n",
              "1017207   1114          2  2013-01-01      0          0     0      0   \n",
              "1017208   1115          2  2013-01-01      0          0     0      0   \n",
              "\n",
              "        StateHoliday  SchoolHoliday StoreType Assortment  CompetitionDistance  \\\n",
              "0                  0              1         c          a               1270.0   \n",
              "1                  0              1         a          a                570.0   \n",
              "2                  0              1         a          a              14130.0   \n",
              "3                  0              1         c          c                620.0   \n",
              "4                  0              1         a          a              29910.0   \n",
              "...              ...            ...       ...        ...                  ...   \n",
              "1017204            a              1         a          a               1900.0   \n",
              "1017205            a              1         c          c               1880.0   \n",
              "1017206            a              1         a          c               9260.0   \n",
              "1017207            a              1         a          c                870.0   \n",
              "1017208            a              1         d          c               5350.0   \n",
              "\n",
              "         CompetitionOpenSinceMonth  CompetitionOpenSinceYear  Promo2  \\\n",
              "0                              9.0                    2008.0       0   \n",
              "1                             11.0                    2007.0       1   \n",
              "2                             12.0                    2006.0       1   \n",
              "3                              9.0                    2009.0       0   \n",
              "4                              4.0                    2015.0       0   \n",
              "...                            ...                       ...     ...   \n",
              "1017204                        6.0                    2014.0       1   \n",
              "1017205                        4.0                    2006.0       0   \n",
              "1017206                        0.0                       0.0       0   \n",
              "1017207                        0.0                       0.0       0   \n",
              "1017208                        0.0                       0.0       1   \n",
              "\n",
              "         Promo2SinceWeek  Promo2SinceYear     PromoInterval  \n",
              "0                    0.0              0.0                 0  \n",
              "1                   13.0           2010.0   Jan,Apr,Jul,Oct  \n",
              "2                   14.0           2011.0   Jan,Apr,Jul,Oct  \n",
              "3                    0.0              0.0                 0  \n",
              "4                    0.0              0.0                 0  \n",
              "...                  ...              ...               ...  \n",
              "1017204             31.0           2013.0   Jan,Apr,Jul,Oct  \n",
              "1017205              0.0              0.0                 0  \n",
              "1017206              0.0              0.0                 0  \n",
              "1017207              0.0              0.0                 0  \n",
              "1017208             22.0           2012.0  Mar,Jun,Sept,Dec  \n",
              "\n",
              "[1017209 rows x 18 columns]"
            ],
            "text/html": [
              "\n",
              "  <div id=\"df-cd210b06-b55b-4ba2-a525-9b9562ba2848\">\n",
              "    <div class=\"colab-df-container\">\n",
              "      <div>\n",
              "<style scoped>\n",
              "    .dataframe tbody tr th:only-of-type {\n",
              "        vertical-align: middle;\n",
              "    }\n",
              "\n",
              "    .dataframe tbody tr th {\n",
              "        vertical-align: top;\n",
              "    }\n",
              "\n",
              "    .dataframe thead th {\n",
              "        text-align: right;\n",
              "    }\n",
              "</style>\n",
              "<table border=\"1\" class=\"dataframe\">\n",
              "  <thead>\n",
              "    <tr style=\"text-align: right;\">\n",
              "      <th></th>\n",
              "      <th>Store</th>\n",
              "      <th>DayOfWeek</th>\n",
              "      <th>Date</th>\n",
              "      <th>Sales</th>\n",
              "      <th>Customers</th>\n",
              "      <th>Open</th>\n",
              "      <th>Promo</th>\n",
              "      <th>StateHoliday</th>\n",
              "      <th>SchoolHoliday</th>\n",
              "      <th>StoreType</th>\n",
              "      <th>Assortment</th>\n",
              "      <th>CompetitionDistance</th>\n",
              "      <th>CompetitionOpenSinceMonth</th>\n",
              "      <th>CompetitionOpenSinceYear</th>\n",
              "      <th>Promo2</th>\n",
              "      <th>Promo2SinceWeek</th>\n",
              "      <th>Promo2SinceYear</th>\n",
              "      <th>PromoInterval</th>\n",
              "    </tr>\n",
              "  </thead>\n",
              "  <tbody>\n",
              "    <tr>\n",
              "      <th>0</th>\n",
              "      <td>1</td>\n",
              "      <td>5</td>\n",
              "      <td>2015-07-31</td>\n",
              "      <td>5263</td>\n",
              "      <td>555</td>\n",
              "      <td>1</td>\n",
              "      <td>1</td>\n",
              "      <td>0</td>\n",
              "      <td>1</td>\n",
              "      <td>c</td>\n",
              "      <td>a</td>\n",
              "      <td>1270.0</td>\n",
              "      <td>9.0</td>\n",
              "      <td>2008.0</td>\n",
              "      <td>0</td>\n",
              "      <td>0.0</td>\n",
              "      <td>0.0</td>\n",
              "      <td>0</td>\n",
              "    </tr>\n",
              "    <tr>\n",
              "      <th>1</th>\n",
              "      <td>2</td>\n",
              "      <td>5</td>\n",
              "      <td>2015-07-31</td>\n",
              "      <td>6064</td>\n",
              "      <td>625</td>\n",
              "      <td>1</td>\n",
              "      <td>1</td>\n",
              "      <td>0</td>\n",
              "      <td>1</td>\n",
              "      <td>a</td>\n",
              "      <td>a</td>\n",
              "      <td>570.0</td>\n",
              "      <td>11.0</td>\n",
              "      <td>2007.0</td>\n",
              "      <td>1</td>\n",
              "      <td>13.0</td>\n",
              "      <td>2010.0</td>\n",
              "      <td>Jan,Apr,Jul,Oct</td>\n",
              "    </tr>\n",
              "    <tr>\n",
              "      <th>2</th>\n",
              "      <td>3</td>\n",
              "      <td>5</td>\n",
              "      <td>2015-07-31</td>\n",
              "      <td>8314</td>\n",
              "      <td>821</td>\n",
              "      <td>1</td>\n",
              "      <td>1</td>\n",
              "      <td>0</td>\n",
              "      <td>1</td>\n",
              "      <td>a</td>\n",
              "      <td>a</td>\n",
              "      <td>14130.0</td>\n",
              "      <td>12.0</td>\n",
              "      <td>2006.0</td>\n",
              "      <td>1</td>\n",
              "      <td>14.0</td>\n",
              "      <td>2011.0</td>\n",
              "      <td>Jan,Apr,Jul,Oct</td>\n",
              "    </tr>\n",
              "    <tr>\n",
              "      <th>3</th>\n",
              "      <td>4</td>\n",
              "      <td>5</td>\n",
              "      <td>2015-07-31</td>\n",
              "      <td>13995</td>\n",
              "      <td>1498</td>\n",
              "      <td>1</td>\n",
              "      <td>1</td>\n",
              "      <td>0</td>\n",
              "      <td>1</td>\n",
              "      <td>c</td>\n",
              "      <td>c</td>\n",
              "      <td>620.0</td>\n",
              "      <td>9.0</td>\n",
              "      <td>2009.0</td>\n",
              "      <td>0</td>\n",
              "      <td>0.0</td>\n",
              "      <td>0.0</td>\n",
              "      <td>0</td>\n",
              "    </tr>\n",
              "    <tr>\n",
              "      <th>4</th>\n",
              "      <td>5</td>\n",
              "      <td>5</td>\n",
              "      <td>2015-07-31</td>\n",
              "      <td>4822</td>\n",
              "      <td>559</td>\n",
              "      <td>1</td>\n",
              "      <td>1</td>\n",
              "      <td>0</td>\n",
              "      <td>1</td>\n",
              "      <td>a</td>\n",
              "      <td>a</td>\n",
              "      <td>29910.0</td>\n",
              "      <td>4.0</td>\n",
              "      <td>2015.0</td>\n",
              "      <td>0</td>\n",
              "      <td>0.0</td>\n",
              "      <td>0.0</td>\n",
              "      <td>0</td>\n",
              "    </tr>\n",
              "    <tr>\n",
              "      <th>...</th>\n",
              "      <td>...</td>\n",
              "      <td>...</td>\n",
              "      <td>...</td>\n",
              "      <td>...</td>\n",
              "      <td>...</td>\n",
              "      <td>...</td>\n",
              "      <td>...</td>\n",
              "      <td>...</td>\n",
              "      <td>...</td>\n",
              "      <td>...</td>\n",
              "      <td>...</td>\n",
              "      <td>...</td>\n",
              "      <td>...</td>\n",
              "      <td>...</td>\n",
              "      <td>...</td>\n",
              "      <td>...</td>\n",
              "      <td>...</td>\n",
              "      <td>...</td>\n",
              "    </tr>\n",
              "    <tr>\n",
              "      <th>1017204</th>\n",
              "      <td>1111</td>\n",
              "      <td>2</td>\n",
              "      <td>2013-01-01</td>\n",
              "      <td>0</td>\n",
              "      <td>0</td>\n",
              "      <td>0</td>\n",
              "      <td>0</td>\n",
              "      <td>a</td>\n",
              "      <td>1</td>\n",
              "      <td>a</td>\n",
              "      <td>a</td>\n",
              "      <td>1900.0</td>\n",
              "      <td>6.0</td>\n",
              "      <td>2014.0</td>\n",
              "      <td>1</td>\n",
              "      <td>31.0</td>\n",
              "      <td>2013.0</td>\n",
              "      <td>Jan,Apr,Jul,Oct</td>\n",
              "    </tr>\n",
              "    <tr>\n",
              "      <th>1017205</th>\n",
              "      <td>1112</td>\n",
              "      <td>2</td>\n",
              "      <td>2013-01-01</td>\n",
              "      <td>0</td>\n",
              "      <td>0</td>\n",
              "      <td>0</td>\n",
              "      <td>0</td>\n",
              "      <td>a</td>\n",
              "      <td>1</td>\n",
              "      <td>c</td>\n",
              "      <td>c</td>\n",
              "      <td>1880.0</td>\n",
              "      <td>4.0</td>\n",
              "      <td>2006.0</td>\n",
              "      <td>0</td>\n",
              "      <td>0.0</td>\n",
              "      <td>0.0</td>\n",
              "      <td>0</td>\n",
              "    </tr>\n",
              "    <tr>\n",
              "      <th>1017206</th>\n",
              "      <td>1113</td>\n",
              "      <td>2</td>\n",
              "      <td>2013-01-01</td>\n",
              "      <td>0</td>\n",
              "      <td>0</td>\n",
              "      <td>0</td>\n",
              "      <td>0</td>\n",
              "      <td>a</td>\n",
              "      <td>1</td>\n",
              "      <td>a</td>\n",
              "      <td>c</td>\n",
              "      <td>9260.0</td>\n",
              "      <td>0.0</td>\n",
              "      <td>0.0</td>\n",
              "      <td>0</td>\n",
              "      <td>0.0</td>\n",
              "      <td>0.0</td>\n",
              "      <td>0</td>\n",
              "    </tr>\n",
              "    <tr>\n",
              "      <th>1017207</th>\n",
              "      <td>1114</td>\n",
              "      <td>2</td>\n",
              "      <td>2013-01-01</td>\n",
              "      <td>0</td>\n",
              "      <td>0</td>\n",
              "      <td>0</td>\n",
              "      <td>0</td>\n",
              "      <td>a</td>\n",
              "      <td>1</td>\n",
              "      <td>a</td>\n",
              "      <td>c</td>\n",
              "      <td>870.0</td>\n",
              "      <td>0.0</td>\n",
              "      <td>0.0</td>\n",
              "      <td>0</td>\n",
              "      <td>0.0</td>\n",
              "      <td>0.0</td>\n",
              "      <td>0</td>\n",
              "    </tr>\n",
              "    <tr>\n",
              "      <th>1017208</th>\n",
              "      <td>1115</td>\n",
              "      <td>2</td>\n",
              "      <td>2013-01-01</td>\n",
              "      <td>0</td>\n",
              "      <td>0</td>\n",
              "      <td>0</td>\n",
              "      <td>0</td>\n",
              "      <td>a</td>\n",
              "      <td>1</td>\n",
              "      <td>d</td>\n",
              "      <td>c</td>\n",
              "      <td>5350.0</td>\n",
              "      <td>0.0</td>\n",
              "      <td>0.0</td>\n",
              "      <td>1</td>\n",
              "      <td>22.0</td>\n",
              "      <td>2012.0</td>\n",
              "      <td>Mar,Jun,Sept,Dec</td>\n",
              "    </tr>\n",
              "  </tbody>\n",
              "</table>\n",
              "<p>1017209 rows × 18 columns</p>\n",
              "</div>\n",
              "      <button class=\"colab-df-convert\" onclick=\"convertToInteractive('df-cd210b06-b55b-4ba2-a525-9b9562ba2848')\"\n",
              "              title=\"Convert this dataframe to an interactive table.\"\n",
              "              style=\"display:none;\">\n",
              "        \n",
              "  <svg xmlns=\"http://www.w3.org/2000/svg\" height=\"24px\"viewBox=\"0 0 24 24\"\n",
              "       width=\"24px\">\n",
              "    <path d=\"M0 0h24v24H0V0z\" fill=\"none\"/>\n",
              "    <path d=\"M18.56 5.44l.94 2.06.94-2.06 2.06-.94-2.06-.94-.94-2.06-.94 2.06-2.06.94zm-11 1L8.5 8.5l.94-2.06 2.06-.94-2.06-.94L8.5 2.5l-.94 2.06-2.06.94zm10 10l.94 2.06.94-2.06 2.06-.94-2.06-.94-.94-2.06-.94 2.06-2.06.94z\"/><path d=\"M17.41 7.96l-1.37-1.37c-.4-.4-.92-.59-1.43-.59-.52 0-1.04.2-1.43.59L10.3 9.45l-7.72 7.72c-.78.78-.78 2.05 0 2.83L4 21.41c.39.39.9.59 1.41.59.51 0 1.02-.2 1.41-.59l7.78-7.78 2.81-2.81c.8-.78.8-2.07 0-2.86zM5.41 20L4 18.59l7.72-7.72 1.47 1.35L5.41 20z\"/>\n",
              "  </svg>\n",
              "      </button>\n",
              "      \n",
              "  <style>\n",
              "    .colab-df-container {\n",
              "      display:flex;\n",
              "      flex-wrap:wrap;\n",
              "      gap: 12px;\n",
              "    }\n",
              "\n",
              "    .colab-df-convert {\n",
              "      background-color: #E8F0FE;\n",
              "      border: none;\n",
              "      border-radius: 50%;\n",
              "      cursor: pointer;\n",
              "      display: none;\n",
              "      fill: #1967D2;\n",
              "      height: 32px;\n",
              "      padding: 0 0 0 0;\n",
              "      width: 32px;\n",
              "    }\n",
              "\n",
              "    .colab-df-convert:hover {\n",
              "      background-color: #E2EBFA;\n",
              "      box-shadow: 0px 1px 2px rgba(60, 64, 67, 0.3), 0px 1px 3px 1px rgba(60, 64, 67, 0.15);\n",
              "      fill: #174EA6;\n",
              "    }\n",
              "\n",
              "    [theme=dark] .colab-df-convert {\n",
              "      background-color: #3B4455;\n",
              "      fill: #D2E3FC;\n",
              "    }\n",
              "\n",
              "    [theme=dark] .colab-df-convert:hover {\n",
              "      background-color: #434B5C;\n",
              "      box-shadow: 0px 1px 3px 1px rgba(0, 0, 0, 0.15);\n",
              "      filter: drop-shadow(0px 1px 2px rgba(0, 0, 0, 0.3));\n",
              "      fill: #FFFFFF;\n",
              "    }\n",
              "  </style>\n",
              "\n",
              "      <script>\n",
              "        const buttonEl =\n",
              "          document.querySelector('#df-cd210b06-b55b-4ba2-a525-9b9562ba2848 button.colab-df-convert');\n",
              "        buttonEl.style.display =\n",
              "          google.colab.kernel.accessAllowed ? 'block' : 'none';\n",
              "\n",
              "        async function convertToInteractive(key) {\n",
              "          const element = document.querySelector('#df-cd210b06-b55b-4ba2-a525-9b9562ba2848');\n",
              "          const dataTable =\n",
              "            await google.colab.kernel.invokeFunction('convertToInteractive',\n",
              "                                                     [key], {});\n",
              "          if (!dataTable) return;\n",
              "\n",
              "          const docLinkHtml = 'Like what you see? Visit the ' +\n",
              "            '<a target=\"_blank\" href=https://colab.research.google.com/notebooks/data_table.ipynb>data table notebook</a>'\n",
              "            + ' to learn more about interactive tables.';\n",
              "          element.innerHTML = '';\n",
              "          dataTable['output_type'] = 'display_data';\n",
              "          await google.colab.output.renderOutput(dataTable, element);\n",
              "          const docLink = document.createElement('div');\n",
              "          docLink.innerHTML = docLinkHtml;\n",
              "          element.appendChild(docLink);\n",
              "        }\n",
              "      </script>\n",
              "    </div>\n",
              "  </div>\n",
              "  "
            ]
          },
          "metadata": {},
          "execution_count": 20
        }
      ]
    },
    {
      "cell_type": "code",
      "source": [
        "#Change data types object to int \n",
        "final1.loc[final1['StateHoliday'] == '0', 'StateHoliday'] = 0\n",
        "final1.loc[final1['StateHoliday'] == 'a', 'StateHoliday'] = 1\n",
        "final1.loc[final1['StateHoliday'] == 'b', 'StateHoliday'] = 2\n",
        "final1.loc[final1['StateHoliday'] == 'c', 'StateHoliday'] = 3\n",
        "#store the value with same column name i.e StateHoliday with function astype\n",
        "final1['StateHoliday'] = final1['StateHoliday'].astype(int, copy=False)"
      ],
      "metadata": {
        "id": "jPDM3PQdywKE"
      },
      "execution_count": 21,
      "outputs": []
    },
    {
      "cell_type": "code",
      "source": [
        "# change Data Types object into int \n",
        "final1.loc[final1['Assortment'] == 'a', 'Assortment'] = 0\n",
        "final1.loc[final1['Assortment'] == 'b', 'Assortment'] = 1\n",
        "final1.loc[final1['Assortment'] == 'c', 'Assortment'] = 2\n",
        "#store the value with same column name i.e Assortment with function astype\n",
        "final1['Assortment'] = final1['Assortment'].astype(int, copy=False)"
      ],
      "metadata": {
        "id": "6uWEPlsK4fdN"
      },
      "execution_count": 22,
      "outputs": []
    },
    {
      "cell_type": "code",
      "source": [
        "# change Data Types object into int \n",
        "final1.loc[final1['StoreType'] == 'a', 'StoreType'] = 0\n",
        "final1.loc[final1['StoreType'] == 'b', 'StoreType'] = 1\n",
        "final1.loc[final1['StoreType'] == 'c', 'StoreType'] = 2\n",
        "final1.loc[final1['StoreType'] == 'd', 'StoreType'] = 3\n",
        "#store the value with same column name i.e Assortment with function astype\n",
        "final1['StoreType'] = final1['StoreType'].astype(int, copy=False)"
      ],
      "metadata": {
        "id": "asDhmvtj4ftX"
      },
      "execution_count": 23,
      "outputs": []
    },
    {
      "cell_type": "code",
      "source": [
        "print(final1[['StateHoliday', 'Assortment', 'StoreType']].nunique())"
      ],
      "metadata": {
        "id": "B5y8MCea83yR",
        "colab": {
          "base_uri": "https://localhost:8080/"
        },
        "outputId": "7807359d-c4e6-4391-da29-8c6454de154d"
      },
      "execution_count": 24,
      "outputs": [
        {
          "output_type": "stream",
          "name": "stdout",
          "text": [
            "StateHoliday    4\n",
            "Assortment      3\n",
            "StoreType       4\n",
            "dtype: int64\n"
          ]
        }
      ]
    },
    {
      "cell_type": "code",
      "source": [
        "final1.info()"
      ],
      "metadata": {
        "id": "T7e15OeC_Daf",
        "colab": {
          "base_uri": "https://localhost:8080/"
        },
        "outputId": "883e2e55-ee93-48d9-b50e-839d25fbf67b"
      },
      "execution_count": 25,
      "outputs": [
        {
          "output_type": "stream",
          "name": "stdout",
          "text": [
            "<class 'pandas.core.frame.DataFrame'>\n",
            "Int64Index: 1017209 entries, 0 to 1017208\n",
            "Data columns (total 18 columns):\n",
            " #   Column                     Non-Null Count    Dtype  \n",
            "---  ------                     --------------    -----  \n",
            " 0   Store                      1017209 non-null  int64  \n",
            " 1   DayOfWeek                  1017209 non-null  int64  \n",
            " 2   Date                       1017209 non-null  object \n",
            " 3   Sales                      1017209 non-null  int64  \n",
            " 4   Customers                  1017209 non-null  int64  \n",
            " 5   Open                       1017209 non-null  int64  \n",
            " 6   Promo                      1017209 non-null  int64  \n",
            " 7   StateHoliday               1017209 non-null  int64  \n",
            " 8   SchoolHoliday              1017209 non-null  int64  \n",
            " 9   StoreType                  1017209 non-null  int64  \n",
            " 10  Assortment                 1017209 non-null  int64  \n",
            " 11  CompetitionDistance        1017209 non-null  float64\n",
            " 12  CompetitionOpenSinceMonth  1017209 non-null  float64\n",
            " 13  CompetitionOpenSinceYear   1017209 non-null  float64\n",
            " 14  Promo2                     1017209 non-null  int64  \n",
            " 15  Promo2SinceWeek            1017209 non-null  float64\n",
            " 16  Promo2SinceYear            1017209 non-null  float64\n",
            " 17  PromoInterval              1017209 non-null  object \n",
            "dtypes: float64(5), int64(11), object(2)\n",
            "memory usage: 147.5+ MB\n"
          ]
        }
      ]
    },
    {
      "cell_type": "code",
      "source": [
        " final1[\"Sales\"].value_counts()"
      ],
      "metadata": {
        "id": "1jGUiHWPfo4R",
        "colab": {
          "base_uri": "https://localhost:8080/"
        },
        "outputId": "8a5eed2b-b7d7-4c45-9c09-af69f529cfeb"
      },
      "execution_count": 26,
      "outputs": [
        {
          "output_type": "execute_result",
          "data": {
            "text/plain": [
              "0        172871\n",
              "5674        215\n",
              "5558        197\n",
              "5483        196\n",
              "6214        195\n",
              "          ...  \n",
              "23806         1\n",
              "24183         1\n",
              "20651         1\n",
              "25083         1\n",
              "23303         1\n",
              "Name: Sales, Length: 21734, dtype: int64"
            ]
          },
          "metadata": {},
          "execution_count": 26
        }
      ]
    },
    {
      "cell_type": "code",
      "source": [
        "# code for changing format of date from object to datetime\n",
        "final1['Date'] = pd.to_datetime(final1['Date'], format= '%Y-%m-%d')"
      ],
      "metadata": {
        "id": "o-r1sBjpBy7s"
      },
      "execution_count": 27,
      "outputs": []
    },
    {
      "cell_type": "code",
      "source": [
        "# code for change object into date format\n",
        "final1['CompetitionOpenSinceMonth'] = pd.DatetimeIndex(final1['Date']).month"
      ],
      "metadata": {
        "id": "2fEiBxYfBztl"
      },
      "execution_count": 28,
      "outputs": []
    },
    {
      "cell_type": "code",
      "source": [
        "# code for change float into integer \n",
        "final1['CompetitionOpenSinceYear']= final1['CompetitionOpenSinceYear'].astype(int)\n",
        "final1['Promo2SinceYear']= final1['Promo2SinceYear'].astype(int)\n"
      ],
      "metadata": {
        "id": "Zzwd1OK3EDmA"
      },
      "execution_count": 29,
      "outputs": []
    },
    {
      "cell_type": "code",
      "source": [
        "# code for change float into integer \n",
        "final1['CompetitionDistance']= final1['CompetitionDistance'].astype(int)\n",
        "final1['Promo2SinceWeek']= final1['Promo2SinceWeek'].astype(int)"
      ],
      "metadata": {
        "id": "21LIiYm-EEGc"
      },
      "execution_count": 30,
      "outputs": []
    },
    {
      "cell_type": "code",
      "source": [
        "final1.info()"
      ],
      "metadata": {
        "id": "UCo_Ka9sEEVZ",
        "colab": {
          "base_uri": "https://localhost:8080/"
        },
        "outputId": "ba1fc0de-8424-4bb1-c748-3ce5d670f35e"
      },
      "execution_count": 31,
      "outputs": [
        {
          "output_type": "stream",
          "name": "stdout",
          "text": [
            "<class 'pandas.core.frame.DataFrame'>\n",
            "Int64Index: 1017209 entries, 0 to 1017208\n",
            "Data columns (total 18 columns):\n",
            " #   Column                     Non-Null Count    Dtype         \n",
            "---  ------                     --------------    -----         \n",
            " 0   Store                      1017209 non-null  int64         \n",
            " 1   DayOfWeek                  1017209 non-null  int64         \n",
            " 2   Date                       1017209 non-null  datetime64[ns]\n",
            " 3   Sales                      1017209 non-null  int64         \n",
            " 4   Customers                  1017209 non-null  int64         \n",
            " 5   Open                       1017209 non-null  int64         \n",
            " 6   Promo                      1017209 non-null  int64         \n",
            " 7   StateHoliday               1017209 non-null  int64         \n",
            " 8   SchoolHoliday              1017209 non-null  int64         \n",
            " 9   StoreType                  1017209 non-null  int64         \n",
            " 10  Assortment                 1017209 non-null  int64         \n",
            " 11  CompetitionDistance        1017209 non-null  int64         \n",
            " 12  CompetitionOpenSinceMonth  1017209 non-null  int64         \n",
            " 13  CompetitionOpenSinceYear   1017209 non-null  int64         \n",
            " 14  Promo2                     1017209 non-null  int64         \n",
            " 15  Promo2SinceWeek            1017209 non-null  int64         \n",
            " 16  Promo2SinceYear            1017209 non-null  int64         \n",
            " 17  PromoInterval              1017209 non-null  object        \n",
            "dtypes: datetime64[ns](1), int64(16), object(1)\n",
            "memory usage: 147.5+ MB\n"
          ]
        }
      ]
    },
    {
      "cell_type": "markdown",
      "source": [
        "# **2-Understanding Your Variables**"
      ],
      "metadata": {
        "id": "vRxGVLncFkog"
      }
    },
    {
      "cell_type": "code",
      "source": [
        "final1.head()"
      ],
      "metadata": {
        "id": "3QFngcL7Fob8",
        "colab": {
          "base_uri": "https://localhost:8080/",
          "height": 356
        },
        "outputId": "d3c73980-4f34-4844-c5fc-6311452d1a99"
      },
      "execution_count": 32,
      "outputs": [
        {
          "output_type": "execute_result",
          "data": {
            "text/plain": [
              "   Store  DayOfWeek       Date  Sales  Customers  Open  Promo  StateHoliday  \\\n",
              "0      1          5 2015-07-31   5263        555     1      1             0   \n",
              "1      2          5 2015-07-31   6064        625     1      1             0   \n",
              "2      3          5 2015-07-31   8314        821     1      1             0   \n",
              "3      4          5 2015-07-31  13995       1498     1      1             0   \n",
              "4      5          5 2015-07-31   4822        559     1      1             0   \n",
              "\n",
              "   SchoolHoliday  StoreType  Assortment  CompetitionDistance  \\\n",
              "0              1          2           0                 1270   \n",
              "1              1          0           0                  570   \n",
              "2              1          0           0                14130   \n",
              "3              1          2           2                  620   \n",
              "4              1          0           0                29910   \n",
              "\n",
              "   CompetitionOpenSinceMonth  CompetitionOpenSinceYear  Promo2  \\\n",
              "0                          7                      2008       0   \n",
              "1                          7                      2007       1   \n",
              "2                          7                      2006       1   \n",
              "3                          7                      2009       0   \n",
              "4                          7                      2015       0   \n",
              "\n",
              "   Promo2SinceWeek  Promo2SinceYear    PromoInterval  \n",
              "0                0                0                0  \n",
              "1               13             2010  Jan,Apr,Jul,Oct  \n",
              "2               14             2011  Jan,Apr,Jul,Oct  \n",
              "3                0                0                0  \n",
              "4                0                0                0  "
            ],
            "text/html": [
              "\n",
              "  <div id=\"df-61d87bc1-e5ae-4626-8ad9-9545046e96ac\">\n",
              "    <div class=\"colab-df-container\">\n",
              "      <div>\n",
              "<style scoped>\n",
              "    .dataframe tbody tr th:only-of-type {\n",
              "        vertical-align: middle;\n",
              "    }\n",
              "\n",
              "    .dataframe tbody tr th {\n",
              "        vertical-align: top;\n",
              "    }\n",
              "\n",
              "    .dataframe thead th {\n",
              "        text-align: right;\n",
              "    }\n",
              "</style>\n",
              "<table border=\"1\" class=\"dataframe\">\n",
              "  <thead>\n",
              "    <tr style=\"text-align: right;\">\n",
              "      <th></th>\n",
              "      <th>Store</th>\n",
              "      <th>DayOfWeek</th>\n",
              "      <th>Date</th>\n",
              "      <th>Sales</th>\n",
              "      <th>Customers</th>\n",
              "      <th>Open</th>\n",
              "      <th>Promo</th>\n",
              "      <th>StateHoliday</th>\n",
              "      <th>SchoolHoliday</th>\n",
              "      <th>StoreType</th>\n",
              "      <th>Assortment</th>\n",
              "      <th>CompetitionDistance</th>\n",
              "      <th>CompetitionOpenSinceMonth</th>\n",
              "      <th>CompetitionOpenSinceYear</th>\n",
              "      <th>Promo2</th>\n",
              "      <th>Promo2SinceWeek</th>\n",
              "      <th>Promo2SinceYear</th>\n",
              "      <th>PromoInterval</th>\n",
              "    </tr>\n",
              "  </thead>\n",
              "  <tbody>\n",
              "    <tr>\n",
              "      <th>0</th>\n",
              "      <td>1</td>\n",
              "      <td>5</td>\n",
              "      <td>2015-07-31</td>\n",
              "      <td>5263</td>\n",
              "      <td>555</td>\n",
              "      <td>1</td>\n",
              "      <td>1</td>\n",
              "      <td>0</td>\n",
              "      <td>1</td>\n",
              "      <td>2</td>\n",
              "      <td>0</td>\n",
              "      <td>1270</td>\n",
              "      <td>7</td>\n",
              "      <td>2008</td>\n",
              "      <td>0</td>\n",
              "      <td>0</td>\n",
              "      <td>0</td>\n",
              "      <td>0</td>\n",
              "    </tr>\n",
              "    <tr>\n",
              "      <th>1</th>\n",
              "      <td>2</td>\n",
              "      <td>5</td>\n",
              "      <td>2015-07-31</td>\n",
              "      <td>6064</td>\n",
              "      <td>625</td>\n",
              "      <td>1</td>\n",
              "      <td>1</td>\n",
              "      <td>0</td>\n",
              "      <td>1</td>\n",
              "      <td>0</td>\n",
              "      <td>0</td>\n",
              "      <td>570</td>\n",
              "      <td>7</td>\n",
              "      <td>2007</td>\n",
              "      <td>1</td>\n",
              "      <td>13</td>\n",
              "      <td>2010</td>\n",
              "      <td>Jan,Apr,Jul,Oct</td>\n",
              "    </tr>\n",
              "    <tr>\n",
              "      <th>2</th>\n",
              "      <td>3</td>\n",
              "      <td>5</td>\n",
              "      <td>2015-07-31</td>\n",
              "      <td>8314</td>\n",
              "      <td>821</td>\n",
              "      <td>1</td>\n",
              "      <td>1</td>\n",
              "      <td>0</td>\n",
              "      <td>1</td>\n",
              "      <td>0</td>\n",
              "      <td>0</td>\n",
              "      <td>14130</td>\n",
              "      <td>7</td>\n",
              "      <td>2006</td>\n",
              "      <td>1</td>\n",
              "      <td>14</td>\n",
              "      <td>2011</td>\n",
              "      <td>Jan,Apr,Jul,Oct</td>\n",
              "    </tr>\n",
              "    <tr>\n",
              "      <th>3</th>\n",
              "      <td>4</td>\n",
              "      <td>5</td>\n",
              "      <td>2015-07-31</td>\n",
              "      <td>13995</td>\n",
              "      <td>1498</td>\n",
              "      <td>1</td>\n",
              "      <td>1</td>\n",
              "      <td>0</td>\n",
              "      <td>1</td>\n",
              "      <td>2</td>\n",
              "      <td>2</td>\n",
              "      <td>620</td>\n",
              "      <td>7</td>\n",
              "      <td>2009</td>\n",
              "      <td>0</td>\n",
              "      <td>0</td>\n",
              "      <td>0</td>\n",
              "      <td>0</td>\n",
              "    </tr>\n",
              "    <tr>\n",
              "      <th>4</th>\n",
              "      <td>5</td>\n",
              "      <td>5</td>\n",
              "      <td>2015-07-31</td>\n",
              "      <td>4822</td>\n",
              "      <td>559</td>\n",
              "      <td>1</td>\n",
              "      <td>1</td>\n",
              "      <td>0</td>\n",
              "      <td>1</td>\n",
              "      <td>0</td>\n",
              "      <td>0</td>\n",
              "      <td>29910</td>\n",
              "      <td>7</td>\n",
              "      <td>2015</td>\n",
              "      <td>0</td>\n",
              "      <td>0</td>\n",
              "      <td>0</td>\n",
              "      <td>0</td>\n",
              "    </tr>\n",
              "  </tbody>\n",
              "</table>\n",
              "</div>\n",
              "      <button class=\"colab-df-convert\" onclick=\"convertToInteractive('df-61d87bc1-e5ae-4626-8ad9-9545046e96ac')\"\n",
              "              title=\"Convert this dataframe to an interactive table.\"\n",
              "              style=\"display:none;\">\n",
              "        \n",
              "  <svg xmlns=\"http://www.w3.org/2000/svg\" height=\"24px\"viewBox=\"0 0 24 24\"\n",
              "       width=\"24px\">\n",
              "    <path d=\"M0 0h24v24H0V0z\" fill=\"none\"/>\n",
              "    <path d=\"M18.56 5.44l.94 2.06.94-2.06 2.06-.94-2.06-.94-.94-2.06-.94 2.06-2.06.94zm-11 1L8.5 8.5l.94-2.06 2.06-.94-2.06-.94L8.5 2.5l-.94 2.06-2.06.94zm10 10l.94 2.06.94-2.06 2.06-.94-2.06-.94-.94-2.06-.94 2.06-2.06.94z\"/><path d=\"M17.41 7.96l-1.37-1.37c-.4-.4-.92-.59-1.43-.59-.52 0-1.04.2-1.43.59L10.3 9.45l-7.72 7.72c-.78.78-.78 2.05 0 2.83L4 21.41c.39.39.9.59 1.41.59.51 0 1.02-.2 1.41-.59l7.78-7.78 2.81-2.81c.8-.78.8-2.07 0-2.86zM5.41 20L4 18.59l7.72-7.72 1.47 1.35L5.41 20z\"/>\n",
              "  </svg>\n",
              "      </button>\n",
              "      \n",
              "  <style>\n",
              "    .colab-df-container {\n",
              "      display:flex;\n",
              "      flex-wrap:wrap;\n",
              "      gap: 12px;\n",
              "    }\n",
              "\n",
              "    .colab-df-convert {\n",
              "      background-color: #E8F0FE;\n",
              "      border: none;\n",
              "      border-radius: 50%;\n",
              "      cursor: pointer;\n",
              "      display: none;\n",
              "      fill: #1967D2;\n",
              "      height: 32px;\n",
              "      padding: 0 0 0 0;\n",
              "      width: 32px;\n",
              "    }\n",
              "\n",
              "    .colab-df-convert:hover {\n",
              "      background-color: #E2EBFA;\n",
              "      box-shadow: 0px 1px 2px rgba(60, 64, 67, 0.3), 0px 1px 3px 1px rgba(60, 64, 67, 0.15);\n",
              "      fill: #174EA6;\n",
              "    }\n",
              "\n",
              "    [theme=dark] .colab-df-convert {\n",
              "      background-color: #3B4455;\n",
              "      fill: #D2E3FC;\n",
              "    }\n",
              "\n",
              "    [theme=dark] .colab-df-convert:hover {\n",
              "      background-color: #434B5C;\n",
              "      box-shadow: 0px 1px 3px 1px rgba(0, 0, 0, 0.15);\n",
              "      filter: drop-shadow(0px 1px 2px rgba(0, 0, 0, 0.3));\n",
              "      fill: #FFFFFF;\n",
              "    }\n",
              "  </style>\n",
              "\n",
              "      <script>\n",
              "        const buttonEl =\n",
              "          document.querySelector('#df-61d87bc1-e5ae-4626-8ad9-9545046e96ac button.colab-df-convert');\n",
              "        buttonEl.style.display =\n",
              "          google.colab.kernel.accessAllowed ? 'block' : 'none';\n",
              "\n",
              "        async function convertToInteractive(key) {\n",
              "          const element = document.querySelector('#df-61d87bc1-e5ae-4626-8ad9-9545046e96ac');\n",
              "          const dataTable =\n",
              "            await google.colab.kernel.invokeFunction('convertToInteractive',\n",
              "                                                     [key], {});\n",
              "          if (!dataTable) return;\n",
              "\n",
              "          const docLinkHtml = 'Like what you see? Visit the ' +\n",
              "            '<a target=\"_blank\" href=https://colab.research.google.com/notebooks/data_table.ipynb>data table notebook</a>'\n",
              "            + ' to learn more about interactive tables.';\n",
              "          element.innerHTML = '';\n",
              "          dataTable['output_type'] = 'display_data';\n",
              "          await google.colab.output.renderOutput(dataTable, element);\n",
              "          const docLink = document.createElement('div');\n",
              "          docLink.innerHTML = docLinkHtml;\n",
              "          element.appendChild(docLink);\n",
              "        }\n",
              "      </script>\n",
              "    </div>\n",
              "  </div>\n",
              "  "
            ]
          },
          "metadata": {},
          "execution_count": 32
        }
      ]
    },
    {
      "cell_type": "code",
      "source": [
        "final1.describe().apply(lambda x: round(x, 2))"
      ],
      "metadata": {
        "id": "gigdZdYFFoyl",
        "colab": {
          "base_uri": "https://localhost:8080/",
          "height": 364
        },
        "outputId": "3d845c94-f1f2-4da4-ace1-4d414e11610e"
      },
      "execution_count": 33,
      "outputs": [
        {
          "output_type": "execute_result",
          "data": {
            "text/plain": [
              "            Store  DayOfWeek       Sales   Customers        Open       Promo  \\\n",
              "count  1017209.00  1017209.0  1017209.00  1017209.00  1017209.00  1017209.00   \n",
              "mean       558.43        4.0     5773.82      633.15        0.83        0.38   \n",
              "std        321.91        2.0     3849.93      464.41        0.38        0.49   \n",
              "min          1.00        1.0        0.00        0.00        0.00        0.00   \n",
              "25%        280.00        2.0     3727.00      405.00        1.00        0.00   \n",
              "50%        558.00        4.0     5744.00      609.00        1.00        0.00   \n",
              "75%        838.00        6.0     7856.00      837.00        1.00        1.00   \n",
              "max       1115.00        7.0    41551.00     7388.00        1.00        1.00   \n",
              "\n",
              "       StateHoliday  SchoolHoliday   StoreType  Assortment  \\\n",
              "count    1017209.00     1017209.00  1017209.00  1017209.00   \n",
              "mean           0.05           0.18        1.21        0.94   \n",
              "std            0.28           0.38        1.37        0.99   \n",
              "min            0.00           0.00        0.00        0.00   \n",
              "25%            0.00           0.00        0.00        0.00   \n",
              "50%            0.00           0.00        0.00        0.00   \n",
              "75%            0.00           0.00        3.00        2.00   \n",
              "max            3.00           1.00        3.00        2.00   \n",
              "\n",
              "       CompetitionDistance  CompetitionOpenSinceMonth  \\\n",
              "count           1017209.00                 1017209.00   \n",
              "mean               5415.98                       5.85   \n",
              "std                7710.25                       3.33   \n",
              "min                   0.00                       1.00   \n",
              "25%                 700.00                       3.00   \n",
              "50%                2320.00                       6.00   \n",
              "75%                6880.00                       8.00   \n",
              "max               75860.00                      12.00   \n",
              "\n",
              "       CompetitionOpenSinceYear     Promo2  Promo2SinceWeek  Promo2SinceYear  \n",
              "count                1017209.00  1017209.0       1017209.00       1017209.00  \n",
              "mean                    1370.17        0.5            11.65          1007.01  \n",
              "std                      935.36        0.5            15.32          1005.88  \n",
              "min                        0.00        0.0             0.00             0.00  \n",
              "25%                        0.00        0.0             0.00             0.00  \n",
              "50%                     2006.00        1.0             1.00          2009.00  \n",
              "75%                     2011.00        1.0            22.00          2012.00  \n",
              "max                     2015.00        1.0            50.00          2015.00  "
            ],
            "text/html": [
              "\n",
              "  <div id=\"df-be2fbe29-6389-4101-9630-2013f8ae639c\">\n",
              "    <div class=\"colab-df-container\">\n",
              "      <div>\n",
              "<style scoped>\n",
              "    .dataframe tbody tr th:only-of-type {\n",
              "        vertical-align: middle;\n",
              "    }\n",
              "\n",
              "    .dataframe tbody tr th {\n",
              "        vertical-align: top;\n",
              "    }\n",
              "\n",
              "    .dataframe thead th {\n",
              "        text-align: right;\n",
              "    }\n",
              "</style>\n",
              "<table border=\"1\" class=\"dataframe\">\n",
              "  <thead>\n",
              "    <tr style=\"text-align: right;\">\n",
              "      <th></th>\n",
              "      <th>Store</th>\n",
              "      <th>DayOfWeek</th>\n",
              "      <th>Sales</th>\n",
              "      <th>Customers</th>\n",
              "      <th>Open</th>\n",
              "      <th>Promo</th>\n",
              "      <th>StateHoliday</th>\n",
              "      <th>SchoolHoliday</th>\n",
              "      <th>StoreType</th>\n",
              "      <th>Assortment</th>\n",
              "      <th>CompetitionDistance</th>\n",
              "      <th>CompetitionOpenSinceMonth</th>\n",
              "      <th>CompetitionOpenSinceYear</th>\n",
              "      <th>Promo2</th>\n",
              "      <th>Promo2SinceWeek</th>\n",
              "      <th>Promo2SinceYear</th>\n",
              "    </tr>\n",
              "  </thead>\n",
              "  <tbody>\n",
              "    <tr>\n",
              "      <th>count</th>\n",
              "      <td>1017209.00</td>\n",
              "      <td>1017209.0</td>\n",
              "      <td>1017209.00</td>\n",
              "      <td>1017209.00</td>\n",
              "      <td>1017209.00</td>\n",
              "      <td>1017209.00</td>\n",
              "      <td>1017209.00</td>\n",
              "      <td>1017209.00</td>\n",
              "      <td>1017209.00</td>\n",
              "      <td>1017209.00</td>\n",
              "      <td>1017209.00</td>\n",
              "      <td>1017209.00</td>\n",
              "      <td>1017209.00</td>\n",
              "      <td>1017209.0</td>\n",
              "      <td>1017209.00</td>\n",
              "      <td>1017209.00</td>\n",
              "    </tr>\n",
              "    <tr>\n",
              "      <th>mean</th>\n",
              "      <td>558.43</td>\n",
              "      <td>4.0</td>\n",
              "      <td>5773.82</td>\n",
              "      <td>633.15</td>\n",
              "      <td>0.83</td>\n",
              "      <td>0.38</td>\n",
              "      <td>0.05</td>\n",
              "      <td>0.18</td>\n",
              "      <td>1.21</td>\n",
              "      <td>0.94</td>\n",
              "      <td>5415.98</td>\n",
              "      <td>5.85</td>\n",
              "      <td>1370.17</td>\n",
              "      <td>0.5</td>\n",
              "      <td>11.65</td>\n",
              "      <td>1007.01</td>\n",
              "    </tr>\n",
              "    <tr>\n",
              "      <th>std</th>\n",
              "      <td>321.91</td>\n",
              "      <td>2.0</td>\n",
              "      <td>3849.93</td>\n",
              "      <td>464.41</td>\n",
              "      <td>0.38</td>\n",
              "      <td>0.49</td>\n",
              "      <td>0.28</td>\n",
              "      <td>0.38</td>\n",
              "      <td>1.37</td>\n",
              "      <td>0.99</td>\n",
              "      <td>7710.25</td>\n",
              "      <td>3.33</td>\n",
              "      <td>935.36</td>\n",
              "      <td>0.5</td>\n",
              "      <td>15.32</td>\n",
              "      <td>1005.88</td>\n",
              "    </tr>\n",
              "    <tr>\n",
              "      <th>min</th>\n",
              "      <td>1.00</td>\n",
              "      <td>1.0</td>\n",
              "      <td>0.00</td>\n",
              "      <td>0.00</td>\n",
              "      <td>0.00</td>\n",
              "      <td>0.00</td>\n",
              "      <td>0.00</td>\n",
              "      <td>0.00</td>\n",
              "      <td>0.00</td>\n",
              "      <td>0.00</td>\n",
              "      <td>0.00</td>\n",
              "      <td>1.00</td>\n",
              "      <td>0.00</td>\n",
              "      <td>0.0</td>\n",
              "      <td>0.00</td>\n",
              "      <td>0.00</td>\n",
              "    </tr>\n",
              "    <tr>\n",
              "      <th>25%</th>\n",
              "      <td>280.00</td>\n",
              "      <td>2.0</td>\n",
              "      <td>3727.00</td>\n",
              "      <td>405.00</td>\n",
              "      <td>1.00</td>\n",
              "      <td>0.00</td>\n",
              "      <td>0.00</td>\n",
              "      <td>0.00</td>\n",
              "      <td>0.00</td>\n",
              "      <td>0.00</td>\n",
              "      <td>700.00</td>\n",
              "      <td>3.00</td>\n",
              "      <td>0.00</td>\n",
              "      <td>0.0</td>\n",
              "      <td>0.00</td>\n",
              "      <td>0.00</td>\n",
              "    </tr>\n",
              "    <tr>\n",
              "      <th>50%</th>\n",
              "      <td>558.00</td>\n",
              "      <td>4.0</td>\n",
              "      <td>5744.00</td>\n",
              "      <td>609.00</td>\n",
              "      <td>1.00</td>\n",
              "      <td>0.00</td>\n",
              "      <td>0.00</td>\n",
              "      <td>0.00</td>\n",
              "      <td>0.00</td>\n",
              "      <td>0.00</td>\n",
              "      <td>2320.00</td>\n",
              "      <td>6.00</td>\n",
              "      <td>2006.00</td>\n",
              "      <td>1.0</td>\n",
              "      <td>1.00</td>\n",
              "      <td>2009.00</td>\n",
              "    </tr>\n",
              "    <tr>\n",
              "      <th>75%</th>\n",
              "      <td>838.00</td>\n",
              "      <td>6.0</td>\n",
              "      <td>7856.00</td>\n",
              "      <td>837.00</td>\n",
              "      <td>1.00</td>\n",
              "      <td>1.00</td>\n",
              "      <td>0.00</td>\n",
              "      <td>0.00</td>\n",
              "      <td>3.00</td>\n",
              "      <td>2.00</td>\n",
              "      <td>6880.00</td>\n",
              "      <td>8.00</td>\n",
              "      <td>2011.00</td>\n",
              "      <td>1.0</td>\n",
              "      <td>22.00</td>\n",
              "      <td>2012.00</td>\n",
              "    </tr>\n",
              "    <tr>\n",
              "      <th>max</th>\n",
              "      <td>1115.00</td>\n",
              "      <td>7.0</td>\n",
              "      <td>41551.00</td>\n",
              "      <td>7388.00</td>\n",
              "      <td>1.00</td>\n",
              "      <td>1.00</td>\n",
              "      <td>3.00</td>\n",
              "      <td>1.00</td>\n",
              "      <td>3.00</td>\n",
              "      <td>2.00</td>\n",
              "      <td>75860.00</td>\n",
              "      <td>12.00</td>\n",
              "      <td>2015.00</td>\n",
              "      <td>1.0</td>\n",
              "      <td>50.00</td>\n",
              "      <td>2015.00</td>\n",
              "    </tr>\n",
              "  </tbody>\n",
              "</table>\n",
              "</div>\n",
              "      <button class=\"colab-df-convert\" onclick=\"convertToInteractive('df-be2fbe29-6389-4101-9630-2013f8ae639c')\"\n",
              "              title=\"Convert this dataframe to an interactive table.\"\n",
              "              style=\"display:none;\">\n",
              "        \n",
              "  <svg xmlns=\"http://www.w3.org/2000/svg\" height=\"24px\"viewBox=\"0 0 24 24\"\n",
              "       width=\"24px\">\n",
              "    <path d=\"M0 0h24v24H0V0z\" fill=\"none\"/>\n",
              "    <path d=\"M18.56 5.44l.94 2.06.94-2.06 2.06-.94-2.06-.94-.94-2.06-.94 2.06-2.06.94zm-11 1L8.5 8.5l.94-2.06 2.06-.94-2.06-.94L8.5 2.5l-.94 2.06-2.06.94zm10 10l.94 2.06.94-2.06 2.06-.94-2.06-.94-.94-2.06-.94 2.06-2.06.94z\"/><path d=\"M17.41 7.96l-1.37-1.37c-.4-.4-.92-.59-1.43-.59-.52 0-1.04.2-1.43.59L10.3 9.45l-7.72 7.72c-.78.78-.78 2.05 0 2.83L4 21.41c.39.39.9.59 1.41.59.51 0 1.02-.2 1.41-.59l7.78-7.78 2.81-2.81c.8-.78.8-2.07 0-2.86zM5.41 20L4 18.59l7.72-7.72 1.47 1.35L5.41 20z\"/>\n",
              "  </svg>\n",
              "      </button>\n",
              "      \n",
              "  <style>\n",
              "    .colab-df-container {\n",
              "      display:flex;\n",
              "      flex-wrap:wrap;\n",
              "      gap: 12px;\n",
              "    }\n",
              "\n",
              "    .colab-df-convert {\n",
              "      background-color: #E8F0FE;\n",
              "      border: none;\n",
              "      border-radius: 50%;\n",
              "      cursor: pointer;\n",
              "      display: none;\n",
              "      fill: #1967D2;\n",
              "      height: 32px;\n",
              "      padding: 0 0 0 0;\n",
              "      width: 32px;\n",
              "    }\n",
              "\n",
              "    .colab-df-convert:hover {\n",
              "      background-color: #E2EBFA;\n",
              "      box-shadow: 0px 1px 2px rgba(60, 64, 67, 0.3), 0px 1px 3px 1px rgba(60, 64, 67, 0.15);\n",
              "      fill: #174EA6;\n",
              "    }\n",
              "\n",
              "    [theme=dark] .colab-df-convert {\n",
              "      background-color: #3B4455;\n",
              "      fill: #D2E3FC;\n",
              "    }\n",
              "\n",
              "    [theme=dark] .colab-df-convert:hover {\n",
              "      background-color: #434B5C;\n",
              "      box-shadow: 0px 1px 3px 1px rgba(0, 0, 0, 0.15);\n",
              "      filter: drop-shadow(0px 1px 2px rgba(0, 0, 0, 0.3));\n",
              "      fill: #FFFFFF;\n",
              "    }\n",
              "  </style>\n",
              "\n",
              "      <script>\n",
              "        const buttonEl =\n",
              "          document.querySelector('#df-be2fbe29-6389-4101-9630-2013f8ae639c button.colab-df-convert');\n",
              "        buttonEl.style.display =\n",
              "          google.colab.kernel.accessAllowed ? 'block' : 'none';\n",
              "\n",
              "        async function convertToInteractive(key) {\n",
              "          const element = document.querySelector('#df-be2fbe29-6389-4101-9630-2013f8ae639c');\n",
              "          const dataTable =\n",
              "            await google.colab.kernel.invokeFunction('convertToInteractive',\n",
              "                                                     [key], {});\n",
              "          if (!dataTable) return;\n",
              "\n",
              "          const docLinkHtml = 'Like what you see? Visit the ' +\n",
              "            '<a target=\"_blank\" href=https://colab.research.google.com/notebooks/data_table.ipynb>data table notebook</a>'\n",
              "            + ' to learn more about interactive tables.';\n",
              "          element.innerHTML = '';\n",
              "          dataTable['output_type'] = 'display_data';\n",
              "          await google.colab.output.renderOutput(dataTable, element);\n",
              "          const docLink = document.createElement('div');\n",
              "          docLink.innerHTML = docLinkHtml;\n",
              "          element.appendChild(docLink);\n",
              "        }\n",
              "      </script>\n",
              "    </div>\n",
              "  </div>\n",
              "  "
            ]
          },
          "metadata": {},
          "execution_count": 33
        }
      ]
    },
    {
      "cell_type": "markdown",
      "source": [
        "# **4. Data Vizualization, Storytelling & Experimenting with charts : Understand the relationships between variables**"
      ],
      "metadata": {
        "id": "Zs-MbHuwdm0K"
      }
    },
    {
      "cell_type": "markdown",
      "source": [
        "Sales"
      ],
      "metadata": {
        "id": "QWTvLInGIRdS"
      }
    },
    {
      "cell_type": "markdown",
      "source": [
        "**Line chart**"
      ],
      "metadata": {
        "id": "VZXS0J6PXsyy"
      }
    },
    {
      "cell_type": "code",
      "source": [
        "plt.figure(figsize=(15,6))\n",
        "sns.pointplot(x= 'CompetitionOpenSinceYear', y= 'Sales', data=final1,color='Red')\n",
        "sns.set_style(\"dark\")\n",
        "plt.title('Plot between Sales and Competition Open Since year')"
      ],
      "metadata": {
        "id": "Eo7X6aIHFpyM",
        "colab": {
          "base_uri": "https://localhost:8080/",
          "height": 422
        },
        "outputId": "2740b3a5-fe7e-4c81-bf2c-0224e42d5a82"
      },
      "execution_count": 34,
      "outputs": [
        {
          "output_type": "execute_result",
          "data": {
            "text/plain": [
              "Text(0.5, 1.0, 'Plot between Sales and Competition Open Since year')"
            ]
          },
          "metadata": {},
          "execution_count": 34
        },
        {
          "output_type": "display_data",
          "data": {
            "text/plain": [
              "<Figure size 1080x432 with 1 Axes>"
            ],
            "image/png": "[encoded data removed]"
          },
          "metadata": {
            "needs_background": "light"
          }
        }
      ]
    },
    {
      "cell_type": "markdown",
      "source": [
        "\n",
        "**From this chart we get insights that Sales is Highest During the Year 1900 because for that time there are limited number of Stores ,hence the competition is very low. But as year pass,no of stores get increased that means Competition also increased accordignly ,hence Sales got Decline year by year.** "
      ],
      "metadata": {
        "id": "NjL846NAeA79"
      }
    },
    {
      "cell_type": "code",
      "source": [
        "plt.figure(figsize=(15,6))\n",
        "sns.pointplot(x= 'Promo2SinceYear', y= 'Sales', data=final1,color='Red')\n",
        "sns.set_style(\"dark\")\n",
        "plt.title('Plot between Sales and Promo2SinceYear')\n"
      ],
      "metadata": {
        "id": "BRx2SbtYFqKI",
        "colab": {
          "base_uri": "https://localhost:8080/",
          "height": 422
        },
        "outputId": "2e2f3b4d-71bf-4965-afee-d7372f816299"
      },
      "execution_count": 35,
      "outputs": [
        {
          "output_type": "execute_result",
          "data": {
            "text/plain": [
              "Text(0.5, 1.0, 'Plot between Sales and Promo2SinceYear')"
            ]
          },
          "metadata": {},
          "execution_count": 35
        },
        {
          "output_type": "display_data",
          "data": {
            "text/plain": [
              "<Figure size 1080x432 with 1 Axes>"
            ],
            "image/png": "[encoded data removed]"
          },
          "metadata": {}
        }
      ]
    },
    {
      "cell_type": "markdown",
      "source": [
        "\n",
        "**From This Graph We saw that sales of  stores  is effected which continues their promotion.The Sales in 2013 and 2015 are very low inspite of promotion.The reason can be more competiton year by year.**"
      ],
      "metadata": {
        "id": "iIXDJlNijg3e"
      }
    },
    {
      "cell_type": "code",
      "source": [
        "plt.figure(figsize=(15,6))\n",
        "sns.pointplot(x= 'DayOfWeek', y= 'Sales', data=final1,color='Red')\n",
        "sns.set_style(\"dark\")\n",
        "plt.title('Plot between Sales and DayOfWeek')"
      ],
      "metadata": {
        "id": "HB0908uSVkST",
        "colab": {
          "base_uri": "https://localhost:8080/",
          "height": 422
        },
        "outputId": "b03f7113-c800-4935-b601-df5a5b9044b9"
      },
      "execution_count": 36,
      "outputs": [
        {
          "output_type": "execute_result",
          "data": {
            "text/plain": [
              "Text(0.5, 1.0, 'Plot between Sales and DayOfWeek')"
            ]
          },
          "metadata": {},
          "execution_count": 36
        },
        {
          "output_type": "display_data",
          "data": {
            "text/plain": [
              "<Figure size 1080x432 with 1 Axes>"
            ],
            "image/png": "[encoded data removed]"
          },
          "metadata": {}
        }
      ]
    },
    {
      "cell_type": "markdown",
      "source": [
        "\n",
        "**From this graph we get insights that Maximum Sales is on Day 1 which is Monday and the same  is decreasing till Day 6 which is Saturday .As most of the stores are closed on Day 7 which is Sunday ,so the Sales is closed to Zero.**\n"
      ],
      "metadata": {
        "id": "TrOVG4UHlgMY"
      }
    },
    {
      "cell_type": "code",
      "source": [
        "plt.figure(figsize=(15,6))\n",
        "sns.pointplot(x= 'CompetitionOpenSinceMonth', y= 'Sales', data=final1,color='Red')\n",
        "sns.set_style(\"dark\")\n",
        "plt.title('Plot between Sales and CompetitionOpenSinceMonth ')"
      ],
      "metadata": {
        "id": "tKqfSXNUMWg-",
        "colab": {
          "base_uri": "https://localhost:8080/",
          "height": 422
        },
        "outputId": "35d4d00c-4e45-4c47-8169-d0234b02a379"
      },
      "execution_count": 37,
      "outputs": [
        {
          "output_type": "execute_result",
          "data": {
            "text/plain": [
              "Text(0.5, 1.0, 'Plot between Sales and CompetitionOpenSinceMonth ')"
            ]
          },
          "metadata": {},
          "execution_count": 37
        },
        {
          "output_type": "display_data",
          "data": {
            "text/plain": [
              "<Figure size 1080x432 with 1 Axes>"
            ],
            "image/png": "[encoded data removed]"
          },
          "metadata": {}
        }
      ]
    },
    {
      "cell_type": "markdown",
      "source": [
        "**BOX PLOT**"
      ],
      "metadata": {
        "id": "SBA56386XkOn"
      }
    },
    {
      "cell_type": "code",
      "source": [
        "plt.figure(figsize=(20, 11))\n",
        "plot_storetype_sales = sns.boxplot(x=\"StoreType\", y=\"Sales\", data=final1, saturation=1.5,width=0.8)\n",
        "plt.title('Boxplot For Sales Values')"
      ],
      "metadata": {
        "id": "C5LyKwQuX43_",
        "colab": {
          "base_uri": "https://localhost:8080/",
          "height": 695
        },
        "outputId": "8201a3e7-e2b2-4bd7-ab3d-f98b2fbbd135"
      },
      "execution_count": 38,
      "outputs": [
        {
          "output_type": "execute_result",
          "data": {
            "text/plain": [
              "Text(0.5, 1.0, 'Boxplot For Sales Values')"
            ]
          },
          "metadata": {},
          "execution_count": 38
        },
        {
          "output_type": "display_data",
          "data": {
            "text/plain": [
              "<Figure size 1440x792 with 1 Axes>"
            ],
            "image/png": "[encoded data removed]"
          },
          "metadata": {}
        }
      ]
    },
    {
      "cell_type": "code",
      "source": [
        "plt.figure(figsize=(20, 11))\n",
        "plot_storetype_sales = sns.boxplot(x=\"Assortment\", y=\"Sales\", data=final1, saturation=1.5,width=0.8)\n",
        "plt.title('Boxplot For Sales Values on the basis of Assortment')"
      ],
      "metadata": {
        "id": "s10C91d-X51K",
        "colab": {
          "base_uri": "https://localhost:8080/",
          "height": 695
        },
        "outputId": "6deb81eb-eb68-4517-b165-73213d03a410"
      },
      "execution_count": 39,
      "outputs": [
        {
          "output_type": "execute_result",
          "data": {
            "text/plain": [
              "Text(0.5, 1.0, 'Boxplot For Sales Values on the basis of Assortment')"
            ]
          },
          "metadata": {},
          "execution_count": 39
        },
        {
          "output_type": "display_data",
          "data": {
            "text/plain": [
              "<Figure size 1440x792 with 1 Axes>"
            ],
            "image/png": "[encoded data removed]"
          },
          "metadata": {}
        }
      ]
    },
    {
      "cell_type": "code",
      "source": [
        "plt.figure(figsize=(15, 8))\n",
        "sns.countplot(x= 'DayOfWeek', hue='Open', data= final1, palette='viridis')\n",
        "plt.title('Store Daily Open Countplot')\n"
      ],
      "metadata": {
        "id": "mcBHZQtxX6DQ",
        "colab": {
          "base_uri": "https://localhost:8080/",
          "height": 531
        },
        "outputId": "c0354498-7dd8-4c78-c392-f241fb24615f"
      },
      "execution_count": 40,
      "outputs": [
        {
          "output_type": "execute_result",
          "data": {
            "text/plain": [
              "Text(0.5, 1.0, 'Store Daily Open Countplot')"
            ]
          },
          "metadata": {},
          "execution_count": 40
        },
        {
          "output_type": "display_data",
          "data": {
            "text/plain": [
              "<Figure size 1080x576 with 1 Axes>"
            ],
            "image/png": "[encoded data removed]"
          },
          "metadata": {}
        }
      ]
    },
    {
      "cell_type": "code",
      "source": [
        "plt.figure(figsize=(15, 8))\n",
        "sns.countplot(x= 'DayOfWeek', hue='Promo', data= final1, palette='viridis')\n",
        "plt.title('Store Daily Promo Countplot')"
      ],
      "metadata": {
        "id": "_NhEeqfwX6Ht",
        "colab": {
          "base_uri": "https://localhost:8080/",
          "height": 531
        },
        "outputId": "60e4f789-3723-48aa-85f4-07fa3482b3db"
      },
      "execution_count": 41,
      "outputs": [
        {
          "output_type": "execute_result",
          "data": {
            "text/plain": [
              "Text(0.5, 1.0, 'Store Daily Promo Countplot')"
            ]
          },
          "metadata": {},
          "execution_count": 41
        },
        {
          "output_type": "display_data",
          "data": {
            "text/plain": [
              "<Figure size 1080x576 with 1 Axes>"
            ],
            "image/png": "[encoded data removed]"
          },
          "metadata": {}
        }
      ]
    },
    {
      "cell_type": "code",
      "source": [
        "plt.figure(figsize=(12, 8))\n",
        "promo_sales = sns.barplot(x=\"Promo\", y=\"Sales\", data=final1, palette='viridis')"
      ],
      "metadata": {
        "id": "D-UtTXAvX6LB",
        "colab": {
          "base_uri": "https://localhost:8080/",
          "height": 497
        },
        "outputId": "e85cb249-9ce3-413a-a1fd-2f1e839cd254"
      },
      "execution_count": 42,
      "outputs": [
        {
          "output_type": "display_data",
          "data": {
            "text/plain": [
              "<Figure size 864x576 with 1 Axes>"
            ],
            "image/png": "[encoded data removed]"
          },
          "metadata": {}
        }
      ]
    },
    {
      "cell_type": "markdown",
      "source": [
        "**Here 0 represents the store which didnt opt for promotion and 1 represents for stores who opt for promotion. Those store who took promotions their sales are high as compared to stores who didnt took promotion.**"
      ],
      "metadata": {
        "id": "kPDZqtCjnDrq"
      }
    },
    {
      "cell_type": "markdown",
      "source": [
        "## **State Holiday**\n",
        "\n",
        "**0 = public holiday, 1 = Easter holiday, 2 = Christmas, 3 = None**"
      ],
      "metadata": {
        "id": "5QLc-28ClSH_"
      }
    },
    {
      "cell_type": "code",
      "source": [
        "plt.figure(figsize=(12, 8))\n",
        "stateholiday_sales = sns.barplot(x=\"StateHoliday\", y=\"Sales\", data=final1,palette='viridis')"
      ],
      "metadata": {
        "id": "rgkHEICrX6OI",
        "colab": {
          "base_uri": "https://localhost:8080/",
          "height": 497
        },
        "outputId": "850a447c-e04a-4013-bb66-0fdefd0c9237"
      },
      "execution_count": 43,
      "outputs": [
        {
          "output_type": "display_data",
          "data": {
            "text/plain": [
              "<Figure size 864x576 with 1 Axes>"
            ],
            "image/png": "[encoded data removed]"
          },
          "metadata": {}
        }
      ]
    },
    {
      "cell_type": "markdown",
      "source": [
        "## **School Holiday**\n",
        "\n",
        "**0='Not Holiday', 1='Holiday'**"
      ],
      "metadata": {
        "id": "vssQQ8sjoc45"
      }
    },
    {
      "cell_type": "code",
      "source": [
        "plt.figure(figsize=(12, 8))\n",
        "stateholiday_sales = sns.barplot(x=\"SchoolHoliday\", y=\"Sales\", data=final1,palette='viridis')"
      ],
      "metadata": {
        "id": "SXjVPoMpX6Q0",
        "colab": {
          "base_uri": "https://localhost:8080/",
          "height": 497
        },
        "outputId": "50bdfdaf-74d7-4c81-ff16-498287bf4b0c"
      },
      "execution_count": 44,
      "outputs": [
        {
          "output_type": "display_data",
          "data": {
            "text/plain": [
              "<Figure size 864x576 with 1 Axes>"
            ],
            "image/png": "[encoded data removed]"
          },
          "metadata": {}
        }
      ]
    },
    {
      "cell_type": "markdown",
      "source": [
        "**We can observe that most of the stores remain closed during State and Holidays. But it is interesting to note that the number of stores opened during School Holidays were more than that were opened during State Holidays. Another important thing to note is that the stores which were opened during School holidays had more sales than normal.**"
      ],
      "metadata": {
        "id": "zKv8xwk1ndk_"
      }
    },
    {
      "cell_type": "markdown",
      "source": [
        "# **Conclusion of EDA**\n",
        "\n",
        "\n",
        "\n",
        "1)From plot sales and competition Open Since Month shows sales go increasing from November and highest in month December.\n",
        "\n",
        "2)From plot Sales and day of week, Sales highest on Monday and start declining from Tuesday to Saturday and on Sunday Sales almost near to Zero.\n",
        "\n",
        "3)Plot between Promotion and Sales shows that promotion helps in increasing Sales.\n",
        "\n",
        "4)Type of Store plays an important role in opening pattern of stores.\n",
        "\n",
        "5)All Type ‘b’ stores never closed except for refurbishment or other reason.\n",
        "\n",
        "6)All Type ‘b’ stores have comparatively higher sales and it mostly constant with peaks appears on weekends.\n",
        "\n",
        "7)ssortment Level ‘b’ is only offered at Store Type ‘b’.\n",
        "\n",
        "\n",
        "8)We can observe that most of the stores remain closed during State Holidays. But it is interesting to note that the number of stores opened during School Holidays were more than that were opened during State Holidays."
      ],
      "metadata": {
        "id": "_pUBoj4cLMtb"
      }
    },
    {
      "cell_type": "markdown",
      "source": [
        "# **6-Feature Engineering & Data Pre-processing**"
      ],
      "metadata": {
        "id": "3oi4tQYrfykN"
      }
    },
    {
      "cell_type": "code",
      "source": [
        "plt.figure(figsize=(18,8))\n",
        "correlation = final1.corr()\n",
        "sns.heatmap(abs(correlation), annot=True, cmap='Reds',linewidths=2,fmt=\".2f\")"
      ],
      "metadata": {
        "id": "W5fYteMvTolP",
        "colab": {
          "base_uri": "https://localhost:8080/",
          "height": 640
        },
        "outputId": "1a60a145-4362-4880-ca80-a33d3511e497"
      },
      "execution_count": 45,
      "outputs": [
        {
          "output_type": "execute_result",
          "data": {
            "text/plain": [
              "<Axes: >"
            ]
          },
          "metadata": {},
          "execution_count": 45
        },
        {
          "output_type": "display_data",
          "data": {
            "text/plain": [
              "<Figure size 1296x576 with 2 Axes>"
            ],
            "image/png": "[encoded data removed]"
          },
          "metadata": {}
        }
      ]
    },
    {
      "cell_type": "markdown",
      "source": [
        "# **Multicollinearity**"
      ],
      "metadata": {
        "id": "jZ342OS_cXbE"
      }
    },
    {
      "cell_type": "code",
      "source": [
        "from statsmodels.stats.outliers_influence import variance_inflation_factor\n",
        "def calc_vif(X):\n",
        "\n",
        "    # Calculating VIF\n",
        "    vif = pd.DataFrame()\n",
        "    vif[\"variables\"] = X.columns\n",
        "    vif[\"VIF\"] = [variance_inflation_factor(X.values, i) for i in range(X.shape[1])]\n",
        "\n",
        "    return(vif)"
      ],
      "metadata": {
        "id": "dhyxSXCdToqI"
      },
      "execution_count": 46,
      "outputs": []
    },
    {
      "cell_type": "code",
      "source": [
        "calc_vif(final1[[i for i in final1.describe().columns if i not in ['Sales']]])"
      ],
      "metadata": {
        "id": "rvfILMB6Tou-",
        "colab": {
          "base_uri": "https://localhost:8080/",
          "height": 519
        },
        "outputId": "89d3b042-f158-4f6f-cdea-6352ef191737"
      },
      "execution_count": 47,
      "outputs": [
        {
          "output_type": "execute_result",
          "data": {
            "text/plain": [
              "                    variables           VIF\n",
              "0                       Store  3.698820e+00\n",
              "1                   DayOfWeek  4.104634e+00\n",
              "2                   Customers  5.236586e+00\n",
              "3                        Open  9.374439e+00\n",
              "4                       Promo  1.917193e+00\n",
              "5                StateHoliday  1.187974e+00\n",
              "6               SchoolHoliday  1.330848e+00\n",
              "7                   StoreType  1.940267e+00\n",
              "8                  Assortment  2.045386e+00\n",
              "9         CompetitionDistance  1.589466e+00\n",
              "10  CompetitionOpenSinceMonth  3.849024e+00\n",
              "11   CompetitionOpenSinceYear  2.993096e+00\n",
              "12                     Promo2  1.575793e+06\n",
              "13            Promo2SinceWeek  3.998358e+00\n",
              "14            Promo2SinceYear  1.574756e+06"
            ],
            "text/html": [
              "\n",
              "  <div id=\"df-ee54c8c0-bbdb-4c61-8ef7-4f58d3e4608b\">\n",
              "    <div class=\"colab-df-container\">\n",
              "      <div>\n",
              "<style scoped>\n",
              "    .dataframe tbody tr th:only-of-type {\n",
              "        vertical-align: middle;\n",
              "    }\n",
              "\n",
              "    .dataframe tbody tr th {\n",
              "        vertical-align: top;\n",
              "    }\n",
              "\n",
              "    .dataframe thead th {\n",
              "        text-align: right;\n",
              "    }\n",
              "</style>\n",
              "<table border=\"1\" class=\"dataframe\">\n",
              "  <thead>\n",
              "    <tr style=\"text-align: right;\">\n",
              "      <th></th>\n",
              "      <th>variables</th>\n",
              "      <th>VIF</th>\n",
              "    </tr>\n",
              "  </thead>\n",
              "  <tbody>\n",
              "    <tr>\n",
              "      <th>0</th>\n",
              "      <td>Store</td>\n",
              "      <td>3.698820e+00</td>\n",
              "    </tr>\n",
              "    <tr>\n",
              "      <th>1</th>\n",
              "      <td>DayOfWeek</td>\n",
              "      <td>4.104634e+00</td>\n",
              "    </tr>\n",
              "    <tr>\n",
              "      <th>2</th>\n",
              "      <td>Customers</td>\n",
              "      <td>5.236586e+00</td>\n",
              "    </tr>\n",
              "    <tr>\n",
              "      <th>3</th>\n",
              "      <td>Open</td>\n",
              "      <td>9.374439e+00</td>\n",
              "    </tr>\n",
              "    <tr>\n",
              "      <th>4</th>\n",
              "      <td>Promo</td>\n",
              "      <td>1.917193e+00</td>\n",
              "    </tr>\n",
              "    <tr>\n",
              "      <th>5</th>\n",
              "      <td>StateHoliday</td>\n",
              "      <td>1.187974e+00</td>\n",
              "    </tr>\n",
              "    <tr>\n",
              "      <th>6</th>\n",
              "      <td>SchoolHoliday</td>\n",
              "      <td>1.330848e+00</td>\n",
              "    </tr>\n",
              "    <tr>\n",
              "      <th>7</th>\n",
              "      <td>StoreType</td>\n",
              "      <td>1.940267e+00</td>\n",
              "    </tr>\n",
              "    <tr>\n",
              "      <th>8</th>\n",
              "      <td>Assortment</td>\n",
              "      <td>2.045386e+00</td>\n",
              "    </tr>\n",
              "    <tr>\n",
              "      <th>9</th>\n",
              "      <td>CompetitionDistance</td>\n",
              "      <td>1.589466e+00</td>\n",
              "    </tr>\n",
              "    <tr>\n",
              "      <th>10</th>\n",
              "      <td>CompetitionOpenSinceMonth</td>\n",
              "      <td>3.849024e+00</td>\n",
              "    </tr>\n",
              "    <tr>\n",
              "      <th>11</th>\n",
              "      <td>CompetitionOpenSinceYear</td>\n",
              "      <td>2.993096e+00</td>\n",
              "    </tr>\n",
              "    <tr>\n",
              "      <th>12</th>\n",
              "      <td>Promo2</td>\n",
              "      <td>1.575793e+06</td>\n",
              "    </tr>\n",
              "    <tr>\n",
              "      <th>13</th>\n",
              "      <td>Promo2SinceWeek</td>\n",
              "      <td>3.998358e+00</td>\n",
              "    </tr>\n",
              "    <tr>\n",
              "      <th>14</th>\n",
              "      <td>Promo2SinceYear</td>\n",
              "      <td>1.574756e+06</td>\n",
              "    </tr>\n",
              "  </tbody>\n",
              "</table>\n",
              "</div>\n",
              "      <button class=\"colab-df-convert\" onclick=\"convertToInteractive('df-ee54c8c0-bbdb-4c61-8ef7-4f58d3e4608b')\"\n",
              "              title=\"Convert this dataframe to an interactive table.\"\n",
              "              style=\"display:none;\">\n",
              "        \n",
              "  <svg xmlns=\"http://www.w3.org/2000/svg\" height=\"24px\"viewBox=\"0 0 24 24\"\n",
              "       width=\"24px\">\n",
              "    <path d=\"M0 0h24v24H0V0z\" fill=\"none\"/>\n",
              "    <path d=\"M18.56 5.44l.94 2.06.94-2.06 2.06-.94-2.06-.94-.94-2.06-.94 2.06-2.06.94zm-11 1L8.5 8.5l.94-2.06 2.06-.94-2.06-.94L8.5 2.5l-.94 2.06-2.06.94zm10 10l.94 2.06.94-2.06 2.06-.94-2.06-.94-.94-2.06-.94 2.06-2.06.94z\"/><path d=\"M17.41 7.96l-1.37-1.37c-.4-.4-.92-.59-1.43-.59-.52 0-1.04.2-1.43.59L10.3 9.45l-7.72 7.72c-.78.78-.78 2.05 0 2.83L4 21.41c.39.39.9.59 1.41.59.51 0 1.02-.2 1.41-.59l7.78-7.78 2.81-2.81c.8-.78.8-2.07 0-2.86zM5.41 20L4 18.59l7.72-7.72 1.47 1.35L5.41 20z\"/>\n",
              "  </svg>\n",
              "      </button>\n",
              "      \n",
              "  <style>\n",
              "    .colab-df-container {\n",
              "      display:flex;\n",
              "      flex-wrap:wrap;\n",
              "      gap: 12px;\n",
              "    }\n",
              "\n",
              "    .colab-df-convert {\n",
              "      background-color: #E8F0FE;\n",
              "      border: none;\n",
              "      border-radius: 50%;\n",
              "      cursor: pointer;\n",
              "      display: none;\n",
              "      fill: #1967D2;\n",
              "      height: 32px;\n",
              "      padding: 0 0 0 0;\n",
              "      width: 32px;\n",
              "    }\n",
              "\n",
              "    .colab-df-convert:hover {\n",
              "      background-color: #E2EBFA;\n",
              "      box-shadow: 0px 1px 2px rgba(60, 64, 67, 0.3), 0px 1px 3px 1px rgba(60, 64, 67, 0.15);\n",
              "      fill: #174EA6;\n",
              "    }\n",
              "\n",
              "    [theme=dark] .colab-df-convert {\n",
              "      background-color: #3B4455;\n",
              "      fill: #D2E3FC;\n",
              "    }\n",
              "\n",
              "    [theme=dark] .colab-df-convert:hover {\n",
              "      background-color: #434B5C;\n",
              "      box-shadow: 0px 1px 3px 1px rgba(0, 0, 0, 0.15);\n",
              "      filter: drop-shadow(0px 1px 2px rgba(0, 0, 0, 0.3));\n",
              "      fill: #FFFFFF;\n",
              "    }\n",
              "  </style>\n",
              "\n",
              "      <script>\n",
              "        const buttonEl =\n",
              "          document.querySelector('#df-ee54c8c0-bbdb-4c61-8ef7-4f58d3e4608b button.colab-df-convert');\n",
              "        buttonEl.style.display =\n",
              "          google.colab.kernel.accessAllowed ? 'block' : 'none';\n",
              "\n",
              "        async function convertToInteractive(key) {\n",
              "          const element = document.querySelector('#df-ee54c8c0-bbdb-4c61-8ef7-4f58d3e4608b');\n",
              "          const dataTable =\n",
              "            await google.colab.kernel.invokeFunction('convertToInteractive',\n",
              "                                                     [key], {});\n",
              "          if (!dataTable) return;\n",
              "\n",
              "          const docLinkHtml = 'Like what you see? Visit the ' +\n",
              "            '<a target=\"_blank\" href=https://colab.research.google.com/notebooks/data_table.ipynb>data table notebook</a>'\n",
              "            + ' to learn more about interactive tables.';\n",
              "          element.innerHTML = '';\n",
              "          dataTable['output_type'] = 'display_data';\n",
              "          await google.colab.output.renderOutput(dataTable, element);\n",
              "          const docLink = document.createElement('div');\n",
              "          docLink.innerHTML = docLinkHtml;\n",
              "          element.appendChild(docLink);\n",
              "        }\n",
              "      </script>\n",
              "    </div>\n",
              "  </div>\n",
              "  "
            ]
          },
          "metadata": {},
          "execution_count": 47
        }
      ]
    },
    {
      "cell_type": "markdown",
      "source": [
        "**In above table we can see that VIF(Variance Inflation Factor) value for column Promo2 and Promo2SinceYear is Higher .So we will drop either Promo2 or Promo2SinceYear and again check VIF value.Here we drop Promo2 column.**"
      ],
      "metadata": {
        "id": "8jrLKgQBgQbm"
      }
    },
    {
      "cell_type": "code",
      "source": [
        "calc_vif(final1[[i for i in final1.describe().columns if i not in ['Sales','Promo2']]])"
      ],
      "metadata": {
        "id": "zRbeij2xTozI",
        "colab": {
          "base_uri": "https://localhost:8080/",
          "height": 488
        },
        "outputId": "cf050ad6-7daa-4138-f248-48e8a7771816"
      },
      "execution_count": 48,
      "outputs": [
        {
          "output_type": "execute_result",
          "data": {
            "text/plain": [
              "                    variables       VIF\n",
              "0                       Store  3.696388\n",
              "1                   DayOfWeek  4.104282\n",
              "2                   Customers  5.236066\n",
              "3                        Open  9.373305\n",
              "4                       Promo  1.917150\n",
              "5                StateHoliday  1.187974\n",
              "6               SchoolHoliday  1.330831\n",
              "7                   StoreType  1.934410\n",
              "8                  Assortment  2.039789\n",
              "9         CompetitionDistance  1.583028\n",
              "10  CompetitionOpenSinceMonth  3.848243\n",
              "11   CompetitionOpenSinceYear  2.987219\n",
              "12            Promo2SinceWeek  3.763012\n",
              "13            Promo2SinceYear  4.836983"
            ],
            "text/html": [
              "\n",
              "  <div id=\"df-f0ed0e3b-76aa-40f9-9712-f4b4b9ca2d43\">\n",
              "    <div class=\"colab-df-container\">\n",
              "      <div>\n",
              "<style scoped>\n",
              "    .dataframe tbody tr th:only-of-type {\n",
              "        vertical-align: middle;\n",
              "    }\n",
              "\n",
              "    .dataframe tbody tr th {\n",
              "        vertical-align: top;\n",
              "    }\n",
              "\n",
              "    .dataframe thead th {\n",
              "        text-align: right;\n",
              "    }\n",
              "</style>\n",
              "<table border=\"1\" class=\"dataframe\">\n",
              "  <thead>\n",
              "    <tr style=\"text-align: right;\">\n",
              "      <th></th>\n",
              "      <th>variables</th>\n",
              "      <th>VIF</th>\n",
              "    </tr>\n",
              "  </thead>\n",
              "  <tbody>\n",
              "    <tr>\n",
              "      <th>0</th>\n",
              "      <td>Store</td>\n",
              "      <td>3.696388</td>\n",
              "    </tr>\n",
              "    <tr>\n",
              "      <th>1</th>\n",
              "      <td>DayOfWeek</td>\n",
              "      <td>4.104282</td>\n",
              "    </tr>\n",
              "    <tr>\n",
              "      <th>2</th>\n",
              "      <td>Customers</td>\n",
              "      <td>5.236066</td>\n",
              "    </tr>\n",
              "    <tr>\n",
              "      <th>3</th>\n",
              "      <td>Open</td>\n",
              "      <td>9.373305</td>\n",
              "    </tr>\n",
              "    <tr>\n",
              "      <th>4</th>\n",
              "      <td>Promo</td>\n",
              "      <td>1.917150</td>\n",
              "    </tr>\n",
              "    <tr>\n",
              "      <th>5</th>\n",
              "      <td>StateHoliday</td>\n",
              "      <td>1.187974</td>\n",
              "    </tr>\n",
              "    <tr>\n",
              "      <th>6</th>\n",
              "      <td>SchoolHoliday</td>\n",
              "      <td>1.330831</td>\n",
              "    </tr>\n",
              "    <tr>\n",
              "      <th>7</th>\n",
              "      <td>StoreType</td>\n",
              "      <td>1.934410</td>\n",
              "    </tr>\n",
              "    <tr>\n",
              "      <th>8</th>\n",
              "      <td>Assortment</td>\n",
              "      <td>2.039789</td>\n",
              "    </tr>\n",
              "    <tr>\n",
              "      <th>9</th>\n",
              "      <td>CompetitionDistance</td>\n",
              "      <td>1.583028</td>\n",
              "    </tr>\n",
              "    <tr>\n",
              "      <th>10</th>\n",
              "      <td>CompetitionOpenSinceMonth</td>\n",
              "      <td>3.848243</td>\n",
              "    </tr>\n",
              "    <tr>\n",
              "      <th>11</th>\n",
              "      <td>CompetitionOpenSinceYear</td>\n",
              "      <td>2.987219</td>\n",
              "    </tr>\n",
              "    <tr>\n",
              "      <th>12</th>\n",
              "      <td>Promo2SinceWeek</td>\n",
              "      <td>3.763012</td>\n",
              "    </tr>\n",
              "    <tr>\n",
              "      <th>13</th>\n",
              "      <td>Promo2SinceYear</td>\n",
              "      <td>4.836983</td>\n",
              "    </tr>\n",
              "  </tbody>\n",
              "</table>\n",
              "</div>\n",
              "      <button class=\"colab-df-convert\" onclick=\"convertToInteractive('df-f0ed0e3b-76aa-40f9-9712-f4b4b9ca2d43')\"\n",
              "              title=\"Convert this dataframe to an interactive table.\"\n",
              "              style=\"display:none;\">\n",
              "        \n",
              "  <svg xmlns=\"http://www.w3.org/2000/svg\" height=\"24px\"viewBox=\"0 0 24 24\"\n",
              "       width=\"24px\">\n",
              "    <path d=\"M0 0h24v24H0V0z\" fill=\"none\"/>\n",
              "    <path d=\"M18.56 5.44l.94 2.06.94-2.06 2.06-.94-2.06-.94-.94-2.06-.94 2.06-2.06.94zm-11 1L8.5 8.5l.94-2.06 2.06-.94-2.06-.94L8.5 2.5l-.94 2.06-2.06.94zm10 10l.94 2.06.94-2.06 2.06-.94-2.06-.94-.94-2.06-.94 2.06-2.06.94z\"/><path d=\"M17.41 7.96l-1.37-1.37c-.4-.4-.92-.59-1.43-.59-.52 0-1.04.2-1.43.59L10.3 9.45l-7.72 7.72c-.78.78-.78 2.05 0 2.83L4 21.41c.39.39.9.59 1.41.59.51 0 1.02-.2 1.41-.59l7.78-7.78 2.81-2.81c.8-.78.8-2.07 0-2.86zM5.41 20L4 18.59l7.72-7.72 1.47 1.35L5.41 20z\"/>\n",
              "  </svg>\n",
              "      </button>\n",
              "      \n",
              "  <style>\n",
              "    .colab-df-container {\n",
              "      display:flex;\n",
              "      flex-wrap:wrap;\n",
              "      gap: 12px;\n",
              "    }\n",
              "\n",
              "    .colab-df-convert {\n",
              "      background-color: #E8F0FE;\n",
              "      border: none;\n",
              "      border-radius: 50%;\n",
              "      cursor: pointer;\n",
              "      display: none;\n",
              "      fill: #1967D2;\n",
              "      height: 32px;\n",
              "      padding: 0 0 0 0;\n",
              "      width: 32px;\n",
              "    }\n",
              "\n",
              "    .colab-df-convert:hover {\n",
              "      background-color: #E2EBFA;\n",
              "      box-shadow: 0px 1px 2px rgba(60, 64, 67, 0.3), 0px 1px 3px 1px rgba(60, 64, 67, 0.15);\n",
              "      fill: #174EA6;\n",
              "    }\n",
              "\n",
              "    [theme=dark] .colab-df-convert {\n",
              "      background-color: #3B4455;\n",
              "      fill: #D2E3FC;\n",
              "    }\n",
              "\n",
              "    [theme=dark] .colab-df-convert:hover {\n",
              "      background-color: #434B5C;\n",
              "      box-shadow: 0px 1px 3px 1px rgba(0, 0, 0, 0.15);\n",
              "      filter: drop-shadow(0px 1px 2px rgba(0, 0, 0, 0.3));\n",
              "      fill: #FFFFFF;\n",
              "    }\n",
              "  </style>\n",
              "\n",
              "      <script>\n",
              "        const buttonEl =\n",
              "          document.querySelector('#df-f0ed0e3b-76aa-40f9-9712-f4b4b9ca2d43 button.colab-df-convert');\n",
              "        buttonEl.style.display =\n",
              "          google.colab.kernel.accessAllowed ? 'block' : 'none';\n",
              "\n",
              "        async function convertToInteractive(key) {\n",
              "          const element = document.querySelector('#df-f0ed0e3b-76aa-40f9-9712-f4b4b9ca2d43');\n",
              "          const dataTable =\n",
              "            await google.colab.kernel.invokeFunction('convertToInteractive',\n",
              "                                                     [key], {});\n",
              "          if (!dataTable) return;\n",
              "\n",
              "          const docLinkHtml = 'Like what you see? Visit the ' +\n",
              "            '<a target=\"_blank\" href=https://colab.research.google.com/notebooks/data_table.ipynb>data table notebook</a>'\n",
              "            + ' to learn more about interactive tables.';\n",
              "          element.innerHTML = '';\n",
              "          dataTable['output_type'] = 'display_data';\n",
              "          await google.colab.output.renderOutput(dataTable, element);\n",
              "          const docLink = document.createElement('div');\n",
              "          docLink.innerHTML = docLinkHtml;\n",
              "          element.appendChild(docLink);\n",
              "        }\n",
              "      </script>\n",
              "    </div>\n",
              "  </div>\n",
              "  "
            ]
          },
          "metadata": {},
          "execution_count": 48
        }
      ]
    },
    {
      "cell_type": "markdown",
      "source": [
        "### **VIF factor below 10 is look good for Machine Learning Model.**"
      ],
      "metadata": {
        "id": "JRpUmXxSiXs3"
      }
    },
    {
      "cell_type": "markdown",
      "source": [
        "# **Analysis of Target Variable i.e 'Sales'.**"
      ],
      "metadata": {
        "id": "Pf5O5o5MiIp2"
      }
    },
    {
      "cell_type": "code",
      "source": [
        "pd.Series(final1['Sales'],).hist(bins=5, color=\"red\")\n",
        "plt.show()"
      ],
      "metadata": {
        "id": "AD027j-uX6UW",
        "colab": {
          "base_uri": "https://localhost:8080/",
          "height": 265
        },
        "outputId": "5bd09456-3b30-4716-8592-87bfd25c7f78"
      },
      "execution_count": 49,
      "outputs": [
        {
          "output_type": "display_data",
          "data": {
            "text/plain": [
              "<Figure size 432x288 with 1 Axes>"
            ],
            "image/png": "[encoded data removed]"
          },
          "metadata": {}
        }
      ]
    },
    {
      "cell_type": "code",
      "source": [
        "final1[(final1.Open == 0) & (final1.Sales == 0)].count()[0]"
      ],
      "metadata": {
        "id": "l7D6gbBsj1Ge",
        "colab": {
          "base_uri": "https://localhost:8080/"
        },
        "outputId": "2207860d-eb68-4cb5-a304-990d02213ce7"
      },
      "execution_count": 50,
      "outputs": [
        {
          "output_type": "execute_result",
          "data": {
            "text/plain": [
              "172817"
            ]
          },
          "metadata": {},
          "execution_count": 50
        }
      ]
    },
    {
      "cell_type": "markdown",
      "source": [
        "\n",
        "**So we will drop thoose store which sales is 0 assuming that the stores were closed temoprarily and this will help to train the model more accurately.**"
      ],
      "metadata": {
        "id": "9-WzZO2OkEZA"
      }
    },
    {
      "cell_type": "code",
      "source": [
        "new_df = final1.drop(final1[(final1.Open == 0) & (final1.Sales == 0)].index)"
      ],
      "metadata": {
        "id": "JNnPVnX8k6xF"
      },
      "execution_count": 51,
      "outputs": []
    },
    {
      "cell_type": "code",
      "source": [
        "new_df.shape"
      ],
      "metadata": {
        "id": "zrkVUB0jk7Pk",
        "colab": {
          "base_uri": "https://localhost:8080/"
        },
        "outputId": "fd799731-ec32-4183-f41e-860dff2478dc"
      },
      "execution_count": 52,
      "outputs": [
        {
          "output_type": "execute_result",
          "data": {
            "text/plain": [
              "(844392, 18)"
            ]
          },
          "metadata": {},
          "execution_count": 52
        }
      ]
    },
    {
      "cell_type": "code",
      "source": [
        "new_df"
      ],
      "metadata": {
        "id": "YPZNWQezk7a6",
        "colab": {
          "base_uri": "https://localhost:8080/",
          "height": 661
        },
        "outputId": "fb607047-709d-411b-ddad-ae1d072b76f4"
      },
      "execution_count": 53,
      "outputs": [
        {
          "output_type": "execute_result",
          "data": {
            "text/plain": [
              "         Store  DayOfWeek       Date  Sales  Customers  Open  Promo  \\\n",
              "0            1          5 2015-07-31   5263        555     1      1   \n",
              "1            2          5 2015-07-31   6064        625     1      1   \n",
              "2            3          5 2015-07-31   8314        821     1      1   \n",
              "3            4          5 2015-07-31  13995       1498     1      1   \n",
              "4            5          5 2015-07-31   4822        559     1      1   \n",
              "...        ...        ...        ...    ...        ...   ...    ...   \n",
              "1016776    682          2 2013-01-01   3375        566     1      0   \n",
              "1016827    733          2 2013-01-01  10765       2377     1      0   \n",
              "1016863    769          2 2013-01-01   5035       1248     1      0   \n",
              "1017042    948          2 2013-01-01   4491       1039     1      0   \n",
              "1017190   1097          2 2013-01-01   5961       1405     1      0   \n",
              "\n",
              "         StateHoliday  SchoolHoliday  StoreType  Assortment  \\\n",
              "0                   0              1          2           0   \n",
              "1                   0              1          0           0   \n",
              "2                   0              1          0           0   \n",
              "3                   0              1          2           2   \n",
              "4                   0              1          0           0   \n",
              "...               ...            ...        ...         ...   \n",
              "1016776             1              1          1           0   \n",
              "1016827             1              1          1           1   \n",
              "1016863             1              1          1           1   \n",
              "1017042             1              1          1           1   \n",
              "1017190             1              1          1           1   \n",
              "\n",
              "         CompetitionDistance  CompetitionOpenSinceMonth  \\\n",
              "0                       1270                          7   \n",
              "1                        570                          7   \n",
              "2                      14130                          7   \n",
              "3                        620                          7   \n",
              "4                      29910                          7   \n",
              "...                      ...                        ...   \n",
              "1016776                  150                          1   \n",
              "1016827                  860                          1   \n",
              "1016863                  840                          1   \n",
              "1017042                 1430                          1   \n",
              "1017190                  720                          1   \n",
              "\n",
              "         CompetitionOpenSinceYear  Promo2  Promo2SinceWeek  Promo2SinceYear  \\\n",
              "0                            2008       0                0                0   \n",
              "1                            2007       1               13             2010   \n",
              "2                            2006       1               14             2011   \n",
              "3                            2009       0                0                0   \n",
              "4                            2015       0                0                0   \n",
              "...                           ...     ...              ...              ...   \n",
              "1016776                      2006       0                0                0   \n",
              "1016827                      1999       0                0                0   \n",
              "1016863                         0       1               48             2012   \n",
              "1017042                         0       0                0                0   \n",
              "1017190                      2002       0                0                0   \n",
              "\n",
              "           PromoInterval  \n",
              "0                      0  \n",
              "1        Jan,Apr,Jul,Oct  \n",
              "2        Jan,Apr,Jul,Oct  \n",
              "3                      0  \n",
              "4                      0  \n",
              "...                  ...  \n",
              "1016776                0  \n",
              "1016827                0  \n",
              "1016863  Jan,Apr,Jul,Oct  \n",
              "1017042                0  \n",
              "1017190                0  \n",
              "\n",
              "[844392 rows x 18 columns]"
            ],
            "text/html": [
              "\n",
              "  <div id=\"df-ae10a2ea-bb86-41a7-8448-ef0a5b7998c1\">\n",
              "    <div class=\"colab-df-container\">\n",
              "      <div>\n",
              "<style scoped>\n",
              "    .dataframe tbody tr th:only-of-type {\n",
              "        vertical-align: middle;\n",
              "    }\n",
              "\n",
              "    .dataframe tbody tr th {\n",
              "        vertical-align: top;\n",
              "    }\n",
              "\n",
              "    .dataframe thead th {\n",
              "        text-align: right;\n",
              "    }\n",
              "</style>\n",
              "<table border=\"1\" class=\"dataframe\">\n",
              "  <thead>\n",
              "    <tr style=\"text-align: right;\">\n",
              "      <th></th>\n",
              "      <th>Store</th>\n",
              "      <th>DayOfWeek</th>\n",
              "      <th>Date</th>\n",
              "      <th>Sales</th>\n",
              "      <th>Customers</th>\n",
              "      <th>Open</th>\n",
              "      <th>Promo</th>\n",
              "      <th>StateHoliday</th>\n",
              "      <th>SchoolHoliday</th>\n",
              "      <th>StoreType</th>\n",
              "      <th>Assortment</th>\n",
              "      <th>CompetitionDistance</th>\n",
              "      <th>CompetitionOpenSinceMonth</th>\n",
              "      <th>CompetitionOpenSinceYear</th>\n",
              "      <th>Promo2</th>\n",
              "      <th>Promo2SinceWeek</th>\n",
              "      <th>Promo2SinceYear</th>\n",
              "      <th>PromoInterval</th>\n",
              "    </tr>\n",
              "  </thead>\n",
              "  <tbody>\n",
              "    <tr>\n",
              "      <th>0</th>\n",
              "      <td>1</td>\n",
              "      <td>5</td>\n",
              "      <td>2015-07-31</td>\n",
              "      <td>5263</td>\n",
              "      <td>555</td>\n",
              "      <td>1</td>\n",
              "      <td>1</td>\n",
              "      <td>0</td>\n",
              "      <td>1</td>\n",
              "      <td>2</td>\n",
              "      <td>0</td>\n",
              "      <td>1270</td>\n",
              "      <td>7</td>\n",
              "      <td>2008</td>\n",
              "      <td>0</td>\n",
              "      <td>0</td>\n",
              "      <td>0</td>\n",
              "      <td>0</td>\n",
              "    </tr>\n",
              "    <tr>\n",
              "      <th>1</th>\n",
              "      <td>2</td>\n",
              "      <td>5</td>\n",
              "      <td>2015-07-31</td>\n",
              "      <td>6064</td>\n",
              "      <td>625</td>\n",
              "      <td>1</td>\n",
              "      <td>1</td>\n",
              "      <td>0</td>\n",
              "      <td>1</td>\n",
              "      <td>0</td>\n",
              "      <td>0</td>\n",
              "      <td>570</td>\n",
              "      <td>7</td>\n",
              "      <td>2007</td>\n",
              "      <td>1</td>\n",
              "      <td>13</td>\n",
              "      <td>2010</td>\n",
              "      <td>Jan,Apr,Jul,Oct</td>\n",
              "    </tr>\n",
              "    <tr>\n",
              "      <th>2</th>\n",
              "      <td>3</td>\n",
              "      <td>5</td>\n",
              "      <td>2015-07-31</td>\n",
              "      <td>8314</td>\n",
              "      <td>821</td>\n",
              "      <td>1</td>\n",
              "      <td>1</td>\n",
              "      <td>0</td>\n",
              "      <td>1</td>\n",
              "      <td>0</td>\n",
              "      <td>0</td>\n",
              "      <td>14130</td>\n",
              "      <td>7</td>\n",
              "      <td>2006</td>\n",
              "      <td>1</td>\n",
              "      <td>14</td>\n",
              "      <td>2011</td>\n",
              "      <td>Jan,Apr,Jul,Oct</td>\n",
              "    </tr>\n",
              "    <tr>\n",
              "      <th>3</th>\n",
              "      <td>4</td>\n",
              "      <td>5</td>\n",
              "      <td>2015-07-31</td>\n",
              "      <td>13995</td>\n",
              "      <td>1498</td>\n",
              "      <td>1</td>\n",
              "      <td>1</td>\n",
              "      <td>0</td>\n",
              "      <td>1</td>\n",
              "      <td>2</td>\n",
              "      <td>2</td>\n",
              "      <td>620</td>\n",
              "      <td>7</td>\n",
              "      <td>2009</td>\n",
              "      <td>0</td>\n",
              "      <td>0</td>\n",
              "      <td>0</td>\n",
              "      <td>0</td>\n",
              "    </tr>\n",
              "    <tr>\n",
              "      <th>4</th>\n",
              "      <td>5</td>\n",
              "      <td>5</td>\n",
              "      <td>2015-07-31</td>\n",
              "      <td>4822</td>\n",
              "      <td>559</td>\n",
              "      <td>1</td>\n",
              "      <td>1</td>\n",
              "      <td>0</td>\n",
              "      <td>1</td>\n",
              "      <td>0</td>\n",
              "      <td>0</td>\n",
              "      <td>29910</td>\n",
              "      <td>7</td>\n",
              "      <td>2015</td>\n",
              "      <td>0</td>\n",
              "      <td>0</td>\n",
              "      <td>0</td>\n",
              "      <td>0</td>\n",
              "    </tr>\n",
              "    <tr>\n",
              "      <th>...</th>\n",
              "      <td>...</td>\n",
              "      <td>...</td>\n",
              "      <td>...</td>\n",
              "      <td>...</td>\n",
              "      <td>...</td>\n",
              "      <td>...</td>\n",
              "      <td>...</td>\n",
              "      <td>...</td>\n",
              "      <td>...</td>\n",
              "      <td>...</td>\n",
              "      <td>...</td>\n",
              "      <td>...</td>\n",
              "      <td>...</td>\n",
              "      <td>...</td>\n",
              "      <td>...</td>\n",
              "      <td>...</td>\n",
              "      <td>...</td>\n",
              "      <td>...</td>\n",
              "    </tr>\n",
              "    <tr>\n",
              "      <th>1016776</th>\n",
              "      <td>682</td>\n",
              "      <td>2</td>\n",
              "      <td>2013-01-01</td>\n",
              "      <td>3375</td>\n",
              "      <td>566</td>\n",
              "      <td>1</td>\n",
              "      <td>0</td>\n",
              "      <td>1</td>\n",
              "      <td>1</td>\n",
              "      <td>1</td>\n",
              "      <td>0</td>\n",
              "      <td>150</td>\n",
              "      <td>1</td>\n",
              "      <td>2006</td>\n",
              "      <td>0</td>\n",
              "      <td>0</td>\n",
              "      <td>0</td>\n",
              "      <td>0</td>\n",
              "    </tr>\n",
              "    <tr>\n",
              "      <th>1016827</th>\n",
              "      <td>733</td>\n",
              "      <td>2</td>\n",
              "      <td>2013-01-01</td>\n",
              "      <td>10765</td>\n",
              "      <td>2377</td>\n",
              "      <td>1</td>\n",
              "      <td>0</td>\n",
              "      <td>1</td>\n",
              "      <td>1</td>\n",
              "      <td>1</td>\n",
              "      <td>1</td>\n",
              "      <td>860</td>\n",
              "      <td>1</td>\n",
              "      <td>1999</td>\n",
              "      <td>0</td>\n",
              "      <td>0</td>\n",
              "      <td>0</td>\n",
              "      <td>0</td>\n",
              "    </tr>\n",
              "    <tr>\n",
              "      <th>1016863</th>\n",
              "      <td>769</td>\n",
              "      <td>2</td>\n",
              "      <td>2013-01-01</td>\n",
              "      <td>5035</td>\n",
              "      <td>1248</td>\n",
              "      <td>1</td>\n",
              "      <td>0</td>\n",
              "      <td>1</td>\n",
              "      <td>1</td>\n",
              "      <td>1</td>\n",
              "      <td>1</td>\n",
              "      <td>840</td>\n",
              "      <td>1</td>\n",
              "      <td>0</td>\n",
              "      <td>1</td>\n",
              "      <td>48</td>\n",
              "      <td>2012</td>\n",
              "      <td>Jan,Apr,Jul,Oct</td>\n",
              "    </tr>\n",
              "    <tr>\n",
              "      <th>1017042</th>\n",
              "      <td>948</td>\n",
              "      <td>2</td>\n",
              "      <td>2013-01-01</td>\n",
              "      <td>4491</td>\n",
              "      <td>1039</td>\n",
              "      <td>1</td>\n",
              "      <td>0</td>\n",
              "      <td>1</td>\n",
              "      <td>1</td>\n",
              "      <td>1</td>\n",
              "      <td>1</td>\n",
              "      <td>1430</td>\n",
              "      <td>1</td>\n",
              "      <td>0</td>\n",
              "      <td>0</td>\n",
              "      <td>0</td>\n",
              "      <td>0</td>\n",
              "      <td>0</td>\n",
              "    </tr>\n",
              "    <tr>\n",
              "      <th>1017190</th>\n",
              "      <td>1097</td>\n",
              "      <td>2</td>\n",
              "      <td>2013-01-01</td>\n",
              "      <td>5961</td>\n",
              "      <td>1405</td>\n",
              "      <td>1</td>\n",
              "      <td>0</td>\n",
              "      <td>1</td>\n",
              "      <td>1</td>\n",
              "      <td>1</td>\n",
              "      <td>1</td>\n",
              "      <td>720</td>\n",
              "      <td>1</td>\n",
              "      <td>2002</td>\n",
              "      <td>0</td>\n",
              "      <td>0</td>\n",
              "      <td>0</td>\n",
              "      <td>0</td>\n",
              "    </tr>\n",
              "  </tbody>\n",
              "</table>\n",
              "<p>844392 rows × 18 columns</p>\n",
              "</div>\n",
              "      <button class=\"colab-df-convert\" onclick=\"convertToInteractive('df-ae10a2ea-bb86-41a7-8448-ef0a5b7998c1')\"\n",
              "              title=\"Convert this dataframe to an interactive table.\"\n",
              "              style=\"display:none;\">\n",
              "        \n",
              "  <svg xmlns=\"http://www.w3.org/2000/svg\" height=\"24px\"viewBox=\"0 0 24 24\"\n",
              "       width=\"24px\">\n",
              "    <path d=\"M0 0h24v24H0V0z\" fill=\"none\"/>\n",
              "    <path d=\"M18.56 5.44l.94 2.06.94-2.06 2.06-.94-2.06-.94-.94-2.06-.94 2.06-2.06.94zm-11 1L8.5 8.5l.94-2.06 2.06-.94-2.06-.94L8.5 2.5l-.94 2.06-2.06.94zm10 10l.94 2.06.94-2.06 2.06-.94-2.06-.94-.94-2.06-.94 2.06-2.06.94z\"/><path d=\"M17.41 7.96l-1.37-1.37c-.4-.4-.92-.59-1.43-.59-.52 0-1.04.2-1.43.59L10.3 9.45l-7.72 7.72c-.78.78-.78 2.05 0 2.83L4 21.41c.39.39.9.59 1.41.59.51 0 1.02-.2 1.41-.59l7.78-7.78 2.81-2.81c.8-.78.8-2.07 0-2.86zM5.41 20L4 18.59l7.72-7.72 1.47 1.35L5.41 20z\"/>\n",
              "  </svg>\n",
              "      </button>\n",
              "      \n",
              "  <style>\n",
              "    .colab-df-container {\n",
              "      display:flex;\n",
              "      flex-wrap:wrap;\n",
              "      gap: 12px;\n",
              "    }\n",
              "\n",
              "    .colab-df-convert {\n",
              "      background-color: #E8F0FE;\n",
              "      border: none;\n",
              "      border-radius: 50%;\n",
              "      cursor: pointer;\n",
              "      display: none;\n",
              "      fill: #1967D2;\n",
              "      height: 32px;\n",
              "      padding: 0 0 0 0;\n",
              "      width: 32px;\n",
              "    }\n",
              "\n",
              "    .colab-df-convert:hover {\n",
              "      background-color: #E2EBFA;\n",
              "      box-shadow: 0px 1px 2px rgba(60, 64, 67, 0.3), 0px 1px 3px 1px rgba(60, 64, 67, 0.15);\n",
              "      fill: #174EA6;\n",
              "    }\n",
              "\n",
              "    [theme=dark] .colab-df-convert {\n",
              "      background-color: #3B4455;\n",
              "      fill: #D2E3FC;\n",
              "    }\n",
              "\n",
              "    [theme=dark] .colab-df-convert:hover {\n",
              "      background-color: #434B5C;\n",
              "      box-shadow: 0px 1px 3px 1px rgba(0, 0, 0, 0.15);\n",
              "      filter: drop-shadow(0px 1px 2px rgba(0, 0, 0, 0.3));\n",
              "      fill: #FFFFFF;\n",
              "    }\n",
              "  </style>\n",
              "\n",
              "      <script>\n",
              "        const buttonEl =\n",
              "          document.querySelector('#df-ae10a2ea-bb86-41a7-8448-ef0a5b7998c1 button.colab-df-convert');\n",
              "        buttonEl.style.display =\n",
              "          google.colab.kernel.accessAllowed ? 'block' : 'none';\n",
              "\n",
              "        async function convertToInteractive(key) {\n",
              "          const element = document.querySelector('#df-ae10a2ea-bb86-41a7-8448-ef0a5b7998c1');\n",
              "          const dataTable =\n",
              "            await google.colab.kernel.invokeFunction('convertToInteractive',\n",
              "                                                     [key], {});\n",
              "          if (!dataTable) return;\n",
              "\n",
              "          const docLinkHtml = 'Like what you see? Visit the ' +\n",
              "            '<a target=\"_blank\" href=https://colab.research.google.com/notebooks/data_table.ipynb>data table notebook</a>'\n",
              "            + ' to learn more about interactive tables.';\n",
              "          element.innerHTML = '';\n",
              "          dataTable['output_type'] = 'display_data';\n",
              "          await google.colab.output.renderOutput(dataTable, element);\n",
              "          const docLink = document.createElement('div');\n",
              "          docLink.innerHTML = docLinkHtml;\n",
              "          element.appendChild(docLink);\n",
              "        }\n",
              "      </script>\n",
              "    </div>\n",
              "  </div>\n",
              "  "
            ]
          },
          "metadata": {},
          "execution_count": 53
        }
      ]
    },
    {
      "cell_type": "markdown",
      "source": [
        "\n",
        "**In new_df dataset,column name 'PromoInterval' change into dummies it means that each new column will have a binary value (0 or 1).**"
      ],
      "metadata": {
        "id": "wC8dJ3JKnjgJ"
      }
    },
    {
      "cell_type": "code",
      "source": [
        "new_df = pd.get_dummies(new_df, columns=['PromoInterval'])\n"
      ],
      "metadata": {
        "id": "y63Y_w6ong0m"
      },
      "execution_count": 54,
      "outputs": []
    },
    {
      "cell_type": "code",
      "source": [
        "new_df"
      ],
      "metadata": {
        "id": "qruJ_iUNomRD",
        "colab": {
          "base_uri": "https://localhost:8080/",
          "height": 661
        },
        "outputId": "1feddbcd-2bf3-4f35-d49c-85bd457ed051"
      },
      "execution_count": 55,
      "outputs": [
        {
          "output_type": "execute_result",
          "data": {
            "text/plain": [
              "         Store  DayOfWeek       Date  Sales  Customers  Open  Promo  \\\n",
              "0            1          5 2015-07-31   5263        555     1      1   \n",
              "1            2          5 2015-07-31   6064        625     1      1   \n",
              "2            3          5 2015-07-31   8314        821     1      1   \n",
              "3            4          5 2015-07-31  13995       1498     1      1   \n",
              "4            5          5 2015-07-31   4822        559     1      1   \n",
              "...        ...        ...        ...    ...        ...   ...    ...   \n",
              "1016776    682          2 2013-01-01   3375        566     1      0   \n",
              "1016827    733          2 2013-01-01  10765       2377     1      0   \n",
              "1016863    769          2 2013-01-01   5035       1248     1      0   \n",
              "1017042    948          2 2013-01-01   4491       1039     1      0   \n",
              "1017190   1097          2 2013-01-01   5961       1405     1      0   \n",
              "\n",
              "         StateHoliday  SchoolHoliday  StoreType  ...  CompetitionDistance  \\\n",
              "0                   0              1          2  ...                 1270   \n",
              "1                   0              1          0  ...                  570   \n",
              "2                   0              1          0  ...                14130   \n",
              "3                   0              1          2  ...                  620   \n",
              "4                   0              1          0  ...                29910   \n",
              "...               ...            ...        ...  ...                  ...   \n",
              "1016776             1              1          1  ...                  150   \n",
              "1016827             1              1          1  ...                  860   \n",
              "1016863             1              1          1  ...                  840   \n",
              "1017042             1              1          1  ...                 1430   \n",
              "1017190             1              1          1  ...                  720   \n",
              "\n",
              "         CompetitionOpenSinceMonth  CompetitionOpenSinceYear  Promo2  \\\n",
              "0                                7                      2008       0   \n",
              "1                                7                      2007       1   \n",
              "2                                7                      2006       1   \n",
              "3                                7                      2009       0   \n",
              "4                                7                      2015       0   \n",
              "...                            ...                       ...     ...   \n",
              "1016776                          1                      2006       0   \n",
              "1016827                          1                      1999       0   \n",
              "1016863                          1                         0       1   \n",
              "1017042                          1                         0       0   \n",
              "1017190                          1                      2002       0   \n",
              "\n",
              "         Promo2SinceWeek  Promo2SinceYear  PromoInterval_0  \\\n",
              "0                      0                0                1   \n",
              "1                     13             2010                0   \n",
              "2                     14             2011                0   \n",
              "3                      0                0                1   \n",
              "4                      0                0                1   \n",
              "...                  ...              ...              ...   \n",
              "1016776                0                0                1   \n",
              "1016827                0                0                1   \n",
              "1016863               48             2012                0   \n",
              "1017042                0                0                1   \n",
              "1017190                0                0                1   \n",
              "\n",
              "         PromoInterval_Feb,May,Aug,Nov  PromoInterval_Jan,Apr,Jul,Oct  \\\n",
              "0                                    0                              0   \n",
              "1                                    0                              1   \n",
              "2                                    0                              1   \n",
              "3                                    0                              0   \n",
              "4                                    0                              0   \n",
              "...                                ...                            ...   \n",
              "1016776                              0                              0   \n",
              "1016827                              0                              0   \n",
              "1016863                              0                              1   \n",
              "1017042                              0                              0   \n",
              "1017190                              0                              0   \n",
              "\n",
              "         PromoInterval_Mar,Jun,Sept,Dec  \n",
              "0                                     0  \n",
              "1                                     0  \n",
              "2                                     0  \n",
              "3                                     0  \n",
              "4                                     0  \n",
              "...                                 ...  \n",
              "1016776                               0  \n",
              "1016827                               0  \n",
              "1016863                               0  \n",
              "1017042                               0  \n",
              "1017190                               0  \n",
              "\n",
              "[844392 rows x 21 columns]"
            ],
            "text/html": [
              "\n",
              "  <div id=\"df-43a2909c-4804-4631-8150-f23daeab9b2e\">\n",
              "    <div class=\"colab-df-container\">\n",
              "      <div>\n",
              "<style scoped>\n",
              "    .dataframe tbody tr th:only-of-type {\n",
              "        vertical-align: middle;\n",
              "    }\n",
              "\n",
              "    .dataframe tbody tr th {\n",
              "        vertical-align: top;\n",
              "    }\n",
              "\n",
              "    .dataframe thead th {\n",
              "        text-align: right;\n",
              "    }\n",
              "</style>\n",
              "<table border=\"1\" class=\"dataframe\">\n",
              "  <thead>\n",
              "    <tr style=\"text-align: right;\">\n",
              "      <th></th>\n",
              "      <th>Store</th>\n",
              "      <th>DayOfWeek</th>\n",
              "      <th>Date</th>\n",
              "      <th>Sales</th>\n",
              "      <th>Customers</th>\n",
              "      <th>Open</th>\n",
              "      <th>Promo</th>\n",
              "      <th>StateHoliday</th>\n",
              "      <th>SchoolHoliday</th>\n",
              "      <th>StoreType</th>\n",
              "      <th>...</th>\n",
              "      <th>CompetitionDistance</th>\n",
              "      <th>CompetitionOpenSinceMonth</th>\n",
              "      <th>CompetitionOpenSinceYear</th>\n",
              "      <th>Promo2</th>\n",
              "      <th>Promo2SinceWeek</th>\n",
              "      <th>Promo2SinceYear</th>\n",
              "      <th>PromoInterval_0</th>\n",
              "      <th>PromoInterval_Feb,May,Aug,Nov</th>\n",
              "      <th>PromoInterval_Jan,Apr,Jul,Oct</th>\n",
              "      <th>PromoInterval_Mar,Jun,Sept,Dec</th>\n",
              "    </tr>\n",
              "  </thead>\n",
              "  <tbody>\n",
              "    <tr>\n",
              "      <th>0</th>\n",
              "      <td>1</td>\n",
              "      <td>5</td>\n",
              "      <td>2015-07-31</td>\n",
              "      <td>5263</td>\n",
              "      <td>555</td>\n",
              "      <td>1</td>\n",
              "      <td>1</td>\n",
              "      <td>0</td>\n",
              "      <td>1</td>\n",
              "      <td>2</td>\n",
              "      <td>...</td>\n",
              "      <td>1270</td>\n",
              "      <td>7</td>\n",
              "      <td>2008</td>\n",
              "      <td>0</td>\n",
              "      <td>0</td>\n",
              "      <td>0</td>\n",
              "      <td>1</td>\n",
              "      <td>0</td>\n",
              "      <td>0</td>\n",
              "      <td>0</td>\n",
              "    </tr>\n",
              "    <tr>\n",
              "      <th>1</th>\n",
              "      <td>2</td>\n",
              "      <td>5</td>\n",
              "      <td>2015-07-31</td>\n",
              "      <td>6064</td>\n",
              "      <td>625</td>\n",
              "      <td>1</td>\n",
              "      <td>1</td>\n",
              "      <td>0</td>\n",
              "      <td>1</td>\n",
              "      <td>0</td>\n",
              "      <td>...</td>\n",
              "      <td>570</td>\n",
              "      <td>7</td>\n",
              "      <td>2007</td>\n",
              "      <td>1</td>\n",
              "      <td>13</td>\n",
              "      <td>2010</td>\n",
              "      <td>0</td>\n",
              "      <td>0</td>\n",
              "      <td>1</td>\n",
              "      <td>0</td>\n",
              "    </tr>\n",
              "    <tr>\n",
              "      <th>2</th>\n",
              "      <td>3</td>\n",
              "      <td>5</td>\n",
              "      <td>2015-07-31</td>\n",
              "      <td>8314</td>\n",
              "      <td>821</td>\n",
              "      <td>1</td>\n",
              "      <td>1</td>\n",
              "      <td>0</td>\n",
              "      <td>1</td>\n",
              "      <td>0</td>\n",
              "      <td>...</td>\n",
              "      <td>14130</td>\n",
              "      <td>7</td>\n",
              "      <td>2006</td>\n",
              "      <td>1</td>\n",
              "      <td>14</td>\n",
              "      <td>2011</td>\n",
              "      <td>0</td>\n",
              "      <td>0</td>\n",
              "      <td>1</td>\n",
              "      <td>0</td>\n",
              "    </tr>\n",
              "    <tr>\n",
              "      <th>3</th>\n",
              "      <td>4</td>\n",
              "      <td>5</td>\n",
              "      <td>2015-07-31</td>\n",
              "      <td>13995</td>\n",
              "      <td>1498</td>\n",
              "      <td>1</td>\n",
              "      <td>1</td>\n",
              "      <td>0</td>\n",
              "      <td>1</td>\n",
              "      <td>2</td>\n",
              "      <td>...</td>\n",
              "      <td>620</td>\n",
              "      <td>7</td>\n",
              "      <td>2009</td>\n",
              "      <td>0</td>\n",
              "      <td>0</td>\n",
              "      <td>0</td>\n",
              "      <td>1</td>\n",
              "      <td>0</td>\n",
              "      <td>0</td>\n",
              "      <td>0</td>\n",
              "    </tr>\n",
              "    <tr>\n",
              "      <th>4</th>\n",
              "      <td>5</td>\n",
              "      <td>5</td>\n",
              "      <td>2015-07-31</td>\n",
              "      <td>4822</td>\n",
              "      <td>559</td>\n",
              "      <td>1</td>\n",
              "      <td>1</td>\n",
              "      <td>0</td>\n",
              "      <td>1</td>\n",
              "      <td>0</td>\n",
              "      <td>...</td>\n",
              "      <td>29910</td>\n",
              "      <td>7</td>\n",
              "      <td>2015</td>\n",
              "      <td>0</td>\n",
              "      <td>0</td>\n",
              "      <td>0</td>\n",
              "      <td>1</td>\n",
              "      <td>0</td>\n",
              "      <td>0</td>\n",
              "      <td>0</td>\n",
              "    </tr>\n",
              "    <tr>\n",
              "      <th>...</th>\n",
              "      <td>...</td>\n",
              "      <td>...</td>\n",
              "      <td>...</td>\n",
              "      <td>...</td>\n",
              "      <td>...</td>\n",
              "      <td>...</td>\n",
              "      <td>...</td>\n",
              "      <td>...</td>\n",
              "      <td>...</td>\n",
              "      <td>...</td>\n",
              "      <td>...</td>\n",
              "      <td>...</td>\n",
              "      <td>...</td>\n",
              "      <td>...</td>\n",
              "      <td>...</td>\n",
              "      <td>...</td>\n",
              "      <td>...</td>\n",
              "      <td>...</td>\n",
              "      <td>...</td>\n",
              "      <td>...</td>\n",
              "      <td>...</td>\n",
              "    </tr>\n",
              "    <tr>\n",
              "      <th>1016776</th>\n",
              "      <td>682</td>\n",
              "      <td>2</td>\n",
              "      <td>2013-01-01</td>\n",
              "      <td>3375</td>\n",
              "      <td>566</td>\n",
              "      <td>1</td>\n",
              "      <td>0</td>\n",
              "      <td>1</td>\n",
              "      <td>1</td>\n",
              "      <td>1</td>\n",
              "      <td>...</td>\n",
              "      <td>150</td>\n",
              "      <td>1</td>\n",
              "      <td>2006</td>\n",
              "      <td>0</td>\n",
              "      <td>0</td>\n",
              "      <td>0</td>\n",
              "      <td>1</td>\n",
              "      <td>0</td>\n",
              "      <td>0</td>\n",
              "      <td>0</td>\n",
              "    </tr>\n",
              "    <tr>\n",
              "      <th>1016827</th>\n",
              "      <td>733</td>\n",
              "      <td>2</td>\n",
              "      <td>2013-01-01</td>\n",
              "      <td>10765</td>\n",
              "      <td>2377</td>\n",
              "      <td>1</td>\n",
              "      <td>0</td>\n",
              "      <td>1</td>\n",
              "      <td>1</td>\n",
              "      <td>1</td>\n",
              "      <td>...</td>\n",
              "      <td>860</td>\n",
              "      <td>1</td>\n",
              "      <td>1999</td>\n",
              "      <td>0</td>\n",
              "      <td>0</td>\n",
              "      <td>0</td>\n",
              "      <td>1</td>\n",
              "      <td>0</td>\n",
              "      <td>0</td>\n",
              "      <td>0</td>\n",
              "    </tr>\n",
              "    <tr>\n",
              "      <th>1016863</th>\n",
              "      <td>769</td>\n",
              "      <td>2</td>\n",
              "      <td>2013-01-01</td>\n",
              "      <td>5035</td>\n",
              "      <td>1248</td>\n",
              "      <td>1</td>\n",
              "      <td>0</td>\n",
              "      <td>1</td>\n",
              "      <td>1</td>\n",
              "      <td>1</td>\n",
              "      <td>...</td>\n",
              "      <td>840</td>\n",
              "      <td>1</td>\n",
              "      <td>0</td>\n",
              "      <td>1</td>\n",
              "      <td>48</td>\n",
              "      <td>2012</td>\n",
              "      <td>0</td>\n",
              "      <td>0</td>\n",
              "      <td>1</td>\n",
              "      <td>0</td>\n",
              "    </tr>\n",
              "    <tr>\n",
              "      <th>1017042</th>\n",
              "      <td>948</td>\n",
              "      <td>2</td>\n",
              "      <td>2013-01-01</td>\n",
              "      <td>4491</td>\n",
              "      <td>1039</td>\n",
              "      <td>1</td>\n",
              "      <td>0</td>\n",
              "      <td>1</td>\n",
              "      <td>1</td>\n",
              "      <td>1</td>\n",
              "      <td>...</td>\n",
              "      <td>1430</td>\n",
              "      <td>1</td>\n",
              "      <td>0</td>\n",
              "      <td>0</td>\n",
              "      <td>0</td>\n",
              "      <td>0</td>\n",
              "      <td>1</td>\n",
              "      <td>0</td>\n",
              "      <td>0</td>\n",
              "      <td>0</td>\n",
              "    </tr>\n",
              "    <tr>\n",
              "      <th>1017190</th>\n",
              "      <td>1097</td>\n",
              "      <td>2</td>\n",
              "      <td>2013-01-01</td>\n",
              "      <td>5961</td>\n",
              "      <td>1405</td>\n",
              "      <td>1</td>\n",
              "      <td>0</td>\n",
              "      <td>1</td>\n",
              "      <td>1</td>\n",
              "      <td>1</td>\n",
              "      <td>...</td>\n",
              "      <td>720</td>\n",
              "      <td>1</td>\n",
              "      <td>2002</td>\n",
              "      <td>0</td>\n",
              "      <td>0</td>\n",
              "      <td>0</td>\n",
              "      <td>1</td>\n",
              "      <td>0</td>\n",
              "      <td>0</td>\n",
              "      <td>0</td>\n",
              "    </tr>\n",
              "  </tbody>\n",
              "</table>\n",
              "<p>844392 rows × 21 columns</p>\n",
              "</div>\n",
              "      <button class=\"colab-df-convert\" onclick=\"convertToInteractive('df-43a2909c-4804-4631-8150-f23daeab9b2e')\"\n",
              "              title=\"Convert this dataframe to an interactive table.\"\n",
              "              style=\"display:none;\">\n",
              "        \n",
              "  <svg xmlns=\"http://www.w3.org/2000/svg\" height=\"24px\"viewBox=\"0 0 24 24\"\n",
              "       width=\"24px\">\n",
              "    <path d=\"M0 0h24v24H0V0z\" fill=\"none\"/>\n",
              "    <path d=\"M18.56 5.44l.94 2.06.94-2.06 2.06-.94-2.06-.94-.94-2.06-.94 2.06-2.06.94zm-11 1L8.5 8.5l.94-2.06 2.06-.94-2.06-.94L8.5 2.5l-.94 2.06-2.06.94zm10 10l.94 2.06.94-2.06 2.06-.94-2.06-.94-.94-2.06-.94 2.06-2.06.94z\"/><path d=\"M17.41 7.96l-1.37-1.37c-.4-.4-.92-.59-1.43-.59-.52 0-1.04.2-1.43.59L10.3 9.45l-7.72 7.72c-.78.78-.78 2.05 0 2.83L4 21.41c.39.39.9.59 1.41.59.51 0 1.02-.2 1.41-.59l7.78-7.78 2.81-2.81c.8-.78.8-2.07 0-2.86zM5.41 20L4 18.59l7.72-7.72 1.47 1.35L5.41 20z\"/>\n",
              "  </svg>\n",
              "      </button>\n",
              "      \n",
              "  <style>\n",
              "    .colab-df-container {\n",
              "      display:flex;\n",
              "      flex-wrap:wrap;\n",
              "      gap: 12px;\n",
              "    }\n",
              "\n",
              "    .colab-df-convert {\n",
              "      background-color: #E8F0FE;\n",
              "      border: none;\n",
              "      border-radius: 50%;\n",
              "      cursor: pointer;\n",
              "      display: none;\n",
              "      fill: #1967D2;\n",
              "      height: 32px;\n",
              "      padding: 0 0 0 0;\n",
              "      width: 32px;\n",
              "    }\n",
              "\n",
              "    .colab-df-convert:hover {\n",
              "      background-color: #E2EBFA;\n",
              "      box-shadow: 0px 1px 2px rgba(60, 64, 67, 0.3), 0px 1px 3px 1px rgba(60, 64, 67, 0.15);\n",
              "      fill: #174EA6;\n",
              "    }\n",
              "\n",
              "    [theme=dark] .colab-df-convert {\n",
              "      background-color: #3B4455;\n",
              "      fill: #D2E3FC;\n",
              "    }\n",
              "\n",
              "    [theme=dark] .colab-df-convert:hover {\n",
              "      background-color: #434B5C;\n",
              "      box-shadow: 0px 1px 3px 1px rgba(0, 0, 0, 0.15);\n",
              "      filter: drop-shadow(0px 1px 2px rgba(0, 0, 0, 0.3));\n",
              "      fill: #FFFFFF;\n",
              "    }\n",
              "  </style>\n",
              "\n",
              "      <script>\n",
              "        const buttonEl =\n",
              "          document.querySelector('#df-43a2909c-4804-4631-8150-f23daeab9b2e button.colab-df-convert');\n",
              "        buttonEl.style.display =\n",
              "          google.colab.kernel.accessAllowed ? 'block' : 'none';\n",
              "\n",
              "        async function convertToInteractive(key) {\n",
              "          const element = document.querySelector('#df-43a2909c-4804-4631-8150-f23daeab9b2e');\n",
              "          const dataTable =\n",
              "            await google.colab.kernel.invokeFunction('convertToInteractive',\n",
              "                                                     [key], {});\n",
              "          if (!dataTable) return;\n",
              "\n",
              "          const docLinkHtml = 'Like what you see? Visit the ' +\n",
              "            '<a target=\"_blank\" href=https://colab.research.google.com/notebooks/data_table.ipynb>data table notebook</a>'\n",
              "            + ' to learn more about interactive tables.';\n",
              "          element.innerHTML = '';\n",
              "          dataTable['output_type'] = 'display_data';\n",
              "          await google.colab.output.renderOutput(dataTable, element);\n",
              "          const docLink = document.createElement('div');\n",
              "          docLink.innerHTML = docLinkHtml;\n",
              "          element.appendChild(docLink);\n",
              "        }\n",
              "      </script>\n",
              "    </div>\n",
              "  </div>\n",
              "  "
            ]
          },
          "metadata": {},
          "execution_count": 55
        }
      ]
    },
    {
      "cell_type": "code",
      "source": [
        "new_df.to_csv('cleandata.csv', index=False)"
      ],
      "metadata": {
        "id": "mS15jRsCcNca"
      },
      "execution_count": 56,
      "outputs": []
    },
    {
      "cell_type": "markdown",
      "source": [
        "# **5-Hypothesis Testing**"
      ],
      "metadata": {
        "id": "_gZHzpo7d5YE"
      }
    },
    {
      "cell_type": "markdown",
      "source": [
        "**Hypothetical Statement - 1**\n",
        "\n",
        "# **MODEL 1 (excluding rows which has sales =0)**"
      ],
      "metadata": {
        "id": "ZGpm1MI5eYrJ"
      }
    },
    {
      "cell_type": "markdown",
      "source": [
        "## **Hypothetical Statement - 2**\n",
        "\n",
        "# **MODEL 2 (By taking whole Dataset)**"
      ],
      "metadata": {
        "id": "KO2sqVgNfBDL"
      }
    },
    {
      "cell_type": "markdown",
      "source": [
        "# **7-ML Model Implementation**"
      ],
      "metadata": {
        "id": "sqFvZKQ4gctj"
      }
    },
    {
      "cell_type": "markdown",
      "source": [
        "# **MODEL TRAINING**"
      ],
      "metadata": {
        "id": "lLkcBJ2qo5CB"
      }
    },
    {
      "cell_type": "code",
      "source": [
        "from scipy.stats import zscore\n",
        "from sklearn.linear_model import Lasso, Ridge\n",
        "from sklearn.model_selection import train_test_split\n",
        "from sklearn.preprocessing import StandardScaler\n",
        "from sklearn.linear_model import LinearRegression\n",
        "from sklearn.pipeline import Pipeline\n",
        "from sklearn.tree import DecisionTreeRegressor\n",
        "from sklearn.metrics import r2_score as r2, mean_squared_error as mse\n",
        "import math\n",
        "from sklearn.ensemble import RandomForestRegressor\n",
        "import lightgbm as lgb\n",
        "from sklearn.metrics import r2_score\n",
        "from sklearn.metrics import confusion_matrix,classification_report"
      ],
      "metadata": {
        "id": "H3OspT41pOJr"
      },
      "execution_count": 57,
      "outputs": []
    },
    {
      "cell_type": "markdown",
      "source": [
        "# **MODEL 1 (excluding rows which has sales =0)**\n",
        "\n",
        "\n",
        "As we have two dataset,first one having sales = '0' rows and another exculding it. We will both the data and find the best model.\n",
        "\n",
        "**First We will take dataset excluding Sales = '0' rows.**"
      ],
      "metadata": {
        "id": "Qx_A1jVpqqWe"
      }
    },
    {
      "cell_type": "code",
      "source": [
        "# defining dependent variable\n",
        "dependent_variables = 'Sales'\n",
        "\n",
        "# defining independent variable\n",
        "independent_variables = list(new_df.columns.drop(['Promo2SinceYear','Date','Sales']))"
      ],
      "metadata": {
        "id": "UPChISPTqAPA"
      },
      "execution_count": 58,
      "outputs": []
    },
    {
      "cell_type": "code",
      "source": [
        "#List of Independent Variable \n",
        "independent_variables\n"
      ],
      "metadata": {
        "id": "M2cVtvjwqAd2",
        "colab": {
          "base_uri": "https://localhost:8080/"
        },
        "outputId": "243d7c17-279a-49ca-e018-44b8ab4d6568"
      },
      "execution_count": 59,
      "outputs": [
        {
          "output_type": "execute_result",
          "data": {
            "text/plain": [
              "['Store',\n",
              " 'DayOfWeek',\n",
              " 'Customers',\n",
              " 'Open',\n",
              " 'Promo',\n",
              " 'StateHoliday',\n",
              " 'SchoolHoliday',\n",
              " 'StoreType',\n",
              " 'Assortment',\n",
              " 'CompetitionDistance',\n",
              " 'CompetitionOpenSinceMonth',\n",
              " 'CompetitionOpenSinceYear',\n",
              " 'Promo2',\n",
              " 'Promo2SinceWeek',\n",
              " 'PromoInterval_0',\n",
              " 'PromoInterval_Feb,May,Aug,Nov',\n",
              " 'PromoInterval_Jan,Apr,Jul,Oct',\n",
              " 'PromoInterval_Mar,Jun,Sept,Dec']"
            ]
          },
          "metadata": {},
          "execution_count": 59
        }
      ]
    },
    {
      "cell_type": "code",
      "source": [
        "# Create the data of independent variables\n",
        "X = new_df[independent_variables].values\n",
        "\n",
        "# Create the data of dependent variable\n",
        "y = new_df[dependent_variables].values"
      ],
      "metadata": {
        "id": "45H5AU4YqAj1"
      },
      "execution_count": 60,
      "outputs": []
    },
    {
      "cell_type": "code",
      "source": [
        "# splitting the dataset\n",
        "X_train, X_test, y_train, y_test = train_test_split(X, y, test_size=0.2, random_state = 0)\n",
        "print(X_train.shape)\n",
        "print(X_test.shape)"
      ],
      "metadata": {
        "id": "psKG9Z0tqAnS",
        "colab": {
          "base_uri": "https://localhost:8080/"
        },
        "outputId": "09bf9ccd-59c8-4bac-f091-0cd8421312ff"
      },
      "execution_count": 61,
      "outputs": [
        {
          "output_type": "stream",
          "name": "stdout",
          "text": [
            "(675513, 18)\n",
            "(168879, 18)\n"
          ]
        }
      ]
    },
    {
      "cell_type": "code",
      "source": [
        "# Here we Train the model \n",
        "reg = LinearRegression().fit(X_train, y_train)"
      ],
      "metadata": {
        "id": "SwpDtkVzqAqk"
      },
      "execution_count": 62,
      "outputs": []
    },
    {
      "cell_type": "code",
      "source": [
        "#Checking the Regression Score i.e R-squared value\n",
        "reg.score(X_train, y_train)"
      ],
      "metadata": {
        "id": "ZzuqlSySqAtn",
        "colab": {
          "base_uri": "https://localhost:8080/"
        },
        "outputId": "7c9b743d-4a91-42bc-c0cc-a5d82b43f847"
      },
      "execution_count": 63,
      "outputs": [
        {
          "output_type": "execute_result",
          "data": {
            "text/plain": [
              "0.7635183725690666"
            ]
          },
          "metadata": {},
          "execution_count": 63
        }
      ]
    },
    {
      "cell_type": "code",
      "source": [
        "# Checking the cofficient of different independent columns\n",
        "reg.coef_"
      ],
      "metadata": {
        "id": "FKJX5CzMqAxG",
        "colab": {
          "base_uri": "https://localhost:8080/"
        },
        "outputId": "87b62d9b-93ba-4f44-d5e7-4bb2b3e206d6"
      },
      "execution_count": 64,
      "outputs": [
        {
          "output_type": "execute_result",
          "data": {
            "text/plain": [
              "array([-1.61160602e-01, -6.85548194e+01,  6.35504984e+00, -6.79767354e-12,\n",
              "        1.29645838e+03, -1.28102415e+03,  3.62329515e+01,  2.76744096e+02,\n",
              "        2.22217335e+02,  2.88849353e-02,  2.99491278e+01,  8.39884213e-02,\n",
              "       -4.31860944e+01,  1.24902145e+01,  4.31860944e+01,  3.16962854e+01,\n",
              "        1.38838509e+02, -2.13720889e+02])"
            ]
          },
          "metadata": {},
          "execution_count": 64
        }
      ]
    },
    {
      "cell_type": "code",
      "source": [
        "# Checking the intercept of different indpendent columns\n",
        "reg.intercept_"
      ],
      "metadata": {
        "id": "bGj_KJoUqA08",
        "colab": {
          "base_uri": "https://localhost:8080/"
        },
        "outputId": "a44bd43e-c2c5-463c-92b5-7ba13e27f97e"
      },
      "execution_count": 65,
      "outputs": [
        {
          "output_type": "execute_result",
          "data": {
            "text/plain": [
              "700.1749140828606"
            ]
          },
          "metadata": {},
          "execution_count": 65
        }
      ]
    },
    {
      "cell_type": "code",
      "source": [
        "#Predicting Dependent Variable With Test Dataset i.e 20%\n",
        "y_pred = reg.predict(X_test)\n",
        "y_pred"
      ],
      "metadata": {
        "id": "P8YZFPluxdKT",
        "colab": {
          "base_uri": "https://localhost:8080/"
        },
        "outputId": "b148995d-afaa-4ba1-d92e-a25f41f91b1e"
      },
      "execution_count": 66,
      "outputs": [
        {
          "output_type": "execute_result",
          "data": {
            "text/plain": [
              "array([5324.59975349, 4849.47506442, 7238.44230268, ..., 4098.19887156,\n",
              "       7772.83233987, 5368.22125565])"
            ]
          },
          "metadata": {},
          "execution_count": 66
        }
      ]
    },
    {
      "cell_type": "code",
      "source": [
        "# Original Test Dependent Value\n",
        "y_test"
      ],
      "metadata": {
        "id": "HqsqF4k1xdVX",
        "colab": {
          "base_uri": "https://localhost:8080/"
        },
        "outputId": "06cb4984-c5da-450b-acbd-8ed06cacb62a"
      },
      "execution_count": 67,
      "outputs": [
        {
          "output_type": "execute_result",
          "data": {
            "text/plain": [
              "array([ 5495,  5472,  7969, ...,  2938, 10413,  5828])"
            ]
          },
          "metadata": {},
          "execution_count": 67
        }
      ]
    },
    {
      "cell_type": "code",
      "source": [
        "#Predicting on Train Dataset\n",
        "y_pred_train = reg.predict(X_train)\n",
        "y_pred_train\n"
      ],
      "metadata": {
        "id": "rHmjDesw0_G9",
        "colab": {
          "base_uri": "https://localhost:8080/"
        },
        "outputId": "bd66bf1e-a9a5-4103-9a2c-23f7ed51da54"
      },
      "execution_count": 68,
      "outputs": [
        {
          "output_type": "execute_result",
          "data": {
            "text/plain": [
              "array([5490.61068489, 6804.3787408 , 6699.04311466, ..., 7913.72781806,\n",
              "       6884.64407492, 6123.05554455])"
            ]
          },
          "metadata": {},
          "execution_count": 68
        }
      ]
    },
    {
      "cell_type": "code",
      "source": [
        "# Dependent Variable With Train Dataset i.e 80 %\n",
        "y_train"
      ],
      "metadata": {
        "id": "uiaEXPZH1SFI",
        "colab": {
          "base_uri": "https://localhost:8080/"
        },
        "outputId": "bee121d9-5dda-4184-9959-db235300cbb2"
      },
      "execution_count": 69,
      "outputs": [
        {
          "output_type": "execute_result",
          "data": {
            "text/plain": [
              "array([5409, 7339, 7807, ..., 4817, 6194, 5862])"
            ]
          },
          "metadata": {},
          "execution_count": 69
        }
      ]
    },
    {
      "cell_type": "code",
      "source": [
        "#Calculate MSE & RMSE for Test Prediction\n",
        "MSE  = mean_squared_error(y_test, y_pred)\n",
        "print(\"MSE :\" , MSE)\n",
        "\n",
        "RMSE = np.sqrt(MSE)\n",
        "print(\"RMSE :\" ,RMSE)"
      ],
      "metadata": {
        "id": "D7evuM3L1SM2",
        "colab": {
          "base_uri": "https://localhost:8080/"
        },
        "outputId": "4d9eaa0f-5d0a-47cc-dc18-ca5cfc6a92b5"
      },
      "execution_count": 70,
      "outputs": [
        {
          "output_type": "stream",
          "name": "stdout",
          "text": [
            "MSE : 2265528.631712661\n",
            "RMSE : 1505.1673102059656\n"
          ]
        }
      ]
    },
    {
      "cell_type": "code",
      "source": [
        "r2 = r2_score(y_test, y_pred)\n",
        "print(\"R2 :\" ,r2)"
      ],
      "metadata": {
        "id": "_Sm32kSb1Snh",
        "colab": {
          "base_uri": "https://localhost:8080/"
        },
        "outputId": "6765620d-cb45-4461-9e01-a0ab4b1f54a6"
      },
      "execution_count": 71,
      "outputs": [
        {
          "output_type": "stream",
          "name": "stdout",
          "text": [
            "R2 : 0.7634783399226589\n"
          ]
        }
      ]
    },
    {
      "cell_type": "code",
      "source": [
        "pd.DataFrame(zip(y_test, y_pred), columns = ['actual', 'pred'])"
      ],
      "metadata": {
        "id": "yviWgHhDeuO7",
        "colab": {
          "base_uri": "https://localhost:8080/",
          "height": 424
        },
        "outputId": "5920cee4-8dbd-4f1a-c3f8-1e5fb83d9a85"
      },
      "execution_count": 72,
      "outputs": [
        {
          "output_type": "execute_result",
          "data": {
            "text/plain": [
              "        actual          pred\n",
              "0         5495   5324.599753\n",
              "1         5472   4849.475064\n",
              "2         7969   7238.442303\n",
              "3         7384   6085.227240\n",
              "4        13212   7829.105207\n",
              "...        ...           ...\n",
              "168874   16337  16398.115914\n",
              "168875    9195   7062.744213\n",
              "168876    2938   4098.198872\n",
              "168877   10413   7772.832340\n",
              "168878    5828   5368.221256\n",
              "\n",
              "[168879 rows x 2 columns]"
            ],
            "text/html": [
              "\n",
              "  <div id=\"df-05608582-7a96-478a-aff4-2998028dbda1\">\n",
              "    <div class=\"colab-df-container\">\n",
              "      <div>\n",
              "<style scoped>\n",
              "    .dataframe tbody tr th:only-of-type {\n",
              "        vertical-align: middle;\n",
              "    }\n",
              "\n",
              "    .dataframe tbody tr th {\n",
              "        vertical-align: top;\n",
              "    }\n",
              "\n",
              "    .dataframe thead th {\n",
              "        text-align: right;\n",
              "    }\n",
              "</style>\n",
              "<table border=\"1\" class=\"dataframe\">\n",
              "  <thead>\n",
              "    <tr style=\"text-align: right;\">\n",
              "      <th></th>\n",
              "      <th>actual</th>\n",
              "      <th>pred</th>\n",
              "    </tr>\n",
              "  </thead>\n",
              "  <tbody>\n",
              "    <tr>\n",
              "      <th>0</th>\n",
              "      <td>5495</td>\n",
              "      <td>5324.599753</td>\n",
              "    </tr>\n",
              "    <tr>\n",
              "      <th>1</th>\n",
              "      <td>5472</td>\n",
              "      <td>4849.475064</td>\n",
              "    </tr>\n",
              "    <tr>\n",
              "      <th>2</th>\n",
              "      <td>7969</td>\n",
              "      <td>7238.442303</td>\n",
              "    </tr>\n",
              "    <tr>\n",
              "      <th>3</th>\n",
              "      <td>7384</td>\n",
              "      <td>6085.227240</td>\n",
              "    </tr>\n",
              "    <tr>\n",
              "      <th>4</th>\n",
              "      <td>13212</td>\n",
              "      <td>7829.105207</td>\n",
              "    </tr>\n",
              "    <tr>\n",
              "      <th>...</th>\n",
              "      <td>...</td>\n",
              "      <td>...</td>\n",
              "    </tr>\n",
              "    <tr>\n",
              "      <th>168874</th>\n",
              "      <td>16337</td>\n",
              "      <td>16398.115914</td>\n",
              "    </tr>\n",
              "    <tr>\n",
              "      <th>168875</th>\n",
              "      <td>9195</td>\n",
              "      <td>7062.744213</td>\n",
              "    </tr>\n",
              "    <tr>\n",
              "      <th>168876</th>\n",
              "      <td>2938</td>\n",
              "      <td>4098.198872</td>\n",
              "    </tr>\n",
              "    <tr>\n",
              "      <th>168877</th>\n",
              "      <td>10413</td>\n",
              "      <td>7772.832340</td>\n",
              "    </tr>\n",
              "    <tr>\n",
              "      <th>168878</th>\n",
              "      <td>5828</td>\n",
              "      <td>5368.221256</td>\n",
              "    </tr>\n",
              "  </tbody>\n",
              "</table>\n",
              "<p>168879 rows × 2 columns</p>\n",
              "</div>\n",
              "      <button class=\"colab-df-convert\" onclick=\"convertToInteractive('df-05608582-7a96-478a-aff4-2998028dbda1')\"\n",
              "              title=\"Convert this dataframe to an interactive table.\"\n",
              "              style=\"display:none;\">\n",
              "        \n",
              "  <svg xmlns=\"http://www.w3.org/2000/svg\" height=\"24px\"viewBox=\"0 0 24 24\"\n",
              "       width=\"24px\">\n",
              "    <path d=\"M0 0h24v24H0V0z\" fill=\"none\"/>\n",
              "    <path d=\"M18.56 5.44l.94 2.06.94-2.06 2.06-.94-2.06-.94-.94-2.06-.94 2.06-2.06.94zm-11 1L8.5 8.5l.94-2.06 2.06-.94-2.06-.94L8.5 2.5l-.94 2.06-2.06.94zm10 10l.94 2.06.94-2.06 2.06-.94-2.06-.94-.94-2.06-.94 2.06-2.06.94z\"/><path d=\"M17.41 7.96l-1.37-1.37c-.4-.4-.92-.59-1.43-.59-.52 0-1.04.2-1.43.59L10.3 9.45l-7.72 7.72c-.78.78-.78 2.05 0 2.83L4 21.41c.39.39.9.59 1.41.59.51 0 1.02-.2 1.41-.59l7.78-7.78 2.81-2.81c.8-.78.8-2.07 0-2.86zM5.41 20L4 18.59l7.72-7.72 1.47 1.35L5.41 20z\"/>\n",
              "  </svg>\n",
              "      </button>\n",
              "      \n",
              "  <style>\n",
              "    .colab-df-container {\n",
              "      display:flex;\n",
              "      flex-wrap:wrap;\n",
              "      gap: 12px;\n",
              "    }\n",
              "\n",
              "    .colab-df-convert {\n",
              "      background-color: #E8F0FE;\n",
              "      border: none;\n",
              "      border-radius: 50%;\n",
              "      cursor: pointer;\n",
              "      display: none;\n",
              "      fill: #1967D2;\n",
              "      height: 32px;\n",
              "      padding: 0 0 0 0;\n",
              "      width: 32px;\n",
              "    }\n",
              "\n",
              "    .colab-df-convert:hover {\n",
              "      background-color: #E2EBFA;\n",
              "      box-shadow: 0px 1px 2px rgba(60, 64, 67, 0.3), 0px 1px 3px 1px rgba(60, 64, 67, 0.15);\n",
              "      fill: #174EA6;\n",
              "    }\n",
              "\n",
              "    [theme=dark] .colab-df-convert {\n",
              "      background-color: #3B4455;\n",
              "      fill: #D2E3FC;\n",
              "    }\n",
              "\n",
              "    [theme=dark] .colab-df-convert:hover {\n",
              "      background-color: #434B5C;\n",
              "      box-shadow: 0px 1px 3px 1px rgba(0, 0, 0, 0.15);\n",
              "      filter: drop-shadow(0px 1px 2px rgba(0, 0, 0, 0.3));\n",
              "      fill: #FFFFFF;\n",
              "    }\n",
              "  </style>\n",
              "\n",
              "      <script>\n",
              "        const buttonEl =\n",
              "          document.querySelector('#df-05608582-7a96-478a-aff4-2998028dbda1 button.colab-df-convert');\n",
              "        buttonEl.style.display =\n",
              "          google.colab.kernel.accessAllowed ? 'block' : 'none';\n",
              "\n",
              "        async function convertToInteractive(key) {\n",
              "          const element = document.querySelector('#df-05608582-7a96-478a-aff4-2998028dbda1');\n",
              "          const dataTable =\n",
              "            await google.colab.kernel.invokeFunction('convertToInteractive',\n",
              "                                                     [key], {});\n",
              "          if (!dataTable) return;\n",
              "\n",
              "          const docLinkHtml = 'Like what you see? Visit the ' +\n",
              "            '<a target=\"_blank\" href=https://colab.research.google.com/notebooks/data_table.ipynb>data table notebook</a>'\n",
              "            + ' to learn more about interactive tables.';\n",
              "          element.innerHTML = '';\n",
              "          dataTable['output_type'] = 'display_data';\n",
              "          await google.colab.output.renderOutput(dataTable, element);\n",
              "          const docLink = document.createElement('div');\n",
              "          docLink.innerHTML = docLinkHtml;\n",
              "          element.appendChild(docLink);\n",
              "        }\n",
              "      </script>\n",
              "    </div>\n",
              "  </div>\n",
              "  "
            ]
          },
          "metadata": {},
          "execution_count": 72
        }
      ]
    },
    {
      "cell_type": "code",
      "source": [
        "!pip install shap\n"
      ],
      "metadata": {
        "id": "DGrWYVWl927E",
        "colab": {
          "base_uri": "https://localhost:8080/"
        },
        "outputId": "2f9c0f89-54d1-4f99-c5db-d1d6a8a618e6"
      },
      "execution_count": 73,
      "outputs": [
        {
          "output_type": "stream",
          "name": "stdout",
          "text": [
            "Looking in indexes: https://pypi.org/simple, https://us-python.pkg.dev/colab-wheels/public/simple/\n",
            "Collecting shap\n",
            "  Downloading shap-0.41.0-cp39-cp39-manylinux_2_12_x86_64.manylinux2010_x86_64.whl (572 kB)\n",
            "\u001b[2K     \u001b[90m━━━━━━━━━━━━━━━━━━━━━━━━━━━━━━━━━━━━━━\u001b[0m \u001b[32m572.4/572.4 KB\u001b[0m \u001b[31m31.4 MB/s\u001b[0m eta \u001b[36m0:00:00\u001b[0m\n",
            "\u001b[?25hRequirement already satisfied: packaging>20.9 in /usr/local/lib/python3.9/dist-packages (from shap) (23.0)\n",
            "Requirement already satisfied: pandas in /usr/local/lib/python3.9/dist-packages (from shap) (1.4.4)\n",
            "Requirement already satisfied: numpy in /usr/local/lib/python3.9/dist-packages (from shap) (1.22.4)\n",
            "Requirement already satisfied: scikit-learn in /usr/local/lib/python3.9/dist-packages (from shap) (1.2.2)\n",
            "Requirement already satisfied: scipy in /usr/local/lib/python3.9/dist-packages (from shap) (1.10.1)\n",
            "Requirement already satisfied: tqdm>4.25.0 in /usr/local/lib/python3.9/dist-packages (from shap) (4.65.0)\n",
            "Requirement already satisfied: numba in /usr/local/lib/python3.9/dist-packages (from shap) (0.56.4)\n",
            "Requirement already satisfied: cloudpickle in /usr/local/lib/python3.9/dist-packages (from shap) (2.2.1)\n",
            "Collecting slicer==0.0.7\n",
            "  Downloading slicer-0.0.7-py3-none-any.whl (14 kB)\n",
            "Requirement already satisfied: llvmlite<0.40,>=0.39.0dev0 in /usr/local/lib/python3.9/dist-packages (from numba->shap) (0.39.1)\n",
            "Requirement already satisfied: setuptools in /usr/local/lib/python3.9/dist-packages (from numba->shap) (63.4.3)\n",
            "Requirement already satisfied: python-dateutil>=2.8.1 in /usr/local/lib/python3.9/dist-packages (from pandas->shap) (2.8.2)\n",
            "Requirement already satisfied: pytz>=2020.1 in /usr/local/lib/python3.9/dist-packages (from pandas->shap) (2022.7.1)\n",
            "Requirement already satisfied: joblib>=1.1.1 in /usr/local/lib/python3.9/dist-packages (from scikit-learn->shap) (1.1.1)\n",
            "Requirement already satisfied: threadpoolctl>=2.0.0 in /usr/local/lib/python3.9/dist-packages (from scikit-learn->shap) (3.1.0)\n",
            "Requirement already satisfied: six>=1.5 in /usr/local/lib/python3.9/dist-packages (from python-dateutil>=2.8.1->pandas->shap) (1.15.0)\n",
            "Installing collected packages: slicer, shap\n",
            "Successfully installed shap-0.41.0 slicer-0.0.7\n"
          ]
        }
      ]
    },
    {
      "cell_type": "code",
      "source": [
        "pip install lime"
      ],
      "metadata": {
        "id": "tVmvUOLC_Okx",
        "colab": {
          "base_uri": "https://localhost:8080/"
        },
        "outputId": "fc6588f7-2039-46ed-9ee4-e386afa8cf47"
      },
      "execution_count": 74,
      "outputs": [
        {
          "output_type": "stream",
          "name": "stdout",
          "text": [
            "Looking in indexes: https://pypi.org/simple, https://us-python.pkg.dev/colab-wheels/public/simple/\n",
            "Collecting lime\n",
            "  Downloading lime-0.2.0.1.tar.gz (275 kB)\n",
            "\u001b[2K     \u001b[90m━━━━━━━━━━━━━━━━━━━━━━━━━━━━━━━━━━━━━━\u001b[0m \u001b[32m275.7/275.7 KB\u001b[0m \u001b[31m19.0 MB/s\u001b[0m eta \u001b[36m0:00:00\u001b[0m\n",
            "\u001b[?25h  Preparing metadata (setup.py) ... \u001b[?25l\u001b[?25hdone\n",
            "Requirement already satisfied: matplotlib in /usr/local/lib/python3.9/dist-packages (from lime) (3.7.1)\n",
            "Requirement already satisfied: numpy in /usr/local/lib/python3.9/dist-packages (from lime) (1.22.4)\n",
            "Requirement already satisfied: scipy in /usr/local/lib/python3.9/dist-packages (from lime) (1.10.1)\n",
            "Requirement already satisfied: tqdm in /usr/local/lib/python3.9/dist-packages (from lime) (4.65.0)\n",
            "Requirement already satisfied: scikit-learn>=0.18 in /usr/local/lib/python3.9/dist-packages (from lime) (1.2.2)\n",
            "Requirement already satisfied: scikit-image>=0.12 in /usr/local/lib/python3.9/dist-packages (from lime) (0.19.3)\n",
            "Requirement already satisfied: packaging>=20.0 in /usr/local/lib/python3.9/dist-packages (from scikit-image>=0.12->lime) (23.0)\n",
            "Requirement already satisfied: imageio>=2.4.1 in /usr/local/lib/python3.9/dist-packages (from scikit-image>=0.12->lime) (2.9.0)\n",
            "Requirement already satisfied: PyWavelets>=1.1.1 in /usr/local/lib/python3.9/dist-packages (from scikit-image>=0.12->lime) (1.4.1)\n",
            "Requirement already satisfied: pillow!=7.1.0,!=7.1.1,!=8.3.0,>=6.1.0 in /usr/local/lib/python3.9/dist-packages (from scikit-image>=0.12->lime) (8.4.0)\n",
            "Requirement already satisfied: tifffile>=2019.7.26 in /usr/local/lib/python3.9/dist-packages (from scikit-image>=0.12->lime) (2023.3.15)\n",
            "Requirement already satisfied: networkx>=2.2 in /usr/local/lib/python3.9/dist-packages (from scikit-image>=0.12->lime) (3.0)\n",
            "Requirement already satisfied: threadpoolctl>=2.0.0 in /usr/local/lib/python3.9/dist-packages (from scikit-learn>=0.18->lime) (3.1.0)\n",
            "Requirement already satisfied: joblib>=1.1.1 in /usr/local/lib/python3.9/dist-packages (from scikit-learn>=0.18->lime) (1.1.1)\n",
            "Requirement already satisfied: pyparsing>=2.3.1 in /usr/local/lib/python3.9/dist-packages (from matplotlib->lime) (3.0.9)\n",
            "Requirement already satisfied: importlib-resources>=3.2.0 in /usr/local/lib/python3.9/dist-packages (from matplotlib->lime) (5.12.0)\n",
            "Requirement already satisfied: python-dateutil>=2.7 in /usr/local/lib/python3.9/dist-packages (from matplotlib->lime) (2.8.2)\n",
            "Requirement already satisfied: fonttools>=4.22.0 in /usr/local/lib/python3.9/dist-packages (from matplotlib->lime) (4.39.0)\n",
            "Requirement already satisfied: kiwisolver>=1.0.1 in /usr/local/lib/python3.9/dist-packages (from matplotlib->lime) (1.4.4)\n",
            "Requirement already satisfied: contourpy>=1.0.1 in /usr/local/lib/python3.9/dist-packages (from matplotlib->lime) (1.0.7)\n",
            "Requirement already satisfied: cycler>=0.10 in /usr/local/lib/python3.9/dist-packages (from matplotlib->lime) (0.11.0)\n",
            "Requirement already satisfied: zipp>=3.1.0 in /usr/local/lib/python3.9/dist-packages (from importlib-resources>=3.2.0->matplotlib->lime) (3.15.0)\n",
            "Requirement already satisfied: six>=1.5 in /usr/local/lib/python3.9/dist-packages (from python-dateutil>=2.7->matplotlib->lime) (1.15.0)\n",
            "Building wheels for collected packages: lime\n",
            "  Building wheel for lime (setup.py) ... \u001b[?25l\u001b[?25hdone\n",
            "  Created wheel for lime: filename=lime-0.2.0.1-py3-none-any.whl size=283859 sha256=ce2c796416a9a5d1c1d702efab40babbfde78bdd1e2a292af49e82a8f555c413\n",
            "  Stored in directory: /root/.cache/pip/wheels/ed/d7/c9/5a0130d06d6310bc6cbe55220e6e72dcb8c4eff9a478717066\n",
            "Successfully built lime\n",
            "Installing collected packages: lime\n",
            "Successfully installed lime-0.2.0.1\n"
          ]
        }
      ]
    },
    {
      "cell_type": "markdown",
      "source": [
        "# **SHAP and LIME**"
      ],
      "metadata": {
        "id": "5HImvUoYa5q2"
      }
    },
    {
      "cell_type": "code",
      "source": [
        "import pandas as pd\n",
        "import numpy as np\n",
        "from sklearn.linear_model import LinearRegression\n",
        "from sklearn.model_selection import train_test_split\n",
        "import shap\n",
        "import lime\n",
        "import lime.lime_tabular\n",
        "\n",
        "# load the Rossman dataset\n",
        "data = pd.read_csv(\"/content/cleandata.csv\", low_memory=False)\n",
        "\n",
        "# convert the 'Date' column to datetime format\n",
        "data['Date'] = pd.to_datetime(data['Date'])\n",
        "\n",
        "# extract year, month, and day of week from 'Date' column\n",
        "data['Year'] = data['Date'].dt.year\n",
        "data['Month'] = data['Date'].dt.month\n",
        "data['DayOfWeek'] = data['Date'].dt.dayofweek\n",
        "\n",
        "# select relevant features\n",
        "features = ['Store', 'DayOfWeek', 'Promo', 'StateHoliday', 'SchoolHoliday', 'Year', 'Month']\n",
        "\n",
        "\n",
        "\n",
        "# split the dataset into training and test sets\n",
        "X_train, X_test, y_train, y_test = train_test_split(data[features], data['Sales'], test_size=0.2, random_state=42)\n",
        "\n",
        "# create a linear regression model\n",
        "model = LinearRegression()\n",
        "\n",
        "# train the model on the training set\n",
        "model.fit(X_train, y_train)\n",
        "\n",
        "# create a SHAP explainer object\n",
        "explainer = shap.LinearExplainer(model, X_train, feature_dependence=\"independent\")\n",
        "\n",
        "# calculate SHAP values for the test set\n",
        "shap_values = explainer.shap_values(X_test)\n",
        "\n",
        "# plot the SHAP values for the first feature of the first test instance\n",
        "shap.summary_plot(shap_values, X_test, feature_names=X_test.columns)\n",
        "\n",
        "# create a LIME explainer object\n",
        "explainer = lime.lime_tabular.LimeTabularExplainer(X_train.values, feature_names=X_train.columns, class_names=['Sales'], mode='regression')\n",
        "\n",
        "# explain the prediction for the first test instance using LIME\n",
        "exp = explainer.explain_instance(X_test.values[0], model.predict, num_features=4)\n",
        "\n",
        "# print the LIME explanation\n",
        "print(exp.as_list())\n"
      ],
      "metadata": {
        "id": "NQRd6szb-NOK",
        "colab": {
          "base_uri": "https://localhost:8080/",
          "height": 428
        },
        "outputId": "0ba0428c-b972-4830-82cb-c9a5234ce967"
      },
      "execution_count": 75,
      "outputs": [
        {
          "output_type": "stream",
          "name": "stderr",
          "text": [
            "The option feature_dependence has been renamed to feature_perturbation!\n",
            "The option feature_perturbation=\"independent\" is has been renamed to feature_perturbation=\"interventional\"!\n",
            "The feature_perturbation option is now deprecated in favor of using the appropriate masker (maskers.Independent, or maskers.Impute)\n",
            "No data for colormapping provided via 'c'. Parameters 'vmin', 'vmax' will be ignored\n"
          ]
        },
        {
          "output_type": "display_data",
          "data": {
            "text/plain": [
              "<Figure size 576x309.6 with 2 Axes>"
            ],
            "image/png": "[encoded data removed]"
          },
          "metadata": {}
        },
        {
          "output_type": "stream",
          "name": "stdout",
          "text": [
            "[('2013.00 < Year <= 2014.00', 267664.77779304836), ('StateHoliday <= 0.00', 71409.39329074798), ('Promo <= 0.00', 8846.703284982299), ('DayOfWeek > 4.00', 5222.197706454304)]\n"
          ]
        },
        {
          "output_type": "stream",
          "name": "stderr",
          "text": [
            "X does not have valid feature names, but LinearRegression was fitted with feature names\n"
          ]
        }
      ]
    },
    {
      "cell_type": "markdown",
      "source": [
        "# **LASSO**"
      ],
      "metadata": {
        "id": "GUQ1h8QCdF8U"
      }
    },
    {
      "cell_type": "code",
      "source": [
        "from sklearn.model_selection import cross_val_score\n",
        "L1 = Lasso(alpha = 0.4, max_iter=10000,selection='cyclic', tol=0.0001,)"
      ],
      "metadata": {
        "id": "5Ohta52EctnJ"
      },
      "execution_count": 76,
      "outputs": []
    },
    {
      "cell_type": "code",
      "source": [
        "L1.fit(X_train, y_train)"
      ],
      "metadata": {
        "id": "Ptiv05qAct1E",
        "colab": {
          "base_uri": "https://localhost:8080/",
          "height": 75
        },
        "outputId": "9e4221bc-0257-4701-d8bc-c8e4df4c7c89"
      },
      "execution_count": 77,
      "outputs": [
        {
          "output_type": "execute_result",
          "data": {
            "text/plain": [
              "Lasso(alpha=0.4, max_iter=10000)"
            ],
            "text/html": [
              "<style>#sk-container-id-1 {color: black;background-color: white;}#sk-container-id-1 pre{padding: 0;}#sk-container-id-1 div.sk-toggleable {background-color: white;}#sk-container-id-1 label.sk-toggleable__label {cursor: pointer;display: block;width: 100%;margin-bottom: 0;padding: 0.3em;box-sizing: border-box;text-align: center;}#sk-container-id-1 label.sk-toggleable__label-arrow:before {content: \"▸\";float: left;margin-right: 0.25em;color: #696969;}#sk-container-id-1 label.sk-toggleable__label-arrow:hover:before {color: black;}#sk-container-id-1 div.sk-estimator:hover label.sk-toggleable__label-arrow:before {color: black;}#sk-container-id-1 div.sk-toggleable__content {max-height: 0;max-width: 0;overflow: hidden;text-align: left;background-color: #f0f8ff;}#sk-container-id-1 div.sk-toggleable__content pre {margin: 0.2em;color: black;border-radius: 0.25em;background-color: #f0f8ff;}#sk-container-id-1 input.sk-toggleable__control:checked~div.sk-toggleable__content {max-height: 200px;max-width: 100%;overflow: auto;}#sk-container-id-1 input.sk-toggleable__control:checked~label.sk-toggleable__label-arrow:before {content: \"▾\";}#sk-container-id-1 div.sk-estimator input.sk-toggleable__control:checked~label.sk-toggleable__label {background-color: #d4ebff;}#sk-container-id-1 div.sk-label input.sk-toggleable__control:checked~label.sk-toggleable__label {background-color: #d4ebff;}#sk-container-id-1 input.sk-hidden--visually {border: 0;clip: rect(1px 1px 1px 1px);clip: rect(1px, 1px, 1px, 1px);height: 1px;margin: -1px;overflow: hidden;padding: 0;position: absolute;width: 1px;}#sk-container-id-1 div.sk-estimator {font-family: monospace;background-color: #f0f8ff;border: 1px dotted black;border-radius: 0.25em;box-sizing: border-box;margin-bottom: 0.5em;}#sk-container-id-1 div.sk-estimator:hover {background-color: #d4ebff;}#sk-container-id-1 div.sk-parallel-item::after {content: \"\";width: 100%;border-bottom: 1px solid gray;flex-grow: 1;}#sk-container-id-1 div.sk-label:hover label.sk-toggleable__label {background-color: #d4ebff;}#sk-container-id-1 div.sk-serial::before {content: \"\";position: absolute;border-left: 1px solid gray;box-sizing: border-box;top: 0;bottom: 0;left: 50%;z-index: 0;}#sk-container-id-1 div.sk-serial {display: flex;flex-direction: column;align-items: center;background-color: white;padding-right: 0.2em;padding-left: 0.2em;position: relative;}#sk-container-id-1 div.sk-item {position: relative;z-index: 1;}#sk-container-id-1 div.sk-parallel {display: flex;align-items: stretch;justify-content: center;background-color: white;position: relative;}#sk-container-id-1 div.sk-item::before, #sk-container-id-1 div.sk-parallel-item::before {content: \"\";position: absolute;border-left: 1px solid gray;box-sizing: border-box;top: 0;bottom: 0;left: 50%;z-index: -1;}#sk-container-id-1 div.sk-parallel-item {display: flex;flex-direction: column;z-index: 1;position: relative;background-color: white;}#sk-container-id-1 div.sk-parallel-item:first-child::after {align-self: flex-end;width: 50%;}#sk-container-id-1 div.sk-parallel-item:last-child::after {align-self: flex-start;width: 50%;}#sk-container-id-1 div.sk-parallel-item:only-child::after {width: 0;}#sk-container-id-1 div.sk-dashed-wrapped {border: 1px dashed gray;margin: 0 0.4em 0.5em 0.4em;box-sizing: border-box;padding-bottom: 0.4em;background-color: white;}#sk-container-id-1 div.sk-label label {font-family: monospace;font-weight: bold;display: inline-block;line-height: 1.2em;}#sk-container-id-1 div.sk-label-container {text-align: center;}#sk-container-id-1 div.sk-container {/* jupyter's `normalize.less` sets `[hidden] { display: none; }` but bootstrap.min.css set `[hidden] { display: none !important; }` so we also need the `!important` here to be able to override the default hidden behavior on the sphinx rendered scikit-learn.org. See: https://github.com/scikit-learn/scikit-learn/issues/21755 */display: inline-block !important;position: relative;}#sk-container-id-1 div.sk-text-repr-fallback {display: none;}</style><div id=\"sk-container-id-1\" class=\"sk-top-container\"><div class=\"sk-text-repr-fallback\"><pre>Lasso(alpha=0.4, max_iter=10000)</pre><b>In a Jupyter environment, please rerun this cell to show the HTML representation or trust the notebook. <br />On GitHub, the HTML representation is unable to render, please try loading this page with nbviewer.org.</b></div><div class=\"sk-container\" hidden><div class=\"sk-item\"><div class=\"sk-estimator sk-toggleable\"><input class=\"sk-toggleable__control sk-hidden--visually\" id=\"sk-estimator-id-1\" type=\"checkbox\" checked><label for=\"sk-estimator-id-1\" class=\"sk-toggleable__label sk-toggleable__label-arrow\">Lasso</label><div class=\"sk-toggleable__content\"><pre>Lasso(alpha=0.4, max_iter=10000)</pre></div></div></div></div></div>"
            ]
          },
          "metadata": {},
          "execution_count": 77
        }
      ]
    },
    {
      "cell_type": "code",
      "source": [
        "y_pred_lasso = L1.predict(X_test)"
      ],
      "metadata": {
        "id": "eXpBRpkqeCxa"
      },
      "execution_count": 78,
      "outputs": []
    },
    {
      "cell_type": "code",
      "source": [
        "L1.score(X_test, y_test)"
      ],
      "metadata": {
        "id": "yScYw4LceD-0",
        "colab": {
          "base_uri": "https://localhost:8080/"
        },
        "outputId": "42bdbeb3-6347-40f9-aa19-1a62c67021bc"
      },
      "execution_count": 79,
      "outputs": [
        {
          "output_type": "execute_result",
          "data": {
            "text/plain": [
              "0.14929180103281825"
            ]
          },
          "metadata": {},
          "execution_count": 79
        }
      ]
    },
    {
      "cell_type": "code",
      "source": [
        "cv_scores = cross_val_score(L1, X, y, cv=10)\n",
        "mean_cv_score = cv_scores.mean()"
      ],
      "metadata": {
        "id": "DWmVX8aGhXjF"
      },
      "execution_count": 80,
      "outputs": []
    },
    {
      "cell_type": "code",
      "source": [
        "cv_scores"
      ],
      "metadata": {
        "id": "XzClU0cmiIED",
        "colab": {
          "base_uri": "https://localhost:8080/"
        },
        "outputId": "fb37c4ac-3c00-4013-e04b-d198d94e7c3a"
      },
      "execution_count": 81,
      "outputs": [
        {
          "output_type": "execute_result",
          "data": {
            "text/plain": [
              "array([0.73075467, 0.74886334, 0.760761  , 0.75799899, 0.75829695,\n",
              "       0.76481454, 0.76725115, 0.75273622, 0.7581241 , 0.78478933])"
            ]
          },
          "metadata": {},
          "execution_count": 81
        }
      ]
    },
    {
      "cell_type": "code",
      "source": [
        "mean_cv_score"
      ],
      "metadata": {
        "id": "E1UrPY8Nip8P",
        "colab": {
          "base_uri": "https://localhost:8080/"
        },
        "outputId": "628056b7-fdf0-46c0-9f58-f8c0d29dd1cd"
      },
      "execution_count": 82,
      "outputs": [
        {
          "output_type": "execute_result",
          "data": {
            "text/plain": [
              "0.7584390301539468"
            ]
          },
          "metadata": {},
          "execution_count": 82
        }
      ]
    },
    {
      "cell_type": "code",
      "source": [
        "from sklearn.model_selection import GridSearchCV, cross_val_score\n",
        "# define the range of alpha values to test\n",
        "parameters = {'alpha': [0.1, 0.2, 0.3, 0.4, 0.5]}\n",
        "\n",
        "# perform grid search to find the best alpha value\n",
        "lasso_cv = GridSearchCV(L1, parameters, cv=5)\n",
        "lasso_cv.fit(X, y)\n",
        "\n"
      ],
      "metadata": {
        "id": "nzUdTGIHkFBJ",
        "colab": {
          "base_uri": "https://localhost:8080/",
          "height": 117
        },
        "outputId": "e2d14c3a-da55-48f8-f5cf-61a7a72f805a"
      },
      "execution_count": 83,
      "outputs": [
        {
          "output_type": "execute_result",
          "data": {
            "text/plain": [
              "GridSearchCV(cv=5, estimator=Lasso(alpha=0.4, max_iter=10000),\n",
              "             param_grid={'alpha': [0.1, 0.2, 0.3, 0.4, 0.5]})"
            ],
            "text/html": [
              "<style>#sk-container-id-2 {color: black;background-color: white;}#sk-container-id-2 pre{padding: 0;}#sk-container-id-2 div.sk-toggleable {background-color: white;}#sk-container-id-2 label.sk-toggleable__label {cursor: pointer;display: block;width: 100%;margin-bottom: 0;padding: 0.3em;box-sizing: border-box;text-align: center;}#sk-container-id-2 label.sk-toggleable__label-arrow:before {content: \"▸\";float: left;margin-right: 0.25em;color: #696969;}#sk-container-id-2 label.sk-toggleable__label-arrow:hover:before {color: black;}#sk-container-id-2 div.sk-estimator:hover label.sk-toggleable__label-arrow:before {color: black;}#sk-container-id-2 div.sk-toggleable__content {max-height: 0;max-width: 0;overflow: hidden;text-align: left;background-color: #f0f8ff;}#sk-container-id-2 div.sk-toggleable__content pre {margin: 0.2em;color: black;border-radius: 0.25em;background-color: #f0f8ff;}#sk-container-id-2 input.sk-toggleable__control:checked~div.sk-toggleable__content {max-height: 200px;max-width: 100%;overflow: auto;}#sk-container-id-2 input.sk-toggleable__control:checked~label.sk-toggleable__label-arrow:before {content: \"▾\";}#sk-container-id-2 div.sk-estimator input.sk-toggleable__control:checked~label.sk-toggleable__label {background-color: #d4ebff;}#sk-container-id-2 div.sk-label input.sk-toggleable__control:checked~label.sk-toggleable__label {background-color: #d4ebff;}#sk-container-id-2 input.sk-hidden--visually {border: 0;clip: rect(1px 1px 1px 1px);clip: rect(1px, 1px, 1px, 1px);height: 1px;margin: -1px;overflow: hidden;padding: 0;position: absolute;width: 1px;}#sk-container-id-2 div.sk-estimator {font-family: monospace;background-color: #f0f8ff;border: 1px dotted black;border-radius: 0.25em;box-sizing: border-box;margin-bottom: 0.5em;}#sk-container-id-2 div.sk-estimator:hover {background-color: #d4ebff;}#sk-container-id-2 div.sk-parallel-item::after {content: \"\";width: 100%;border-bottom: 1px solid gray;flex-grow: 1;}#sk-container-id-2 div.sk-label:hover label.sk-toggleable__label {background-color: #d4ebff;}#sk-container-id-2 div.sk-serial::before {content: \"\";position: absolute;border-left: 1px solid gray;box-sizing: border-box;top: 0;bottom: 0;left: 50%;z-index: 0;}#sk-container-id-2 div.sk-serial {display: flex;flex-direction: column;align-items: center;background-color: white;padding-right: 0.2em;padding-left: 0.2em;position: relative;}#sk-container-id-2 div.sk-item {position: relative;z-index: 1;}#sk-container-id-2 div.sk-parallel {display: flex;align-items: stretch;justify-content: center;background-color: white;position: relative;}#sk-container-id-2 div.sk-item::before, #sk-container-id-2 div.sk-parallel-item::before {content: \"\";position: absolute;border-left: 1px solid gray;box-sizing: border-box;top: 0;bottom: 0;left: 50%;z-index: -1;}#sk-container-id-2 div.sk-parallel-item {display: flex;flex-direction: column;z-index: 1;position: relative;background-color: white;}#sk-container-id-2 div.sk-parallel-item:first-child::after {align-self: flex-end;width: 50%;}#sk-container-id-2 div.sk-parallel-item:last-child::after {align-self: flex-start;width: 50%;}#sk-container-id-2 div.sk-parallel-item:only-child::after {width: 0;}#sk-container-id-2 div.sk-dashed-wrapped {border: 1px dashed gray;margin: 0 0.4em 0.5em 0.4em;box-sizing: border-box;padding-bottom: 0.4em;background-color: white;}#sk-container-id-2 div.sk-label label {font-family: monospace;font-weight: bold;display: inline-block;line-height: 1.2em;}#sk-container-id-2 div.sk-label-container {text-align: center;}#sk-container-id-2 div.sk-container {/* jupyter's `normalize.less` sets `[hidden] { display: none; }` but bootstrap.min.css set `[hidden] { display: none !important; }` so we also need the `!important` here to be able to override the default hidden behavior on the sphinx rendered scikit-learn.org. See: https://github.com/scikit-learn/scikit-learn/issues/21755 */display: inline-block !important;position: relative;}#sk-container-id-2 div.sk-text-repr-fallback {display: none;}</style><div id=\"sk-container-id-2\" class=\"sk-top-container\"><div class=\"sk-text-repr-fallback\"><pre>GridSearchCV(cv=5, estimator=Lasso(alpha=0.4, max_iter=10000),\n",
              "             param_grid={&#x27;alpha&#x27;: [0.1, 0.2, 0.3, 0.4, 0.5]})</pre><b>In a Jupyter environment, please rerun this cell to show the HTML representation or trust the notebook. <br />On GitHub, the HTML representation is unable to render, please try loading this page with nbviewer.org.</b></div><div class=\"sk-container\" hidden><div class=\"sk-item sk-dashed-wrapped\"><div class=\"sk-label-container\"><div class=\"sk-label sk-toggleable\"><input class=\"sk-toggleable__control sk-hidden--visually\" id=\"sk-estimator-id-2\" type=\"checkbox\" ><label for=\"sk-estimator-id-2\" class=\"sk-toggleable__label sk-toggleable__label-arrow\">GridSearchCV</label><div class=\"sk-toggleable__content\"><pre>GridSearchCV(cv=5, estimator=Lasso(alpha=0.4, max_iter=10000),\n",
              "             param_grid={&#x27;alpha&#x27;: [0.1, 0.2, 0.3, 0.4, 0.5]})</pre></div></div></div><div class=\"sk-parallel\"><div class=\"sk-parallel-item\"><div class=\"sk-item\"><div class=\"sk-label-container\"><div class=\"sk-label sk-toggleable\"><input class=\"sk-toggleable__control sk-hidden--visually\" id=\"sk-estimator-id-3\" type=\"checkbox\" ><label for=\"sk-estimator-id-3\" class=\"sk-toggleable__label sk-toggleable__label-arrow\">estimator: Lasso</label><div class=\"sk-toggleable__content\"><pre>Lasso(alpha=0.4, max_iter=10000)</pre></div></div></div><div class=\"sk-serial\"><div class=\"sk-item\"><div class=\"sk-estimator sk-toggleable\"><input class=\"sk-toggleable__control sk-hidden--visually\" id=\"sk-estimator-id-4\" type=\"checkbox\" ><label for=\"sk-estimator-id-4\" class=\"sk-toggleable__label sk-toggleable__label-arrow\">Lasso</label><div class=\"sk-toggleable__content\"><pre>Lasso(alpha=0.4, max_iter=10000)</pre></div></div></div></div></div></div></div></div></div></div>"
            ]
          },
          "metadata": {},
          "execution_count": 83
        }
      ]
    },
    {
      "cell_type": "code",
      "source": [
        "# extract the best alpha value and corresponding score\n",
        "best_alpha_lasso = lasso_cv.best_params_['alpha']\n",
        "best_score_lasso= lasso_cv.best_score_"
      ],
      "metadata": {
        "id": "6_bvHPY2lDwE"
      },
      "execution_count": 84,
      "outputs": []
    },
    {
      "cell_type": "code",
      "source": [
        "best_alpha_lasso"
      ],
      "metadata": {
        "id": "ju3jqxonlpaY",
        "colab": {
          "base_uri": "https://localhost:8080/"
        },
        "outputId": "131327ed-0b56-40b1-fce6-336c35966e68"
      },
      "execution_count": 85,
      "outputs": [
        {
          "output_type": "execute_result",
          "data": {
            "text/plain": [
              "0.2"
            ]
          },
          "metadata": {},
          "execution_count": 85
        }
      ]
    },
    {
      "cell_type": "code",
      "source": [
        "best_score_lasso"
      ],
      "metadata": {
        "id": "Xc_nVw1Rl6ej",
        "colab": {
          "base_uri": "https://localhost:8080/"
        },
        "outputId": "5a8fd994-e5a4-4508-a683-c9e1cfd58b7b"
      },
      "execution_count": 86,
      "outputs": [
        {
          "output_type": "execute_result",
          "data": {
            "text/plain": [
              "0.7605720937492583"
            ]
          },
          "metadata": {},
          "execution_count": 86
        }
      ]
    },
    {
      "cell_type": "code",
      "source": [
        "pd.DataFrame(zip(y_test, y_pred_lasso), columns = ['actual', 'pred'])"
      ],
      "metadata": {
        "id": "I-kpT64teEbP",
        "colab": {
          "base_uri": "https://localhost:8080/",
          "height": 424
        },
        "outputId": "66137c7a-be33-4870-913f-e6136deff14a"
      },
      "execution_count": 87,
      "outputs": [
        {
          "output_type": "execute_result",
          "data": {
            "text/plain": [
              "        actual         pred\n",
              "0         5203  5829.289727\n",
              "1         8590  7794.671860\n",
              "2         6465  6414.968598\n",
              "3         7250  6251.958715\n",
              "4         4339  6015.521967\n",
              "...        ...          ...\n",
              "168874   10096  8312.337646\n",
              "168875   12400  7972.321137\n",
              "168876    7499  5301.836078\n",
              "168877   11606  7865.971445\n",
              "168878   17389  5959.290775\n",
              "\n",
              "[168879 rows x 2 columns]"
            ],
            "text/html": [
              "\n",
              "  <div id=\"df-53782d9f-0a18-4c22-926a-8c82ce2161a1\">\n",
              "    <div class=\"colab-df-container\">\n",
              "      <div>\n",
              "<style scoped>\n",
              "    .dataframe tbody tr th:only-of-type {\n",
              "        vertical-align: middle;\n",
              "    }\n",
              "\n",
              "    .dataframe tbody tr th {\n",
              "        vertical-align: top;\n",
              "    }\n",
              "\n",
              "    .dataframe thead th {\n",
              "        text-align: right;\n",
              "    }\n",
              "</style>\n",
              "<table border=\"1\" class=\"dataframe\">\n",
              "  <thead>\n",
              "    <tr style=\"text-align: right;\">\n",
              "      <th></th>\n",
              "      <th>actual</th>\n",
              "      <th>pred</th>\n",
              "    </tr>\n",
              "  </thead>\n",
              "  <tbody>\n",
              "    <tr>\n",
              "      <th>0</th>\n",
              "      <td>5203</td>\n",
              "      <td>5829.289727</td>\n",
              "    </tr>\n",
              "    <tr>\n",
              "      <th>1</th>\n",
              "      <td>8590</td>\n",
              "      <td>7794.671860</td>\n",
              "    </tr>\n",
              "    <tr>\n",
              "      <th>2</th>\n",
              "      <td>6465</td>\n",
              "      <td>6414.968598</td>\n",
              "    </tr>\n",
              "    <tr>\n",
              "      <th>3</th>\n",
              "      <td>7250</td>\n",
              "      <td>6251.958715</td>\n",
              "    </tr>\n",
              "    <tr>\n",
              "      <th>4</th>\n",
              "      <td>4339</td>\n",
              "      <td>6015.521967</td>\n",
              "    </tr>\n",
              "    <tr>\n",
              "      <th>...</th>\n",
              "      <td>...</td>\n",
              "      <td>...</td>\n",
              "    </tr>\n",
              "    <tr>\n",
              "      <th>168874</th>\n",
              "      <td>10096</td>\n",
              "      <td>8312.337646</td>\n",
              "    </tr>\n",
              "    <tr>\n",
              "      <th>168875</th>\n",
              "      <td>12400</td>\n",
              "      <td>7972.321137</td>\n",
              "    </tr>\n",
              "    <tr>\n",
              "      <th>168876</th>\n",
              "      <td>7499</td>\n",
              "      <td>5301.836078</td>\n",
              "    </tr>\n",
              "    <tr>\n",
              "      <th>168877</th>\n",
              "      <td>11606</td>\n",
              "      <td>7865.971445</td>\n",
              "    </tr>\n",
              "    <tr>\n",
              "      <th>168878</th>\n",
              "      <td>17389</td>\n",
              "      <td>5959.290775</td>\n",
              "    </tr>\n",
              "  </tbody>\n",
              "</table>\n",
              "<p>168879 rows × 2 columns</p>\n",
              "</div>\n",
              "      <button class=\"colab-df-convert\" onclick=\"convertToInteractive('df-53782d9f-0a18-4c22-926a-8c82ce2161a1')\"\n",
              "              title=\"Convert this dataframe to an interactive table.\"\n",
              "              style=\"display:none;\">\n",
              "        \n",
              "  <svg xmlns=\"http://www.w3.org/2000/svg\" height=\"24px\"viewBox=\"0 0 24 24\"\n",
              "       width=\"24px\">\n",
              "    <path d=\"M0 0h24v24H0V0z\" fill=\"none\"/>\n",
              "    <path d=\"M18.56 5.44l.94 2.06.94-2.06 2.06-.94-2.06-.94-.94-2.06-.94 2.06-2.06.94zm-11 1L8.5 8.5l.94-2.06 2.06-.94-2.06-.94L8.5 2.5l-.94 2.06-2.06.94zm10 10l.94 2.06.94-2.06 2.06-.94-2.06-.94-.94-2.06-.94 2.06-2.06.94z\"/><path d=\"M17.41 7.96l-1.37-1.37c-.4-.4-.92-.59-1.43-.59-.52 0-1.04.2-1.43.59L10.3 9.45l-7.72 7.72c-.78.78-.78 2.05 0 2.83L4 21.41c.39.39.9.59 1.41.59.51 0 1.02-.2 1.41-.59l7.78-7.78 2.81-2.81c.8-.78.8-2.07 0-2.86zM5.41 20L4 18.59l7.72-7.72 1.47 1.35L5.41 20z\"/>\n",
              "  </svg>\n",
              "      </button>\n",
              "      \n",
              "  <style>\n",
              "    .colab-df-container {\n",
              "      display:flex;\n",
              "      flex-wrap:wrap;\n",
              "      gap: 12px;\n",
              "    }\n",
              "\n",
              "    .colab-df-convert {\n",
              "      background-color: #E8F0FE;\n",
              "      border: none;\n",
              "      border-radius: 50%;\n",
              "      cursor: pointer;\n",
              "      display: none;\n",
              "      fill: #1967D2;\n",
              "      height: 32px;\n",
              "      padding: 0 0 0 0;\n",
              "      width: 32px;\n",
              "    }\n",
              "\n",
              "    .colab-df-convert:hover {\n",
              "      background-color: #E2EBFA;\n",
              "      box-shadow: 0px 1px 2px rgba(60, 64, 67, 0.3), 0px 1px 3px 1px rgba(60, 64, 67, 0.15);\n",
              "      fill: #174EA6;\n",
              "    }\n",
              "\n",
              "    [theme=dark] .colab-df-convert {\n",
              "      background-color: #3B4455;\n",
              "      fill: #D2E3FC;\n",
              "    }\n",
              "\n",
              "    [theme=dark] .colab-df-convert:hover {\n",
              "      background-color: #434B5C;\n",
              "      box-shadow: 0px 1px 3px 1px rgba(0, 0, 0, 0.15);\n",
              "      filter: drop-shadow(0px 1px 2px rgba(0, 0, 0, 0.3));\n",
              "      fill: #FFFFFF;\n",
              "    }\n",
              "  </style>\n",
              "\n",
              "      <script>\n",
              "        const buttonEl =\n",
              "          document.querySelector('#df-53782d9f-0a18-4c22-926a-8c82ce2161a1 button.colab-df-convert');\n",
              "        buttonEl.style.display =\n",
              "          google.colab.kernel.accessAllowed ? 'block' : 'none';\n",
              "\n",
              "        async function convertToInteractive(key) {\n",
              "          const element = document.querySelector('#df-53782d9f-0a18-4c22-926a-8c82ce2161a1');\n",
              "          const dataTable =\n",
              "            await google.colab.kernel.invokeFunction('convertToInteractive',\n",
              "                                                     [key], {});\n",
              "          if (!dataTable) return;\n",
              "\n",
              "          const docLinkHtml = 'Like what you see? Visit the ' +\n",
              "            '<a target=\"_blank\" href=https://colab.research.google.com/notebooks/data_table.ipynb>data table notebook</a>'\n",
              "            + ' to learn more about interactive tables.';\n",
              "          element.innerHTML = '';\n",
              "          dataTable['output_type'] = 'display_data';\n",
              "          await google.colab.output.renderOutput(dataTable, element);\n",
              "          const docLink = document.createElement('div');\n",
              "          docLink.innerHTML = docLinkHtml;\n",
              "          element.appendChild(docLink);\n",
              "        }\n",
              "      </script>\n",
              "    </div>\n",
              "  </div>\n",
              "  "
            ]
          },
          "metadata": {},
          "execution_count": 87
        }
      ]
    },
    {
      "cell_type": "markdown",
      "source": [
        "**Ridge**"
      ],
      "metadata": {
        "id": "yZAyq-SnjTHd"
      }
    },
    {
      "cell_type": "code",
      "source": [
        "L2 = Ridge(alpha = 0.5)"
      ],
      "metadata": {
        "id": "7cSBzT6ReEhO"
      },
      "execution_count": 88,
      "outputs": []
    },
    {
      "cell_type": "code",
      "source": [
        "L2.fit(X_train, y_train)"
      ],
      "metadata": {
        "id": "FJ_2lFTteFCO",
        "colab": {
          "base_uri": "https://localhost:8080/",
          "height": 75
        },
        "outputId": "82270c66-4838-48e7-a48c-3d871daed81f"
      },
      "execution_count": 89,
      "outputs": [
        {
          "output_type": "execute_result",
          "data": {
            "text/plain": [
              "Ridge(alpha=0.5)"
            ],
            "text/html": [
              "<style>#sk-container-id-3 {color: black;background-color: white;}#sk-container-id-3 pre{padding: 0;}#sk-container-id-3 div.sk-toggleable {background-color: white;}#sk-container-id-3 label.sk-toggleable__label {cursor: pointer;display: block;width: 100%;margin-bottom: 0;padding: 0.3em;box-sizing: border-box;text-align: center;}#sk-container-id-3 label.sk-toggleable__label-arrow:before {content: \"▸\";float: left;margin-right: 0.25em;color: #696969;}#sk-container-id-3 label.sk-toggleable__label-arrow:hover:before {color: black;}#sk-container-id-3 div.sk-estimator:hover label.sk-toggleable__label-arrow:before {color: black;}#sk-container-id-3 div.sk-toggleable__content {max-height: 0;max-width: 0;overflow: hidden;text-align: left;background-color: #f0f8ff;}#sk-container-id-3 div.sk-toggleable__content pre {margin: 0.2em;color: black;border-radius: 0.25em;background-color: #f0f8ff;}#sk-container-id-3 input.sk-toggleable__control:checked~div.sk-toggleable__content {max-height: 200px;max-width: 100%;overflow: auto;}#sk-container-id-3 input.sk-toggleable__control:checked~label.sk-toggleable__label-arrow:before {content: \"▾\";}#sk-container-id-3 div.sk-estimator input.sk-toggleable__control:checked~label.sk-toggleable__label {background-color: #d4ebff;}#sk-container-id-3 div.sk-label input.sk-toggleable__control:checked~label.sk-toggleable__label {background-color: #d4ebff;}#sk-container-id-3 input.sk-hidden--visually {border: 0;clip: rect(1px 1px 1px 1px);clip: rect(1px, 1px, 1px, 1px);height: 1px;margin: -1px;overflow: hidden;padding: 0;position: absolute;width: 1px;}#sk-container-id-3 div.sk-estimator {font-family: monospace;background-color: #f0f8ff;border: 1px dotted black;border-radius: 0.25em;box-sizing: border-box;margin-bottom: 0.5em;}#sk-container-id-3 div.sk-estimator:hover {background-color: #d4ebff;}#sk-container-id-3 div.sk-parallel-item::after {content: \"\";width: 100%;border-bottom: 1px solid gray;flex-grow: 1;}#sk-container-id-3 div.sk-label:hover label.sk-toggleable__label {background-color: #d4ebff;}#sk-container-id-3 div.sk-serial::before {content: \"\";position: absolute;border-left: 1px solid gray;box-sizing: border-box;top: 0;bottom: 0;left: 50%;z-index: 0;}#sk-container-id-3 div.sk-serial {display: flex;flex-direction: column;align-items: center;background-color: white;padding-right: 0.2em;padding-left: 0.2em;position: relative;}#sk-container-id-3 div.sk-item {position: relative;z-index: 1;}#sk-container-id-3 div.sk-parallel {display: flex;align-items: stretch;justify-content: center;background-color: white;position: relative;}#sk-container-id-3 div.sk-item::before, #sk-container-id-3 div.sk-parallel-item::before {content: \"\";position: absolute;border-left: 1px solid gray;box-sizing: border-box;top: 0;bottom: 0;left: 50%;z-index: -1;}#sk-container-id-3 div.sk-parallel-item {display: flex;flex-direction: column;z-index: 1;position: relative;background-color: white;}#sk-container-id-3 div.sk-parallel-item:first-child::after {align-self: flex-end;width: 50%;}#sk-container-id-3 div.sk-parallel-item:last-child::after {align-self: flex-start;width: 50%;}#sk-container-id-3 div.sk-parallel-item:only-child::after {width: 0;}#sk-container-id-3 div.sk-dashed-wrapped {border: 1px dashed gray;margin: 0 0.4em 0.5em 0.4em;box-sizing: border-box;padding-bottom: 0.4em;background-color: white;}#sk-container-id-3 div.sk-label label {font-family: monospace;font-weight: bold;display: inline-block;line-height: 1.2em;}#sk-container-id-3 div.sk-label-container {text-align: center;}#sk-container-id-3 div.sk-container {/* jupyter's `normalize.less` sets `[hidden] { display: none; }` but bootstrap.min.css set `[hidden] { display: none !important; }` so we also need the `!important` here to be able to override the default hidden behavior on the sphinx rendered scikit-learn.org. See: https://github.com/scikit-learn/scikit-learn/issues/21755 */display: inline-block !important;position: relative;}#sk-container-id-3 div.sk-text-repr-fallback {display: none;}</style><div id=\"sk-container-id-3\" class=\"sk-top-container\"><div class=\"sk-text-repr-fallback\"><pre>Ridge(alpha=0.5)</pre><b>In a Jupyter environment, please rerun this cell to show the HTML representation or trust the notebook. <br />On GitHub, the HTML representation is unable to render, please try loading this page with nbviewer.org.</b></div><div class=\"sk-container\" hidden><div class=\"sk-item\"><div class=\"sk-estimator sk-toggleable\"><input class=\"sk-toggleable__control sk-hidden--visually\" id=\"sk-estimator-id-5\" type=\"checkbox\" checked><label for=\"sk-estimator-id-5\" class=\"sk-toggleable__label sk-toggleable__label-arrow\">Ridge</label><div class=\"sk-toggleable__content\"><pre>Ridge(alpha=0.5)</pre></div></div></div></div></div>"
            ]
          },
          "metadata": {},
          "execution_count": 89
        }
      ]
    },
    {
      "cell_type": "code",
      "source": [
        "L2.predict(X_test)"
      ],
      "metadata": {
        "id": "K_vpSNYoeFHv",
        "colab": {
          "base_uri": "https://localhost:8080/"
        },
        "outputId": "7fc99086-5196-4cf6-a8c4-3135a625d60b"
      },
      "execution_count": 90,
      "outputs": [
        {
          "output_type": "execute_result",
          "data": {
            "text/plain": [
              "array([5828.34673874, 7794.37526191, 6414.09982314, ..., 5300.58425416,\n",
              "       7866.48628639, 5957.11172635])"
            ]
          },
          "metadata": {},
          "execution_count": 90
        }
      ]
    },
    {
      "cell_type": "code",
      "source": [
        "L2.score(X_test, y_test)\n"
      ],
      "metadata": {
        "id": "WHu76t-dcuHT",
        "colab": {
          "base_uri": "https://localhost:8080/"
        },
        "outputId": "06a111dc-706e-489f-e1df-a4b9dffc401c"
      },
      "execution_count": 91,
      "outputs": [
        {
          "output_type": "execute_result",
          "data": {
            "text/plain": [
              "0.14931114547968916"
            ]
          },
          "metadata": {},
          "execution_count": 91
        }
      ]
    },
    {
      "cell_type": "code",
      "source": [
        "from sklearn.linear_model import Ridge\n",
        "from sklearn.model_selection import GridSearchCV, cross_val_score\n",
        "\n",
        "ridge = Ridge(max_iter=10000, solver='auto')\n",
        "\n",
        "# define the range of alpha values to test\n",
        "parameters = {'alpha': [0.1, 0.2, 0.3, 0.4, 0.5]}\n",
        "\n",
        "# perform grid search to find the best alpha value\n",
        "ridge_cv = GridSearchCV(L2, parameters, cv=5)\n",
        "ridge_cv.fit(X, y)\n",
        "\n",
        "# extract the best alpha value and corresponding score\n",
        "best_alpha = ridge_cv.best_params_['alpha']\n",
        "best_score = ridge_cv.best_score_\n",
        "\n",
        "# perform cross-validation with the best alpha value\n",
        "ridge_best = Ridge(alpha=best_alpha, max_iter=10000, solver='auto')\n",
        "cv_scores = cross_val_score(ridge_best, X, y, cv=5)\n",
        "\n",
        "# find the maximum score and corresponding alpha value\n",
        "max_score = cv_scores.max()\n",
        "max_alpha = best_alpha\n",
        "\n",
        "print(\"Best alpha value: \", best_alpha)\n",
        "print(\"Best score: \", best_score)\n",
        "print(\"Maximum CV score: \", max_score)\n",
        "print(\"Corresponding alpha value: \", max_alpha)\n"
      ],
      "metadata": {
        "id": "p-rHS3RPnqQv",
        "colab": {
          "base_uri": "https://localhost:8080/"
        },
        "outputId": "3bb42ac4-1cff-460b-bc97-4d259644fa54"
      },
      "execution_count": 92,
      "outputs": [
        {
          "output_type": "stream",
          "name": "stdout",
          "text": [
            "Best alpha value:  0.5\n",
            "Best score:  0.7605702635648154\n",
            "Maximum CV score:  0.7700304608182428\n",
            "Corresponding alpha value:  0.5\n"
          ]
        }
      ]
    },
    {
      "cell_type": "markdown",
      "source": [
        "# **Elastic Net**"
      ],
      "metadata": {
        "id": "LHGhG9c0tLPv"
      }
    },
    {
      "cell_type": "code",
      "source": [
        "from sklearn.linear_model import ElasticNet\n",
        "from sklearn.model_selection import GridSearchCV, train_test_split\n",
        "\n",
        "# split the data into training and testing sets\n",
        "X_train, X_test, y_train, y_test = train_test_split(X, y, test_size=0.2, random_state=0)\n",
        "\n",
        "# define the Elastic Net model\n",
        "elastic_net = ElasticNet(max_iter=10000)\n",
        "\n",
        "# define the range of alpha and l1_ratio values to test\n",
        "parameters = {'alpha': [0.1, 0.2, 0.3, 0.4, 0.5], 'l1_ratio': [0.1, 0.3, 0.5, 0.7, 0.9]}\n",
        "\n",
        "# perform grid search to find the best alpha and l1_ratio values\n",
        "elastic_net_cv = GridSearchCV(elastic_net, parameters, cv=5)\n",
        "elastic_net_cv.fit(X_train, y_train)\n",
        "\n",
        "# extract the best alpha and l1_ratio values and corresponding score\n",
        "best_alpha = elastic_net_cv.best_params_['alpha']\n",
        "best_l1_ratio = elastic_net_cv.best_params_['l1_ratio']\n",
        "best_score = elastic_net_cv.best_score_\n",
        "\n",
        "# create an Elastic Net model with the best hyperparameters\n",
        "elastic_net_best = ElasticNet(alpha=best_alpha, l1_ratio=best_l1_ratio, max_iter=10000)\n",
        "elastic_net_best.fit(X_train, y_train)\n",
        "\n",
        "# evaluate the model on the testing set\n",
        "test_score = elastic_net_best.score(X_test, y_test)\n",
        "\n",
        "print(\"Best alpha value: \", best_alpha)\n",
        "print(\"Best l1_ratio value: \", best_l1_ratio)\n",
        "print(\"Best score: \", best_score)\n",
        "print(\"Test score: \", test_score)\n"
      ],
      "metadata": {
        "id": "Ti7oZbGEsPQ4",
        "colab": {
          "base_uri": "https://localhost:8080/"
        },
        "outputId": "cedecd70-b90b-4660-8145-49ac0e69d07e"
      },
      "execution_count": 93,
      "outputs": [
        {
          "output_type": "stream",
          "name": "stdout",
          "text": [
            "Best alpha value:  0.1\n",
            "Best l1_ratio value:  0.9\n",
            "Best score:  0.7631623015682307\n",
            "Test score:  0.7631533468498847\n"
          ]
        }
      ]
    },
    {
      "cell_type": "markdown",
      "source": [
        "# **Decision Tree**"
      ],
      "metadata": {
        "id": "Jp-8LvUNqSvN"
      }
    },
    {
      "cell_type": "code",
      "source": [
        "sales_mean=final1[dependent_variables].mean()"
      ],
      "metadata": {
        "id": "o4hi9fI5r1_X"
      },
      "execution_count": 94,
      "outputs": []
    },
    {
      "cell_type": "code",
      "source": [
        "sales_mean"
      ],
      "metadata": {
        "id": "hLjhu1bDsJym",
        "colab": {
          "base_uri": "https://localhost:8080/"
        },
        "outputId": "6df1a3ce-42d6-42d2-b5b1-72b3d4850e57"
      },
      "execution_count": 95,
      "outputs": [
        {
          "output_type": "execute_result",
          "data": {
            "text/plain": [
              "5773.818972305593"
            ]
          },
          "metadata": {},
          "execution_count": 95
        }
      ]
    },
    {
      "cell_type": "code",
      "source": [
        "\n",
        "sales_mean_new=new_df[dependent_variables].mean()"
      ],
      "metadata": {
        "id": "Cb9Biv-AsN6s"
      },
      "execution_count": 96,
      "outputs": []
    },
    {
      "cell_type": "code",
      "source": [
        "sales_mean_new"
      ],
      "metadata": {
        "id": "LrmN4QuwsSu6",
        "colab": {
          "base_uri": "https://localhost:8080/"
        },
        "outputId": "fdd01582-6a01-477e-f50b-94837338dfbf"
      },
      "execution_count": 97,
      "outputs": [
        {
          "output_type": "execute_result",
          "data": {
            "text/plain": [
              "6955.514290755952"
            ]
          },
          "metadata": {},
          "execution_count": 97
        }
      ]
    },
    {
      "cell_type": "code",
      "source": [
        "decision_tree=DecisionTreeRegressor(max_depth=5)\n",
        "decision_tree.fit(X_train, y_train)\n",
        "y_pred_dt = decision_tree.predict(X_test)\n",
        "y_train_dt = decision_tree.predict(X_train)\n",
        "#print('dt_regressor R^2: ', r2(v_test,v_pred))\n",
        "MSE  = mean_squared_error(y_test, y_pred_dt)\n",
        "print(\"MSE :\" , MSE)\n",
        "\n",
        "RMSE = np.sqrt(MSE)\n",
        "print(\"RMSE :\" ,RMSE)\n",
        "\n",
        "RMPSE=RMSE/sales_mean_new\n",
        "print(\"RMPSE :\",RMPSE)\n",
        "\n",
        "r2 = r2_score(y_test, y_pred_dt)\n",
        "print(\"R2 :\" ,r2)"
      ],
      "metadata": {
        "id": "3JrVwNxeqZHt",
        "colab": {
          "base_uri": "https://localhost:8080/"
        },
        "outputId": "50a74026-041e-47f0-d632-d0c6fe310dbf"
      },
      "execution_count": 98,
      "outputs": [
        {
          "output_type": "stream",
          "name": "stdout",
          "text": [
            "MSE : 2006697.3608355538\n",
            "RMSE : 1416.5794580028166\n",
            "RMPSE : 0.2036627916767399\n",
            "R2 : 0.7905003784044686\n"
          ]
        }
      ]
    },
    {
      "cell_type": "markdown",
      "source": [
        "# **MODEL 2 (By taking whole Dataset)**\n",
        "\n",
        "\n",
        "**In final1 dataset,column name 'PromoInterval' change into dummies it means that each new column will have a binary value (0 or 1).**"
      ],
      "metadata": {
        "id": "03OdlsELuJho"
      }
    },
    {
      "cell_type": "code",
      "source": [
        "final1 = pd.get_dummies(final1, columns=['PromoInterval'])"
      ],
      "metadata": {
        "id": "yVh1AdI9qZcd"
      },
      "execution_count": 99,
      "outputs": []
    },
    {
      "cell_type": "code",
      "source": [
        "final1.head()"
      ],
      "metadata": {
        "id": "AY5a7_rnqZnv",
        "colab": {
          "base_uri": "https://localhost:8080/",
          "height": 386
        },
        "outputId": "5aace87d-c7db-44b5-e93a-e8fc36e267a6"
      },
      "execution_count": 100,
      "outputs": [
        {
          "output_type": "execute_result",
          "data": {
            "text/plain": [
              "   Store  DayOfWeek       Date  Sales  Customers  Open  Promo  StateHoliday  \\\n",
              "0      1          5 2015-07-31   5263        555     1      1             0   \n",
              "1      2          5 2015-07-31   6064        625     1      1             0   \n",
              "2      3          5 2015-07-31   8314        821     1      1             0   \n",
              "3      4          5 2015-07-31  13995       1498     1      1             0   \n",
              "4      5          5 2015-07-31   4822        559     1      1             0   \n",
              "\n",
              "   SchoolHoliday  StoreType  ...  CompetitionDistance  \\\n",
              "0              1          2  ...                 1270   \n",
              "1              1          0  ...                  570   \n",
              "2              1          0  ...                14130   \n",
              "3              1          2  ...                  620   \n",
              "4              1          0  ...                29910   \n",
              "\n",
              "   CompetitionOpenSinceMonth  CompetitionOpenSinceYear  Promo2  \\\n",
              "0                          7                      2008       0   \n",
              "1                          7                      2007       1   \n",
              "2                          7                      2006       1   \n",
              "3                          7                      2009       0   \n",
              "4                          7                      2015       0   \n",
              "\n",
              "   Promo2SinceWeek  Promo2SinceYear  PromoInterval_0  \\\n",
              "0                0                0                1   \n",
              "1               13             2010                0   \n",
              "2               14             2011                0   \n",
              "3                0                0                1   \n",
              "4                0                0                1   \n",
              "\n",
              "   PromoInterval_Feb,May,Aug,Nov  PromoInterval_Jan,Apr,Jul,Oct  \\\n",
              "0                              0                              0   \n",
              "1                              0                              1   \n",
              "2                              0                              1   \n",
              "3                              0                              0   \n",
              "4                              0                              0   \n",
              "\n",
              "   PromoInterval_Mar,Jun,Sept,Dec  \n",
              "0                               0  \n",
              "1                               0  \n",
              "2                               0  \n",
              "3                               0  \n",
              "4                               0  \n",
              "\n",
              "[5 rows x 21 columns]"
            ],
            "text/html": [
              "\n",
              "  <div id=\"df-c007950a-e5d9-4b46-a66c-45a7406d576d\">\n",
              "    <div class=\"colab-df-container\">\n",
              "      <div>\n",
              "<style scoped>\n",
              "    .dataframe tbody tr th:only-of-type {\n",
              "        vertical-align: middle;\n",
              "    }\n",
              "\n",
              "    .dataframe tbody tr th {\n",
              "        vertical-align: top;\n",
              "    }\n",
              "\n",
              "    .dataframe thead th {\n",
              "        text-align: right;\n",
              "    }\n",
              "</style>\n",
              "<table border=\"1\" class=\"dataframe\">\n",
              "  <thead>\n",
              "    <tr style=\"text-align: right;\">\n",
              "      <th></th>\n",
              "      <th>Store</th>\n",
              "      <th>DayOfWeek</th>\n",
              "      <th>Date</th>\n",
              "      <th>Sales</th>\n",
              "      <th>Customers</th>\n",
              "      <th>Open</th>\n",
              "      <th>Promo</th>\n",
              "      <th>StateHoliday</th>\n",
              "      <th>SchoolHoliday</th>\n",
              "      <th>StoreType</th>\n",
              "      <th>...</th>\n",
              "      <th>CompetitionDistance</th>\n",
              "      <th>CompetitionOpenSinceMonth</th>\n",
              "      <th>CompetitionOpenSinceYear</th>\n",
              "      <th>Promo2</th>\n",
              "      <th>Promo2SinceWeek</th>\n",
              "      <th>Promo2SinceYear</th>\n",
              "      <th>PromoInterval_0</th>\n",
              "      <th>PromoInterval_Feb,May,Aug,Nov</th>\n",
              "      <th>PromoInterval_Jan,Apr,Jul,Oct</th>\n",
              "      <th>PromoInterval_Mar,Jun,Sept,Dec</th>\n",
              "    </tr>\n",
              "  </thead>\n",
              "  <tbody>\n",
              "    <tr>\n",
              "      <th>0</th>\n",
              "      <td>1</td>\n",
              "      <td>5</td>\n",
              "      <td>2015-07-31</td>\n",
              "      <td>5263</td>\n",
              "      <td>555</td>\n",
              "      <td>1</td>\n",
              "      <td>1</td>\n",
              "      <td>0</td>\n",
              "      <td>1</td>\n",
              "      <td>2</td>\n",
              "      <td>...</td>\n",
              "      <td>1270</td>\n",
              "      <td>7</td>\n",
              "      <td>2008</td>\n",
              "      <td>0</td>\n",
              "      <td>0</td>\n",
              "      <td>0</td>\n",
              "      <td>1</td>\n",
              "      <td>0</td>\n",
              "      <td>0</td>\n",
              "      <td>0</td>\n",
              "    </tr>\n",
              "    <tr>\n",
              "      <th>1</th>\n",
              "      <td>2</td>\n",
              "      <td>5</td>\n",
              "      <td>2015-07-31</td>\n",
              "      <td>6064</td>\n",
              "      <td>625</td>\n",
              "      <td>1</td>\n",
              "      <td>1</td>\n",
              "      <td>0</td>\n",
              "      <td>1</td>\n",
              "      <td>0</td>\n",
              "      <td>...</td>\n",
              "      <td>570</td>\n",
              "      <td>7</td>\n",
              "      <td>2007</td>\n",
              "      <td>1</td>\n",
              "      <td>13</td>\n",
              "      <td>2010</td>\n",
              "      <td>0</td>\n",
              "      <td>0</td>\n",
              "      <td>1</td>\n",
              "      <td>0</td>\n",
              "    </tr>\n",
              "    <tr>\n",
              "      <th>2</th>\n",
              "      <td>3</td>\n",
              "      <td>5</td>\n",
              "      <td>2015-07-31</td>\n",
              "      <td>8314</td>\n",
              "      <td>821</td>\n",
              "      <td>1</td>\n",
              "      <td>1</td>\n",
              "      <td>0</td>\n",
              "      <td>1</td>\n",
              "      <td>0</td>\n",
              "      <td>...</td>\n",
              "      <td>14130</td>\n",
              "      <td>7</td>\n",
              "      <td>2006</td>\n",
              "      <td>1</td>\n",
              "      <td>14</td>\n",
              "      <td>2011</td>\n",
              "      <td>0</td>\n",
              "      <td>0</td>\n",
              "      <td>1</td>\n",
              "      <td>0</td>\n",
              "    </tr>\n",
              "    <tr>\n",
              "      <th>3</th>\n",
              "      <td>4</td>\n",
              "      <td>5</td>\n",
              "      <td>2015-07-31</td>\n",
              "      <td>13995</td>\n",
              "      <td>1498</td>\n",
              "      <td>1</td>\n",
              "      <td>1</td>\n",
              "      <td>0</td>\n",
              "      <td>1</td>\n",
              "      <td>2</td>\n",
              "      <td>...</td>\n",
              "      <td>620</td>\n",
              "      <td>7</td>\n",
              "      <td>2009</td>\n",
              "      <td>0</td>\n",
              "      <td>0</td>\n",
              "      <td>0</td>\n",
              "      <td>1</td>\n",
              "      <td>0</td>\n",
              "      <td>0</td>\n",
              "      <td>0</td>\n",
              "    </tr>\n",
              "    <tr>\n",
              "      <th>4</th>\n",
              "      <td>5</td>\n",
              "      <td>5</td>\n",
              "      <td>2015-07-31</td>\n",
              "      <td>4822</td>\n",
              "      <td>559</td>\n",
              "      <td>1</td>\n",
              "      <td>1</td>\n",
              "      <td>0</td>\n",
              "      <td>1</td>\n",
              "      <td>0</td>\n",
              "      <td>...</td>\n",
              "      <td>29910</td>\n",
              "      <td>7</td>\n",
              "      <td>2015</td>\n",
              "      <td>0</td>\n",
              "      <td>0</td>\n",
              "      <td>0</td>\n",
              "      <td>1</td>\n",
              "      <td>0</td>\n",
              "      <td>0</td>\n",
              "      <td>0</td>\n",
              "    </tr>\n",
              "  </tbody>\n",
              "</table>\n",
              "<p>5 rows × 21 columns</p>\n",
              "</div>\n",
              "      <button class=\"colab-df-convert\" onclick=\"convertToInteractive('df-c007950a-e5d9-4b46-a66c-45a7406d576d')\"\n",
              "              title=\"Convert this dataframe to an interactive table.\"\n",
              "              style=\"display:none;\">\n",
              "        \n",
              "  <svg xmlns=\"http://www.w3.org/2000/svg\" height=\"24px\"viewBox=\"0 0 24 24\"\n",
              "       width=\"24px\">\n",
              "    <path d=\"M0 0h24v24H0V0z\" fill=\"none\"/>\n",
              "    <path d=\"M18.56 5.44l.94 2.06.94-2.06 2.06-.94-2.06-.94-.94-2.06-.94 2.06-2.06.94zm-11 1L8.5 8.5l.94-2.06 2.06-.94-2.06-.94L8.5 2.5l-.94 2.06-2.06.94zm10 10l.94 2.06.94-2.06 2.06-.94-2.06-.94-.94-2.06-.94 2.06-2.06.94z\"/><path d=\"M17.41 7.96l-1.37-1.37c-.4-.4-.92-.59-1.43-.59-.52 0-1.04.2-1.43.59L10.3 9.45l-7.72 7.72c-.78.78-.78 2.05 0 2.83L4 21.41c.39.39.9.59 1.41.59.51 0 1.02-.2 1.41-.59l7.78-7.78 2.81-2.81c.8-.78.8-2.07 0-2.86zM5.41 20L4 18.59l7.72-7.72 1.47 1.35L5.41 20z\"/>\n",
              "  </svg>\n",
              "      </button>\n",
              "      \n",
              "  <style>\n",
              "    .colab-df-container {\n",
              "      display:flex;\n",
              "      flex-wrap:wrap;\n",
              "      gap: 12px;\n",
              "    }\n",
              "\n",
              "    .colab-df-convert {\n",
              "      background-color: #E8F0FE;\n",
              "      border: none;\n",
              "      border-radius: 50%;\n",
              "      cursor: pointer;\n",
              "      display: none;\n",
              "      fill: #1967D2;\n",
              "      height: 32px;\n",
              "      padding: 0 0 0 0;\n",
              "      width: 32px;\n",
              "    }\n",
              "\n",
              "    .colab-df-convert:hover {\n",
              "      background-color: #E2EBFA;\n",
              "      box-shadow: 0px 1px 2px rgba(60, 64, 67, 0.3), 0px 1px 3px 1px rgba(60, 64, 67, 0.15);\n",
              "      fill: #174EA6;\n",
              "    }\n",
              "\n",
              "    [theme=dark] .colab-df-convert {\n",
              "      background-color: #3B4455;\n",
              "      fill: #D2E3FC;\n",
              "    }\n",
              "\n",
              "    [theme=dark] .colab-df-convert:hover {\n",
              "      background-color: #434B5C;\n",
              "      box-shadow: 0px 1px 3px 1px rgba(0, 0, 0, 0.15);\n",
              "      filter: drop-shadow(0px 1px 2px rgba(0, 0, 0, 0.3));\n",
              "      fill: #FFFFFF;\n",
              "    }\n",
              "  </style>\n",
              "\n",
              "      <script>\n",
              "        const buttonEl =\n",
              "          document.querySelector('#df-c007950a-e5d9-4b46-a66c-45a7406d576d button.colab-df-convert');\n",
              "        buttonEl.style.display =\n",
              "          google.colab.kernel.accessAllowed ? 'block' : 'none';\n",
              "\n",
              "        async function convertToInteractive(key) {\n",
              "          const element = document.querySelector('#df-c007950a-e5d9-4b46-a66c-45a7406d576d');\n",
              "          const dataTable =\n",
              "            await google.colab.kernel.invokeFunction('convertToInteractive',\n",
              "                                                     [key], {});\n",
              "          if (!dataTable) return;\n",
              "\n",
              "          const docLinkHtml = 'Like what you see? Visit the ' +\n",
              "            '<a target=\"_blank\" href=https://colab.research.google.com/notebooks/data_table.ipynb>data table notebook</a>'\n",
              "            + ' to learn more about interactive tables.';\n",
              "          element.innerHTML = '';\n",
              "          dataTable['output_type'] = 'display_data';\n",
              "          await google.colab.output.renderOutput(dataTable, element);\n",
              "          const docLink = document.createElement('div');\n",
              "          docLink.innerHTML = docLinkHtml;\n",
              "          element.appendChild(docLink);\n",
              "        }\n",
              "      </script>\n",
              "    </div>\n",
              "  </div>\n",
              "  "
            ]
          },
          "metadata": {},
          "execution_count": 100
        }
      ]
    },
    {
      "cell_type": "markdown",
      "source": [
        "**We define dependent and independent variables and convert them into arrays**"
      ],
      "metadata": {
        "id": "lz7leFZcvd3l"
      }
    },
    {
      "cell_type": "code",
      "source": [
        "# defining dependent variable\n",
        "dep_var = 'Sales'\n",
        "\n",
        "# defining independent variable\n",
        "indep_var = final1.columns.drop(['Store', 'Promo2SinceYear','Date','Sales'])"
      ],
      "metadata": {
        "id": "SwakgsBXqZzg"
      },
      "execution_count": 101,
      "outputs": []
    },
    {
      "cell_type": "code",
      "source": [
        "indep_var"
      ],
      "metadata": {
        "id": "hr4Kv70Jv_4R",
        "colab": {
          "base_uri": "https://localhost:8080/"
        },
        "outputId": "4450f690-e86b-4588-b12f-e531d146a121"
      },
      "execution_count": 102,
      "outputs": [
        {
          "output_type": "execute_result",
          "data": {
            "text/plain": [
              "Index(['DayOfWeek', 'Customers', 'Open', 'Promo', 'StateHoliday',\n",
              "       'SchoolHoliday', 'StoreType', 'Assortment', 'CompetitionDistance',\n",
              "       'CompetitionOpenSinceMonth', 'CompetitionOpenSinceYear', 'Promo2',\n",
              "       'Promo2SinceWeek', 'PromoInterval_0', 'PromoInterval_Feb,May,Aug,Nov',\n",
              "       'PromoInterval_Jan,Apr,Jul,Oct', 'PromoInterval_Mar,Jun,Sept,Dec'],\n",
              "      dtype='object')"
            ]
          },
          "metadata": {},
          "execution_count": 102
        }
      ]
    },
    {
      "cell_type": "code",
      "source": [
        "# Create the data of independent variables\n",
        "U = final1[indep_var].values\n",
        "# Create the dependent variable data\n",
        "V = final1[dep_var].values"
      ],
      "metadata": {
        "id": "iO27cebrwAY6"
      },
      "execution_count": 103,
      "outputs": []
    },
    {
      "cell_type": "code",
      "source": [
        "V "
      ],
      "metadata": {
        "id": "bXIgsa_Bx0z7",
        "colab": {
          "base_uri": "https://localhost:8080/"
        },
        "outputId": "6faddbc6-05cc-46b6-c473-657bb9881f6b"
      },
      "execution_count": 104,
      "outputs": [
        {
          "output_type": "execute_result",
          "data": {
            "text/plain": [
              "array([5263, 6064, 8314, ...,    0,    0,    0])"
            ]
          },
          "metadata": {},
          "execution_count": 104
        }
      ]
    },
    {
      "cell_type": "code",
      "source": [
        "U"
      ],
      "metadata": {
        "id": "HJzEDXmex0-s",
        "colab": {
          "base_uri": "https://localhost:8080/"
        },
        "outputId": "fe98b4b1-0279-4758-f328-f35f7132e578"
      },
      "execution_count": 105,
      "outputs": [
        {
          "output_type": "execute_result",
          "data": {
            "text/plain": [
              "array([[  5, 555,   1, ...,   0,   0,   0],\n",
              "       [  5, 625,   1, ...,   0,   1,   0],\n",
              "       [  5, 821,   1, ...,   0,   1,   0],\n",
              "       ...,\n",
              "       [  2,   0,   0, ...,   0,   0,   0],\n",
              "       [  2,   0,   0, ...,   0,   0,   0],\n",
              "       [  2,   0,   0, ...,   0,   0,   1]])"
            ]
          },
          "metadata": {},
          "execution_count": 105
        }
      ]
    },
    {
      "cell_type": "code",
      "source": [
        "final1[indep_var]"
      ],
      "metadata": {
        "id": "Ja_dkNIvyF6P",
        "colab": {
          "base_uri": "https://localhost:8080/",
          "height": 487
        },
        "outputId": "8be87970-1b92-41fd-b208-31803fc57129"
      },
      "execution_count": 106,
      "outputs": [
        {
          "output_type": "execute_result",
          "data": {
            "text/plain": [
              "         DayOfWeek  Customers  Open  Promo  StateHoliday  SchoolHoliday  \\\n",
              "0                5        555     1      1             0              1   \n",
              "1                5        625     1      1             0              1   \n",
              "2                5        821     1      1             0              1   \n",
              "3                5       1498     1      1             0              1   \n",
              "4                5        559     1      1             0              1   \n",
              "...            ...        ...   ...    ...           ...            ...   \n",
              "1017204          2          0     0      0             1              1   \n",
              "1017205          2          0     0      0             1              1   \n",
              "1017206          2          0     0      0             1              1   \n",
              "1017207          2          0     0      0             1              1   \n",
              "1017208          2          0     0      0             1              1   \n",
              "\n",
              "         StoreType  Assortment  CompetitionDistance  \\\n",
              "0                2           0                 1270   \n",
              "1                0           0                  570   \n",
              "2                0           0                14130   \n",
              "3                2           2                  620   \n",
              "4                0           0                29910   \n",
              "...            ...         ...                  ...   \n",
              "1017204          0           0                 1900   \n",
              "1017205          2           2                 1880   \n",
              "1017206          0           2                 9260   \n",
              "1017207          0           2                  870   \n",
              "1017208          3           2                 5350   \n",
              "\n",
              "         CompetitionOpenSinceMonth  CompetitionOpenSinceYear  Promo2  \\\n",
              "0                                7                      2008       0   \n",
              "1                                7                      2007       1   \n",
              "2                                7                      2006       1   \n",
              "3                                7                      2009       0   \n",
              "4                                7                      2015       0   \n",
              "...                            ...                       ...     ...   \n",
              "1017204                          1                      2014       1   \n",
              "1017205                          1                      2006       0   \n",
              "1017206                          1                         0       0   \n",
              "1017207                          1                         0       0   \n",
              "1017208                          1                         0       1   \n",
              "\n",
              "         Promo2SinceWeek  PromoInterval_0  PromoInterval_Feb,May,Aug,Nov  \\\n",
              "0                      0                1                              0   \n",
              "1                     13                0                              0   \n",
              "2                     14                0                              0   \n",
              "3                      0                1                              0   \n",
              "4                      0                1                              0   \n",
              "...                  ...              ...                            ...   \n",
              "1017204               31                0                              0   \n",
              "1017205                0                1                              0   \n",
              "1017206                0                1                              0   \n",
              "1017207                0                1                              0   \n",
              "1017208               22                0                              0   \n",
              "\n",
              "         PromoInterval_Jan,Apr,Jul,Oct  PromoInterval_Mar,Jun,Sept,Dec  \n",
              "0                                    0                               0  \n",
              "1                                    1                               0  \n",
              "2                                    1                               0  \n",
              "3                                    0                               0  \n",
              "4                                    0                               0  \n",
              "...                                ...                             ...  \n",
              "1017204                              1                               0  \n",
              "1017205                              0                               0  \n",
              "1017206                              0                               0  \n",
              "1017207                              0                               0  \n",
              "1017208                              0                               1  \n",
              "\n",
              "[1017209 rows x 17 columns]"
            ],
            "text/html": [
              "\n",
              "  <div id=\"df-2093becc-7576-43d9-bb7f-6437326346c2\">\n",
              "    <div class=\"colab-df-container\">\n",
              "      <div>\n",
              "<style scoped>\n",
              "    .dataframe tbody tr th:only-of-type {\n",
              "        vertical-align: middle;\n",
              "    }\n",
              "\n",
              "    .dataframe tbody tr th {\n",
              "        vertical-align: top;\n",
              "    }\n",
              "\n",
              "    .dataframe thead th {\n",
              "        text-align: right;\n",
              "    }\n",
              "</style>\n",
              "<table border=\"1\" class=\"dataframe\">\n",
              "  <thead>\n",
              "    <tr style=\"text-align: right;\">\n",
              "      <th></th>\n",
              "      <th>DayOfWeek</th>\n",
              "      <th>Customers</th>\n",
              "      <th>Open</th>\n",
              "      <th>Promo</th>\n",
              "      <th>StateHoliday</th>\n",
              "      <th>SchoolHoliday</th>\n",
              "      <th>StoreType</th>\n",
              "      <th>Assortment</th>\n",
              "      <th>CompetitionDistance</th>\n",
              "      <th>CompetitionOpenSinceMonth</th>\n",
              "      <th>CompetitionOpenSinceYear</th>\n",
              "      <th>Promo2</th>\n",
              "      <th>Promo2SinceWeek</th>\n",
              "      <th>PromoInterval_0</th>\n",
              "      <th>PromoInterval_Feb,May,Aug,Nov</th>\n",
              "      <th>PromoInterval_Jan,Apr,Jul,Oct</th>\n",
              "      <th>PromoInterval_Mar,Jun,Sept,Dec</th>\n",
              "    </tr>\n",
              "  </thead>\n",
              "  <tbody>\n",
              "    <tr>\n",
              "      <th>0</th>\n",
              "      <td>5</td>\n",
              "      <td>555</td>\n",
              "      <td>1</td>\n",
              "      <td>1</td>\n",
              "      <td>0</td>\n",
              "      <td>1</td>\n",
              "      <td>2</td>\n",
              "      <td>0</td>\n",
              "      <td>1270</td>\n",
              "      <td>7</td>\n",
              "      <td>2008</td>\n",
              "      <td>0</td>\n",
              "      <td>0</td>\n",
              "      <td>1</td>\n",
              "      <td>0</td>\n",
              "      <td>0</td>\n",
              "      <td>0</td>\n",
              "    </tr>\n",
              "    <tr>\n",
              "      <th>1</th>\n",
              "      <td>5</td>\n",
              "      <td>625</td>\n",
              "      <td>1</td>\n",
              "      <td>1</td>\n",
              "      <td>0</td>\n",
              "      <td>1</td>\n",
              "      <td>0</td>\n",
              "      <td>0</td>\n",
              "      <td>570</td>\n",
              "      <td>7</td>\n",
              "      <td>2007</td>\n",
              "      <td>1</td>\n",
              "      <td>13</td>\n",
              "      <td>0</td>\n",
              "      <td>0</td>\n",
              "      <td>1</td>\n",
              "      <td>0</td>\n",
              "    </tr>\n",
              "    <tr>\n",
              "      <th>2</th>\n",
              "      <td>5</td>\n",
              "      <td>821</td>\n",
              "      <td>1</td>\n",
              "      <td>1</td>\n",
              "      <td>0</td>\n",
              "      <td>1</td>\n",
              "      <td>0</td>\n",
              "      <td>0</td>\n",
              "      <td>14130</td>\n",
              "      <td>7</td>\n",
              "      <td>2006</td>\n",
              "      <td>1</td>\n",
              "      <td>14</td>\n",
              "      <td>0</td>\n",
              "      <td>0</td>\n",
              "      <td>1</td>\n",
              "      <td>0</td>\n",
              "    </tr>\n",
              "    <tr>\n",
              "      <th>3</th>\n",
              "      <td>5</td>\n",
              "      <td>1498</td>\n",
              "      <td>1</td>\n",
              "      <td>1</td>\n",
              "      <td>0</td>\n",
              "      <td>1</td>\n",
              "      <td>2</td>\n",
              "      <td>2</td>\n",
              "      <td>620</td>\n",
              "      <td>7</td>\n",
              "      <td>2009</td>\n",
              "      <td>0</td>\n",
              "      <td>0</td>\n",
              "      <td>1</td>\n",
              "      <td>0</td>\n",
              "      <td>0</td>\n",
              "      <td>0</td>\n",
              "    </tr>\n",
              "    <tr>\n",
              "      <th>4</th>\n",
              "      <td>5</td>\n",
              "      <td>559</td>\n",
              "      <td>1</td>\n",
              "      <td>1</td>\n",
              "      <td>0</td>\n",
              "      <td>1</td>\n",
              "      <td>0</td>\n",
              "      <td>0</td>\n",
              "      <td>29910</td>\n",
              "      <td>7</td>\n",
              "      <td>2015</td>\n",
              "      <td>0</td>\n",
              "      <td>0</td>\n",
              "      <td>1</td>\n",
              "      <td>0</td>\n",
              "      <td>0</td>\n",
              "      <td>0</td>\n",
              "    </tr>\n",
              "    <tr>\n",
              "      <th>...</th>\n",
              "      <td>...</td>\n",
              "      <td>...</td>\n",
              "      <td>...</td>\n",
              "      <td>...</td>\n",
              "      <td>...</td>\n",
              "      <td>...</td>\n",
              "      <td>...</td>\n",
              "      <td>...</td>\n",
              "      <td>...</td>\n",
              "      <td>...</td>\n",
              "      <td>...</td>\n",
              "      <td>...</td>\n",
              "      <td>...</td>\n",
              "      <td>...</td>\n",
              "      <td>...</td>\n",
              "      <td>...</td>\n",
              "      <td>...</td>\n",
              "    </tr>\n",
              "    <tr>\n",
              "      <th>1017204</th>\n",
              "      <td>2</td>\n",
              "      <td>0</td>\n",
              "      <td>0</td>\n",
              "      <td>0</td>\n",
              "      <td>1</td>\n",
              "      <td>1</td>\n",
              "      <td>0</td>\n",
              "      <td>0</td>\n",
              "      <td>1900</td>\n",
              "      <td>1</td>\n",
              "      <td>2014</td>\n",
              "      <td>1</td>\n",
              "      <td>31</td>\n",
              "      <td>0</td>\n",
              "      <td>0</td>\n",
              "      <td>1</td>\n",
              "      <td>0</td>\n",
              "    </tr>\n",
              "    <tr>\n",
              "      <th>1017205</th>\n",
              "      <td>2</td>\n",
              "      <td>0</td>\n",
              "      <td>0</td>\n",
              "      <td>0</td>\n",
              "      <td>1</td>\n",
              "      <td>1</td>\n",
              "      <td>2</td>\n",
              "      <td>2</td>\n",
              "      <td>1880</td>\n",
              "      <td>1</td>\n",
              "      <td>2006</td>\n",
              "      <td>0</td>\n",
              "      <td>0</td>\n",
              "      <td>1</td>\n",
              "      <td>0</td>\n",
              "      <td>0</td>\n",
              "      <td>0</td>\n",
              "    </tr>\n",
              "    <tr>\n",
              "      <th>1017206</th>\n",
              "      <td>2</td>\n",
              "      <td>0</td>\n",
              "      <td>0</td>\n",
              "      <td>0</td>\n",
              "      <td>1</td>\n",
              "      <td>1</td>\n",
              "      <td>0</td>\n",
              "      <td>2</td>\n",
              "      <td>9260</td>\n",
              "      <td>1</td>\n",
              "      <td>0</td>\n",
              "      <td>0</td>\n",
              "      <td>0</td>\n",
              "      <td>1</td>\n",
              "      <td>0</td>\n",
              "      <td>0</td>\n",
              "      <td>0</td>\n",
              "    </tr>\n",
              "    <tr>\n",
              "      <th>1017207</th>\n",
              "      <td>2</td>\n",
              "      <td>0</td>\n",
              "      <td>0</td>\n",
              "      <td>0</td>\n",
              "      <td>1</td>\n",
              "      <td>1</td>\n",
              "      <td>0</td>\n",
              "      <td>2</td>\n",
              "      <td>870</td>\n",
              "      <td>1</td>\n",
              "      <td>0</td>\n",
              "      <td>0</td>\n",
              "      <td>0</td>\n",
              "      <td>1</td>\n",
              "      <td>0</td>\n",
              "      <td>0</td>\n",
              "      <td>0</td>\n",
              "    </tr>\n",
              "    <tr>\n",
              "      <th>1017208</th>\n",
              "      <td>2</td>\n",
              "      <td>0</td>\n",
              "      <td>0</td>\n",
              "      <td>0</td>\n",
              "      <td>1</td>\n",
              "      <td>1</td>\n",
              "      <td>3</td>\n",
              "      <td>2</td>\n",
              "      <td>5350</td>\n",
              "      <td>1</td>\n",
              "      <td>0</td>\n",
              "      <td>1</td>\n",
              "      <td>22</td>\n",
              "      <td>0</td>\n",
              "      <td>0</td>\n",
              "      <td>0</td>\n",
              "      <td>1</td>\n",
              "    </tr>\n",
              "  </tbody>\n",
              "</table>\n",
              "<p>1017209 rows × 17 columns</p>\n",
              "</div>\n",
              "      <button class=\"colab-df-convert\" onclick=\"convertToInteractive('df-2093becc-7576-43d9-bb7f-6437326346c2')\"\n",
              "              title=\"Convert this dataframe to an interactive table.\"\n",
              "              style=\"display:none;\">\n",
              "        \n",
              "  <svg xmlns=\"http://www.w3.org/2000/svg\" height=\"24px\"viewBox=\"0 0 24 24\"\n",
              "       width=\"24px\">\n",
              "    <path d=\"M0 0h24v24H0V0z\" fill=\"none\"/>\n",
              "    <path d=\"M18.56 5.44l.94 2.06.94-2.06 2.06-.94-2.06-.94-.94-2.06-.94 2.06-2.06.94zm-11 1L8.5 8.5l.94-2.06 2.06-.94-2.06-.94L8.5 2.5l-.94 2.06-2.06.94zm10 10l.94 2.06.94-2.06 2.06-.94-2.06-.94-.94-2.06-.94 2.06-2.06.94z\"/><path d=\"M17.41 7.96l-1.37-1.37c-.4-.4-.92-.59-1.43-.59-.52 0-1.04.2-1.43.59L10.3 9.45l-7.72 7.72c-.78.78-.78 2.05 0 2.83L4 21.41c.39.39.9.59 1.41.59.51 0 1.02-.2 1.41-.59l7.78-7.78 2.81-2.81c.8-.78.8-2.07 0-2.86zM5.41 20L4 18.59l7.72-7.72 1.47 1.35L5.41 20z\"/>\n",
              "  </svg>\n",
              "      </button>\n",
              "      \n",
              "  <style>\n",
              "    .colab-df-container {\n",
              "      display:flex;\n",
              "      flex-wrap:wrap;\n",
              "      gap: 12px;\n",
              "    }\n",
              "\n",
              "    .colab-df-convert {\n",
              "      background-color: #E8F0FE;\n",
              "      border: none;\n",
              "      border-radius: 50%;\n",
              "      cursor: pointer;\n",
              "      display: none;\n",
              "      fill: #1967D2;\n",
              "      height: 32px;\n",
              "      padding: 0 0 0 0;\n",
              "      width: 32px;\n",
              "    }\n",
              "\n",
              "    .colab-df-convert:hover {\n",
              "      background-color: #E2EBFA;\n",
              "      box-shadow: 0px 1px 2px rgba(60, 64, 67, 0.3), 0px 1px 3px 1px rgba(60, 64, 67, 0.15);\n",
              "      fill: #174EA6;\n",
              "    }\n",
              "\n",
              "    [theme=dark] .colab-df-convert {\n",
              "      background-color: #3B4455;\n",
              "      fill: #D2E3FC;\n",
              "    }\n",
              "\n",
              "    [theme=dark] .colab-df-convert:hover {\n",
              "      background-color: #434B5C;\n",
              "      box-shadow: 0px 1px 3px 1px rgba(0, 0, 0, 0.15);\n",
              "      filter: drop-shadow(0px 1px 2px rgba(0, 0, 0, 0.3));\n",
              "      fill: #FFFFFF;\n",
              "    }\n",
              "  </style>\n",
              "\n",
              "      <script>\n",
              "        const buttonEl =\n",
              "          document.querySelector('#df-2093becc-7576-43d9-bb7f-6437326346c2 button.colab-df-convert');\n",
              "        buttonEl.style.display =\n",
              "          google.colab.kernel.accessAllowed ? 'block' : 'none';\n",
              "\n",
              "        async function convertToInteractive(key) {\n",
              "          const element = document.querySelector('#df-2093becc-7576-43d9-bb7f-6437326346c2');\n",
              "          const dataTable =\n",
              "            await google.colab.kernel.invokeFunction('convertToInteractive',\n",
              "                                                     [key], {});\n",
              "          if (!dataTable) return;\n",
              "\n",
              "          const docLinkHtml = 'Like what you see? Visit the ' +\n",
              "            '<a target=\"_blank\" href=https://colab.research.google.com/notebooks/data_table.ipynb>data table notebook</a>'\n",
              "            + ' to learn more about interactive tables.';\n",
              "          element.innerHTML = '';\n",
              "          dataTable['output_type'] = 'display_data';\n",
              "          await google.colab.output.renderOutput(dataTable, element);\n",
              "          const docLink = document.createElement('div');\n",
              "          docLink.innerHTML = docLinkHtml;\n",
              "          element.appendChild(docLink);\n",
              "        }\n",
              "      </script>\n",
              "    </div>\n",
              "  </div>\n",
              "  "
            ]
          },
          "metadata": {},
          "execution_count": 106
        }
      ]
    },
    {
      "cell_type": "code",
      "source": [
        "# splitting the dataset\n",
        "U_train, U_test, v_train, v_test = train_test_split(U, V, test_size=0.2, random_state = 0)\n",
        "print(U_train.shape)\n",
        "print(U_test.shape)"
      ],
      "metadata": {
        "id": "GBm7rtwNzA6d",
        "colab": {
          "base_uri": "https://localhost:8080/"
        },
        "outputId": "eec07bca-5e38-42f0-97c5-9900e4d24fd2"
      },
      "execution_count": 107,
      "outputs": [
        {
          "output_type": "stream",
          "name": "stdout",
          "text": [
            "(813767, 17)\n",
            "(203442, 17)\n"
          ]
        }
      ]
    },
    {
      "cell_type": "markdown",
      "source": [
        "# **LINEAR REGRESSION**"
      ],
      "metadata": {
        "id": "CmiMQ1cD1yCM"
      }
    },
    {
      "cell_type": "code",
      "source": [
        "# scling the x values\n",
        "scaler=StandardScaler()\n",
        "\n",
        "U_train = scaler.fit_transform(U_train)\n",
        "U_test = scaler.transform(U_test)"
      ],
      "metadata": {
        "id": "2GVmjFQw1t2f"
      },
      "execution_count": 108,
      "outputs": []
    },
    {
      "cell_type": "code",
      "source": [
        "# fitting the data into Lineat Regression Model\n",
        "linear_regression = LinearRegression()\n",
        "linear_regression.fit(U_train, v_train)"
      ],
      "metadata": {
        "id": "jqAmRVah1uPB",
        "colab": {
          "base_uri": "https://localhost:8080/",
          "height": 75
        },
        "outputId": "2f457a3c-2e5e-4e97-c792-69caab9f3905"
      },
      "execution_count": 109,
      "outputs": [
        {
          "output_type": "execute_result",
          "data": {
            "text/plain": [
              "LinearRegression()"
            ],
            "text/html": [
              "<style>#sk-container-id-4 {color: black;background-color: white;}#sk-container-id-4 pre{padding: 0;}#sk-container-id-4 div.sk-toggleable {background-color: white;}#sk-container-id-4 label.sk-toggleable__label {cursor: pointer;display: block;width: 100%;margin-bottom: 0;padding: 0.3em;box-sizing: border-box;text-align: center;}#sk-container-id-4 label.sk-toggleable__label-arrow:before {content: \"▸\";float: left;margin-right: 0.25em;color: #696969;}#sk-container-id-4 label.sk-toggleable__label-arrow:hover:before {color: black;}#sk-container-id-4 div.sk-estimator:hover label.sk-toggleable__label-arrow:before {color: black;}#sk-container-id-4 div.sk-toggleable__content {max-height: 0;max-width: 0;overflow: hidden;text-align: left;background-color: #f0f8ff;}#sk-container-id-4 div.sk-toggleable__content pre {margin: 0.2em;color: black;border-radius: 0.25em;background-color: #f0f8ff;}#sk-container-id-4 input.sk-toggleable__control:checked~div.sk-toggleable__content {max-height: 200px;max-width: 100%;overflow: auto;}#sk-container-id-4 input.sk-toggleable__control:checked~label.sk-toggleable__label-arrow:before {content: \"▾\";}#sk-container-id-4 div.sk-estimator input.sk-toggleable__control:checked~label.sk-toggleable__label {background-color: #d4ebff;}#sk-container-id-4 div.sk-label input.sk-toggleable__control:checked~label.sk-toggleable__label {background-color: #d4ebff;}#sk-container-id-4 input.sk-hidden--visually {border: 0;clip: rect(1px 1px 1px 1px);clip: rect(1px, 1px, 1px, 1px);height: 1px;margin: -1px;overflow: hidden;padding: 0;position: absolute;width: 1px;}#sk-container-id-4 div.sk-estimator {font-family: monospace;background-color: #f0f8ff;border: 1px dotted black;border-radius: 0.25em;box-sizing: border-box;margin-bottom: 0.5em;}#sk-container-id-4 div.sk-estimator:hover {background-color: #d4ebff;}#sk-container-id-4 div.sk-parallel-item::after {content: \"\";width: 100%;border-bottom: 1px solid gray;flex-grow: 1;}#sk-container-id-4 div.sk-label:hover label.sk-toggleable__label {background-color: #d4ebff;}#sk-container-id-4 div.sk-serial::before {content: \"\";position: absolute;border-left: 1px solid gray;box-sizing: border-box;top: 0;bottom: 0;left: 50%;z-index: 0;}#sk-container-id-4 div.sk-serial {display: flex;flex-direction: column;align-items: center;background-color: white;padding-right: 0.2em;padding-left: 0.2em;position: relative;}#sk-container-id-4 div.sk-item {position: relative;z-index: 1;}#sk-container-id-4 div.sk-parallel {display: flex;align-items: stretch;justify-content: center;background-color: white;position: relative;}#sk-container-id-4 div.sk-item::before, #sk-container-id-4 div.sk-parallel-item::before {content: \"\";position: absolute;border-left: 1px solid gray;box-sizing: border-box;top: 0;bottom: 0;left: 50%;z-index: -1;}#sk-container-id-4 div.sk-parallel-item {display: flex;flex-direction: column;z-index: 1;position: relative;background-color: white;}#sk-container-id-4 div.sk-parallel-item:first-child::after {align-self: flex-end;width: 50%;}#sk-container-id-4 div.sk-parallel-item:last-child::after {align-self: flex-start;width: 50%;}#sk-container-id-4 div.sk-parallel-item:only-child::after {width: 0;}#sk-container-id-4 div.sk-dashed-wrapped {border: 1px dashed gray;margin: 0 0.4em 0.5em 0.4em;box-sizing: border-box;padding-bottom: 0.4em;background-color: white;}#sk-container-id-4 div.sk-label label {font-family: monospace;font-weight: bold;display: inline-block;line-height: 1.2em;}#sk-container-id-4 div.sk-label-container {text-align: center;}#sk-container-id-4 div.sk-container {/* jupyter's `normalize.less` sets `[hidden] { display: none; }` but bootstrap.min.css set `[hidden] { display: none !important; }` so we also need the `!important` here to be able to override the default hidden behavior on the sphinx rendered scikit-learn.org. See: https://github.com/scikit-learn/scikit-learn/issues/21755 */display: inline-block !important;position: relative;}#sk-container-id-4 div.sk-text-repr-fallback {display: none;}</style><div id=\"sk-container-id-4\" class=\"sk-top-container\"><div class=\"sk-text-repr-fallback\"><pre>LinearRegression()</pre><b>In a Jupyter environment, please rerun this cell to show the HTML representation or trust the notebook. <br />On GitHub, the HTML representation is unable to render, please try loading this page with nbviewer.org.</b></div><div class=\"sk-container\" hidden><div class=\"sk-item\"><div class=\"sk-estimator sk-toggleable\"><input class=\"sk-toggleable__control sk-hidden--visually\" id=\"sk-estimator-id-6\" type=\"checkbox\" checked><label for=\"sk-estimator-id-6\" class=\"sk-toggleable__label sk-toggleable__label-arrow\">LinearRegression</label><div class=\"sk-toggleable__content\"><pre>LinearRegression()</pre></div></div></div></div></div>"
            ]
          },
          "metadata": {},
          "execution_count": 109
        }
      ]
    },
    {
      "cell_type": "code",
      "source": [
        "v_pred=linear_regression.predict(U_test)\n",
        "v_pred"
      ],
      "metadata": {
        "id": "3d8Boept1upT",
        "colab": {
          "base_uri": "https://localhost:8080/"
        },
        "outputId": "e2dd4cd0-7032-4c71-d466-ef60036661a6"
      },
      "execution_count": 110,
      "outputs": [
        {
          "output_type": "execute_result",
          "data": {
            "text/plain": [
              "array([ 7101.66614705, 12611.33802205,  9204.59583455, ...,\n",
              "        6938.9200533 ,  5999.9747408 ,  4007.9825533 ])"
            ]
          },
          "metadata": {},
          "execution_count": 110
        }
      ]
    },
    {
      "cell_type": "code",
      "source": [
        "linear_regression.score(U_train, v_train)"
      ],
      "metadata": {
        "id": "Ngg7UE3C4Czf",
        "colab": {
          "base_uri": "https://localhost:8080/"
        },
        "outputId": "e9a8fdee-1580-41b9-d8d8-afc0ed07138d"
      },
      "execution_count": 111,
      "outputs": [
        {
          "output_type": "execute_result",
          "data": {
            "text/plain": [
              "0.8677978490444807"
            ]
          },
          "metadata": {},
          "execution_count": 111
        }
      ]
    },
    {
      "cell_type": "code",
      "source": [
        "regression_Dataframe = pd.DataFrame(zip(v_test, v_pred), columns = ['actual', 'pred'])\n",
        "regression_Dataframe\n"
      ],
      "metadata": {
        "id": "iXWZZ80h4K68",
        "colab": {
          "base_uri": "https://localhost:8080/",
          "height": 424
        },
        "outputId": "7c8dbae8-0b23-40fd-9a85-6d760f604998"
      },
      "execution_count": 112,
      "outputs": [
        {
          "output_type": "execute_result",
          "data": {
            "text/plain": [
              "        actual          pred\n",
              "0         7285   7101.666147\n",
              "1         6221  12611.338022\n",
              "2         8132   9204.595835\n",
              "3        20916  11526.502085\n",
              "4         5472   6593.181772\n",
              "...        ...           ...\n",
              "203437    5650   6655.935678\n",
              "203438    5464   6520.869272\n",
              "203439    6191   6938.920053\n",
              "203440    5663   5999.974741\n",
              "203441    2698   4007.982553\n",
              "\n",
              "[203442 rows x 2 columns]"
            ],
            "text/html": [
              "\n",
              "  <div id=\"df-4d5c0bb7-3d34-4e21-aee8-8490ed261772\">\n",
              "    <div class=\"colab-df-container\">\n",
              "      <div>\n",
              "<style scoped>\n",
              "    .dataframe tbody tr th:only-of-type {\n",
              "        vertical-align: middle;\n",
              "    }\n",
              "\n",
              "    .dataframe tbody tr th {\n",
              "        vertical-align: top;\n",
              "    }\n",
              "\n",
              "    .dataframe thead th {\n",
              "        text-align: right;\n",
              "    }\n",
              "</style>\n",
              "<table border=\"1\" class=\"dataframe\">\n",
              "  <thead>\n",
              "    <tr style=\"text-align: right;\">\n",
              "      <th></th>\n",
              "      <th>actual</th>\n",
              "      <th>pred</th>\n",
              "    </tr>\n",
              "  </thead>\n",
              "  <tbody>\n",
              "    <tr>\n",
              "      <th>0</th>\n",
              "      <td>7285</td>\n",
              "      <td>7101.666147</td>\n",
              "    </tr>\n",
              "    <tr>\n",
              "      <th>1</th>\n",
              "      <td>6221</td>\n",
              "      <td>12611.338022</td>\n",
              "    </tr>\n",
              "    <tr>\n",
              "      <th>2</th>\n",
              "      <td>8132</td>\n",
              "      <td>9204.595835</td>\n",
              "    </tr>\n",
              "    <tr>\n",
              "      <th>3</th>\n",
              "      <td>20916</td>\n",
              "      <td>11526.502085</td>\n",
              "    </tr>\n",
              "    <tr>\n",
              "      <th>4</th>\n",
              "      <td>5472</td>\n",
              "      <td>6593.181772</td>\n",
              "    </tr>\n",
              "    <tr>\n",
              "      <th>...</th>\n",
              "      <td>...</td>\n",
              "      <td>...</td>\n",
              "    </tr>\n",
              "    <tr>\n",
              "      <th>203437</th>\n",
              "      <td>5650</td>\n",
              "      <td>6655.935678</td>\n",
              "    </tr>\n",
              "    <tr>\n",
              "      <th>203438</th>\n",
              "      <td>5464</td>\n",
              "      <td>6520.869272</td>\n",
              "    </tr>\n",
              "    <tr>\n",
              "      <th>203439</th>\n",
              "      <td>6191</td>\n",
              "      <td>6938.920053</td>\n",
              "    </tr>\n",
              "    <tr>\n",
              "      <th>203440</th>\n",
              "      <td>5663</td>\n",
              "      <td>5999.974741</td>\n",
              "    </tr>\n",
              "    <tr>\n",
              "      <th>203441</th>\n",
              "      <td>2698</td>\n",
              "      <td>4007.982553</td>\n",
              "    </tr>\n",
              "  </tbody>\n",
              "</table>\n",
              "<p>203442 rows × 2 columns</p>\n",
              "</div>\n",
              "      <button class=\"colab-df-convert\" onclick=\"convertToInteractive('df-4d5c0bb7-3d34-4e21-aee8-8490ed261772')\"\n",
              "              title=\"Convert this dataframe to an interactive table.\"\n",
              "              style=\"display:none;\">\n",
              "        \n",
              "  <svg xmlns=\"http://www.w3.org/2000/svg\" height=\"24px\"viewBox=\"0 0 24 24\"\n",
              "       width=\"24px\">\n",
              "    <path d=\"M0 0h24v24H0V0z\" fill=\"none\"/>\n",
              "    <path d=\"M18.56 5.44l.94 2.06.94-2.06 2.06-.94-2.06-.94-.94-2.06-.94 2.06-2.06.94zm-11 1L8.5 8.5l.94-2.06 2.06-.94-2.06-.94L8.5 2.5l-.94 2.06-2.06.94zm10 10l.94 2.06.94-2.06 2.06-.94-2.06-.94-.94-2.06-.94 2.06-2.06.94z\"/><path d=\"M17.41 7.96l-1.37-1.37c-.4-.4-.92-.59-1.43-.59-.52 0-1.04.2-1.43.59L10.3 9.45l-7.72 7.72c-.78.78-.78 2.05 0 2.83L4 21.41c.39.39.9.59 1.41.59.51 0 1.02-.2 1.41-.59l7.78-7.78 2.81-2.81c.8-.78.8-2.07 0-2.86zM5.41 20L4 18.59l7.72-7.72 1.47 1.35L5.41 20z\"/>\n",
              "  </svg>\n",
              "      </button>\n",
              "      \n",
              "  <style>\n",
              "    .colab-df-container {\n",
              "      display:flex;\n",
              "      flex-wrap:wrap;\n",
              "      gap: 12px;\n",
              "    }\n",
              "\n",
              "    .colab-df-convert {\n",
              "      background-color: #E8F0FE;\n",
              "      border: none;\n",
              "      border-radius: 50%;\n",
              "      cursor: pointer;\n",
              "      display: none;\n",
              "      fill: #1967D2;\n",
              "      height: 32px;\n",
              "      padding: 0 0 0 0;\n",
              "      width: 32px;\n",
              "    }\n",
              "\n",
              "    .colab-df-convert:hover {\n",
              "      background-color: #E2EBFA;\n",
              "      box-shadow: 0px 1px 2px rgba(60, 64, 67, 0.3), 0px 1px 3px 1px rgba(60, 64, 67, 0.15);\n",
              "      fill: #174EA6;\n",
              "    }\n",
              "\n",
              "    [theme=dark] .colab-df-convert {\n",
              "      background-color: #3B4455;\n",
              "      fill: #D2E3FC;\n",
              "    }\n",
              "\n",
              "    [theme=dark] .colab-df-convert:hover {\n",
              "      background-color: #434B5C;\n",
              "      box-shadow: 0px 1px 3px 1px rgba(0, 0, 0, 0.15);\n",
              "      filter: drop-shadow(0px 1px 2px rgba(0, 0, 0, 0.3));\n",
              "      fill: #FFFFFF;\n",
              "    }\n",
              "  </style>\n",
              "\n",
              "      <script>\n",
              "        const buttonEl =\n",
              "          document.querySelector('#df-4d5c0bb7-3d34-4e21-aee8-8490ed261772 button.colab-df-convert');\n",
              "        buttonEl.style.display =\n",
              "          google.colab.kernel.accessAllowed ? 'block' : 'none';\n",
              "\n",
              "        async function convertToInteractive(key) {\n",
              "          const element = document.querySelector('#df-4d5c0bb7-3d34-4e21-aee8-8490ed261772');\n",
              "          const dataTable =\n",
              "            await google.colab.kernel.invokeFunction('convertToInteractive',\n",
              "                                                     [key], {});\n",
              "          if (!dataTable) return;\n",
              "\n",
              "          const docLinkHtml = 'Like what you see? Visit the ' +\n",
              "            '<a target=\"_blank\" href=https://colab.research.google.com/notebooks/data_table.ipynb>data table notebook</a>'\n",
              "            + ' to learn more about interactive tables.';\n",
              "          element.innerHTML = '';\n",
              "          dataTable['output_type'] = 'display_data';\n",
              "          await google.colab.output.renderOutput(dataTable, element);\n",
              "          const docLink = document.createElement('div');\n",
              "          docLink.innerHTML = docLinkHtml;\n",
              "          element.appendChild(docLink);\n",
              "        }\n",
              "      </script>\n",
              "    </div>\n",
              "  </div>\n",
              "  "
            ]
          },
          "metadata": {},
          "execution_count": 112
        }
      ]
    },
    {
      "cell_type": "code",
      "source": [
        "from sklearn.metrics import mean_squared_error\n",
        "\n",
        "MSE  = mean_squared_error(v_test, v_pred)\n",
        "print(\"MSE :\" , MSE)\n",
        "\n",
        "RMSE = np.sqrt(MSE)\n",
        "print(\"RMSE :\" ,RMSE)\n",
        "\n",
        "RMPSE=RMSE/sales_mean\n",
        "print(\"RMPSE :\",RMPSE)\n",
        "\n",
        "r2 = r2_score(v_test, v_pred)\n",
        "print(\"R2 :\" ,r2)"
      ],
      "metadata": {
        "id": "qFoEZLpW40Ia",
        "colab": {
          "base_uri": "https://localhost:8080/"
        },
        "outputId": "083cae6c-5d21-4906-dd08-5d3f7b2373a1"
      },
      "execution_count": 113,
      "outputs": [
        {
          "output_type": "stream",
          "name": "stdout",
          "text": [
            "MSE : 1944268.5102740775\n",
            "RMSE : 1394.370291663616\n",
            "RMPSE : 0.24149878933714092\n",
            "R2 : 0.8684236859866605\n"
          ]
        }
      ]
    },
    {
      "cell_type": "markdown",
      "source": [
        "# **DECISION TREE**"
      ],
      "metadata": {
        "id": "qMimlQ9B6Dfj"
      }
    },
    {
      "cell_type": "code",
      "source": [
        "decision_tree=DecisionTreeRegressor(max_depth=5)\n",
        "decision_tree.fit(U_train, v_train)\n",
        "v_pred_dt = decision_tree.predict(U_test)\n",
        "v_train_dt = decision_tree.predict(U_train)\n",
        "#print('dt_regressor R^2: ', r2(v_test,v_pred))\n",
        "MSE  = mean_squared_error(v_test, v_pred_dt)\n",
        "print(\"MSE :\" , MSE)\n",
        "\n",
        "RMSE = np.sqrt(MSE)\n",
        "print(\"RMSE :\" ,RMSE)\n",
        "\n",
        "RMPSE=RMSE/sales_mean\n",
        "print(\"RMPSE :\",RMPSE)\n",
        "\n",
        "r2 = r2_score(v_test, v_pred_dt)\n",
        "print(\"R2 :\" ,r2)"
      ],
      "metadata": {
        "id": "wBUs6Wej59rP",
        "colab": {
          "base_uri": "https://localhost:8080/"
        },
        "outputId": "097df092-61b1-4942-db02-af3bf43d930b"
      },
      "execution_count": 114,
      "outputs": [
        {
          "output_type": "stream",
          "name": "stdout",
          "text": [
            "MSE : 1938797.0529188653\n",
            "RMSE : 1392.4069279197317\n",
            "RMPSE : 0.24115874338951052\n",
            "R2 : 0.8687939610732938\n"
          ]
        }
      ]
    },
    {
      "cell_type": "code",
      "source": [
        "decisiontree_Dataframe = pd.DataFrame(zip(v_test, v_pred_dt), columns = ['actual', 'pred'])\n",
        "decisiontree_Dataframe\n"
      ],
      "metadata": {
        "id": "ywHi2ldp6caS",
        "colab": {
          "base_uri": "https://localhost:8080/",
          "height": 424
        },
        "outputId": "5be28bdc-8914-4f90-cbd5-8c170ee7d24e"
      },
      "execution_count": 115,
      "outputs": [
        {
          "output_type": "execute_result",
          "data": {
            "text/plain": [
              "        actual          pred\n",
              "0         7285   6405.437098\n",
              "1         6221  10731.775506\n",
              "2         8132   9096.411096\n",
              "3        20916  11835.110635\n",
              "4         5472   5476.684725\n",
              "...        ...           ...\n",
              "203437    5650   5476.684725\n",
              "203438    5464   5476.684725\n",
              "203439    6191   8169.463222\n",
              "203440    5663   6405.437098\n",
              "203441    2698   2906.979142\n",
              "\n",
              "[203442 rows x 2 columns]"
            ],
            "text/html": [
              "\n",
              "  <div id=\"df-8a496f97-c4c0-4b97-8048-6a871558c788\">\n",
              "    <div class=\"colab-df-container\">\n",
              "      <div>\n",
              "<style scoped>\n",
              "    .dataframe tbody tr th:only-of-type {\n",
              "        vertical-align: middle;\n",
              "    }\n",
              "\n",
              "    .dataframe tbody tr th {\n",
              "        vertical-align: top;\n",
              "    }\n",
              "\n",
              "    .dataframe thead th {\n",
              "        text-align: right;\n",
              "    }\n",
              "</style>\n",
              "<table border=\"1\" class=\"dataframe\">\n",
              "  <thead>\n",
              "    <tr style=\"text-align: right;\">\n",
              "      <th></th>\n",
              "      <th>actual</th>\n",
              "      <th>pred</th>\n",
              "    </tr>\n",
              "  </thead>\n",
              "  <tbody>\n",
              "    <tr>\n",
              "      <th>0</th>\n",
              "      <td>7285</td>\n",
              "      <td>6405.437098</td>\n",
              "    </tr>\n",
              "    <tr>\n",
              "      <th>1</th>\n",
              "      <td>6221</td>\n",
              "      <td>10731.775506</td>\n",
              "    </tr>\n",
              "    <tr>\n",
              "      <th>2</th>\n",
              "      <td>8132</td>\n",
              "      <td>9096.411096</td>\n",
              "    </tr>\n",
              "    <tr>\n",
              "      <th>3</th>\n",
              "      <td>20916</td>\n",
              "      <td>11835.110635</td>\n",
              "    </tr>\n",
              "    <tr>\n",
              "      <th>4</th>\n",
              "      <td>5472</td>\n",
              "      <td>5476.684725</td>\n",
              "    </tr>\n",
              "    <tr>\n",
              "      <th>...</th>\n",
              "      <td>...</td>\n",
              "      <td>...</td>\n",
              "    </tr>\n",
              "    <tr>\n",
              "      <th>203437</th>\n",
              "      <td>5650</td>\n",
              "      <td>5476.684725</td>\n",
              "    </tr>\n",
              "    <tr>\n",
              "      <th>203438</th>\n",
              "      <td>5464</td>\n",
              "      <td>5476.684725</td>\n",
              "    </tr>\n",
              "    <tr>\n",
              "      <th>203439</th>\n",
              "      <td>6191</td>\n",
              "      <td>8169.463222</td>\n",
              "    </tr>\n",
              "    <tr>\n",
              "      <th>203440</th>\n",
              "      <td>5663</td>\n",
              "      <td>6405.437098</td>\n",
              "    </tr>\n",
              "    <tr>\n",
              "      <th>203441</th>\n",
              "      <td>2698</td>\n",
              "      <td>2906.979142</td>\n",
              "    </tr>\n",
              "  </tbody>\n",
              "</table>\n",
              "<p>203442 rows × 2 columns</p>\n",
              "</div>\n",
              "      <button class=\"colab-df-convert\" onclick=\"convertToInteractive('df-8a496f97-c4c0-4b97-8048-6a871558c788')\"\n",
              "              title=\"Convert this dataframe to an interactive table.\"\n",
              "              style=\"display:none;\">\n",
              "        \n",
              "  <svg xmlns=\"http://www.w3.org/2000/svg\" height=\"24px\"viewBox=\"0 0 24 24\"\n",
              "       width=\"24px\">\n",
              "    <path d=\"M0 0h24v24H0V0z\" fill=\"none\"/>\n",
              "    <path d=\"M18.56 5.44l.94 2.06.94-2.06 2.06-.94-2.06-.94-.94-2.06-.94 2.06-2.06.94zm-11 1L8.5 8.5l.94-2.06 2.06-.94-2.06-.94L8.5 2.5l-.94 2.06-2.06.94zm10 10l.94 2.06.94-2.06 2.06-.94-2.06-.94-.94-2.06-.94 2.06-2.06.94z\"/><path d=\"M17.41 7.96l-1.37-1.37c-.4-.4-.92-.59-1.43-.59-.52 0-1.04.2-1.43.59L10.3 9.45l-7.72 7.72c-.78.78-.78 2.05 0 2.83L4 21.41c.39.39.9.59 1.41.59.51 0 1.02-.2 1.41-.59l7.78-7.78 2.81-2.81c.8-.78.8-2.07 0-2.86zM5.41 20L4 18.59l7.72-7.72 1.47 1.35L5.41 20z\"/>\n",
              "  </svg>\n",
              "      </button>\n",
              "      \n",
              "  <style>\n",
              "    .colab-df-container {\n",
              "      display:flex;\n",
              "      flex-wrap:wrap;\n",
              "      gap: 12px;\n",
              "    }\n",
              "\n",
              "    .colab-df-convert {\n",
              "      background-color: #E8F0FE;\n",
              "      border: none;\n",
              "      border-radius: 50%;\n",
              "      cursor: pointer;\n",
              "      display: none;\n",
              "      fill: #1967D2;\n",
              "      height: 32px;\n",
              "      padding: 0 0 0 0;\n",
              "      width: 32px;\n",
              "    }\n",
              "\n",
              "    .colab-df-convert:hover {\n",
              "      background-color: #E2EBFA;\n",
              "      box-shadow: 0px 1px 2px rgba(60, 64, 67, 0.3), 0px 1px 3px 1px rgba(60, 64, 67, 0.15);\n",
              "      fill: #174EA6;\n",
              "    }\n",
              "\n",
              "    [theme=dark] .colab-df-convert {\n",
              "      background-color: #3B4455;\n",
              "      fill: #D2E3FC;\n",
              "    }\n",
              "\n",
              "    [theme=dark] .colab-df-convert:hover {\n",
              "      background-color: #434B5C;\n",
              "      box-shadow: 0px 1px 3px 1px rgba(0, 0, 0, 0.15);\n",
              "      filter: drop-shadow(0px 1px 2px rgba(0, 0, 0, 0.3));\n",
              "      fill: #FFFFFF;\n",
              "    }\n",
              "  </style>\n",
              "\n",
              "      <script>\n",
              "        const buttonEl =\n",
              "          document.querySelector('#df-8a496f97-c4c0-4b97-8048-6a871558c788 button.colab-df-convert');\n",
              "        buttonEl.style.display =\n",
              "          google.colab.kernel.accessAllowed ? 'block' : 'none';\n",
              "\n",
              "        async function convertToInteractive(key) {\n",
              "          const element = document.querySelector('#df-8a496f97-c4c0-4b97-8048-6a871558c788');\n",
              "          const dataTable =\n",
              "            await google.colab.kernel.invokeFunction('convertToInteractive',\n",
              "                                                     [key], {});\n",
              "          if (!dataTable) return;\n",
              "\n",
              "          const docLinkHtml = 'Like what you see? Visit the ' +\n",
              "            '<a target=\"_blank\" href=https://colab.research.google.com/notebooks/data_table.ipynb>data table notebook</a>'\n",
              "            + ' to learn more about interactive tables.';\n",
              "          element.innerHTML = '';\n",
              "          dataTable['output_type'] = 'display_data';\n",
              "          await google.colab.output.renderOutput(dataTable, element);\n",
              "          const docLink = document.createElement('div');\n",
              "          docLink.innerHTML = docLinkHtml;\n",
              "          element.appendChild(docLink);\n",
              "        }\n",
              "      </script>\n",
              "    </div>\n",
              "  </div>\n",
              "  "
            ]
          },
          "metadata": {},
          "execution_count": 115
        }
      ]
    },
    {
      "cell_type": "code",
      "source": [
        "from sklearn.ensemble import RandomForestRegressor\n",
        "from sklearn.metrics import mean_squared_error, r2_score\n",
        "import numpy as np\n",
        "\n",
        "# Create a random forest regressor with n_estimators=500, max_depth=8, and n_jobs=2\n",
        "random_forest = RandomForestRegressor(n_estimators=500, max_depth=8, n_jobs=2)\n",
        "\n",
        "# Fit the random forest to the training data\n",
        "random_forest.fit(U_train, v_train)\n",
        "\n",
        "# Make predictions on the test data\n",
        "v_pred_rf = random_forest.predict(U_test)\n",
        "\n",
        "# Calculate the mean squared error (MSE) between the predicted and actual values\n",
        "MSE = mean_squared_error(v_test, v_pred_rf)\n",
        "print(\"MSE:\", MSE)\n",
        "\n",
        "# Calculate the root mean squared error (RMSE)\n",
        "RMSE = np.sqrt(MSE)\n",
        "print(\"RMSE:\", RMSE)\n",
        "\n",
        "# Calculate the root mean squared percentage error (RMPSE)\n",
        "sales_mean = np.mean(v_test)\n",
        "RMPSE = RMSE / sales_mean\n",
        "print(\"RMPSE:\", RMPSE)\n",
        "\n",
        "# Calculate the coefficient of determination (R2 score)\n",
        "r2 = r2_score(v_test, v_pred_rf)\n",
        "print(\"R2:\", r2)\n"
      ],
      "metadata": {
        "id": "blxyhad77c5U",
        "colab": {
          "base_uri": "https://localhost:8080/"
        },
        "outputId": "8719af3b-598b-4519-b8e1-e0e8cb5aa8e5"
      },
      "execution_count": 117,
      "outputs": [
        {
          "output_type": "stream",
          "name": "stdout",
          "text": [
            "MSE: 1122043.895467731\n",
            "RMSE: 1059.2657341138392\n",
            "RMPSE: 0.18330759895285478\n",
            "R2: 0.9240668667179096\n"
          ]
        }
      ]
    },
    {
      "cell_type": "code",
      "source": [
        "from sklearn.ensemble import AdaBoostRegressor\n",
        "\n",
        "adaboost = AdaBoostRegressor(n_estimators=500, learning_rate=0.01)\n",
        "adaboost.fit(U_train, v_train)\n",
        "v_pred_ada = adaboost.predict(U_test)\n",
        "\n",
        "MSE = mean_squared_error(v_test, v_pred_ada)\n",
        "print(\"MSE :\", MSE)\n",
        "\n",
        "RMSE = np.sqrt(MSE)\n",
        "print(\"RMSE :\", RMSE)\n",
        "\n",
        "RMPSE = RMSE/sales_mean\n",
        "print(\"RMPSE :\", RMPSE)\n",
        "\n",
        "r2 = r2_score(v_test, v_pred_ada)\n",
        "print(\"R2 :\", r2)\n",
        "\n",
        "\n",
        "\n",
        "\n",
        "\n"
      ],
      "metadata": {
        "id": "EUa0f_9LOoRp",
        "colab": {
          "base_uri": "https://localhost:8080/"
        },
        "outputId": "b4442124-f112-42ff-c87e-3ef424c9a529"
      },
      "execution_count": 118,
      "outputs": [
        {
          "output_type": "stream",
          "name": "stdout",
          "text": [
            "MSE : 2296444.0474967677\n",
            "RMSE : 1515.4022724995393\n",
            "RMPSE : 0.26224274332066405\n",
            "R2 : 0.844590579176276\n"
          ]
        }
      ]
    },
    {
      "cell_type": "code",
      "source": [
        "import xgboost as xgb\n",
        "\n",
        "xgboost = xgb.XGBRegressor(n_estimators=500, max_depth=8, n_jobs=2)\n",
        "xgboost.fit(U_train, v_train)\n",
        "v_pred_xgb = xgboost.predict(U_test)\n",
        "\n",
        "MSE = mean_squared_error(v_test, v_pred_xgb)\n",
        "print(\"MSE :\", MSE)\n",
        "\n",
        "RMSE = np.sqrt(MSE)\n",
        "print(\"RMSE :\", RMSE)\n",
        "\n",
        "RMPSE = RMSE/sales_mean\n",
        "print(\"RMPSE :\", RMPSE)\n",
        "\n",
        "r2 = r2_score(v_test, v_pred_xgb)\n",
        "print(\"R2 :\", r2)\n",
        "\n",
        "\n",
        "\n",
        "\n"
      ],
      "metadata": {
        "id": "jFRTuHpUKMxn",
        "colab": {
          "base_uri": "https://localhost:8080/"
        },
        "outputId": "7aa4298b-f66f-4099-f76f-d1fa205c818a"
      },
      "execution_count": 119,
      "outputs": [
        {
          "output_type": "stream",
          "name": "stdout",
          "text": [
            "MSE : 177545.44218920538\n",
            "RMSE : 421.3614151642333\n",
            "RMPSE : 0.07291725467712691\n",
            "R2 : 0.9879848000779321\n"
          ]
        }
      ]
    },
    {
      "cell_type": "markdown",
      "source": [
        "### ***Congrats! Your model is successfully created and ready for deployment on a live server for a real user interaction !!!***"
      ],
      "metadata": {
        "id": "-Kee-DAl2viO"
      }
    },
    {
      "cell_type": "markdown",
      "source": [
        "# **Conclusion**"
      ],
      "metadata": {
        "id": "gCX9965dhzqZ"
      }
    },
    {
      "cell_type": "markdown",
      "source": [
        "We saw that Sales column contains 172817 rows with 0 sale. So we created a   new dataframe in which we removed 0 sales rows and tried to train our model. We used various algorithms and got accuracy score around **74%.**\n",
        "\n",
        "\n",
        "\n",
        "We were also curious about the total dataset(including Sales = 0 rows). So we trained another model using various algorithms and we got accuracy near about **98%** which is far better than previous model.\n",
        "\n",
        "\n",
        "\n",
        "\n",
        "So we came to conclusion that removing sales=0 rows actually removes lot of information from dataset as it has **172817**   rows which is quite large and therefore we decided not to remove those values.We got our best rmpse score from **Random Forest model,Graident boosting technique like  adaboost ,Xgboost**,we tried taking an optimum parameter so that our model doesnt overfit.\n",
        "\n",
        "\n",
        "\n",
        "\n",
        "\n",
        "\n",
        "\n",
        "\n",
        "\n",
        "\n",
        "\n"
      ],
      "metadata": {
        "id": "Fjb1IsQkh3yE"
      }
    },
    {
      "cell_type": "markdown",
      "source": [
        "### ***Hurrah! You have successfully completed your Machine Learning Capstone Project !!!***"
      ],
      "metadata": {
        "id": "gIfDvo9L0UH2"
      }
    }
  ]
}